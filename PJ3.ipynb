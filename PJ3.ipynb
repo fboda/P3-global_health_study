{
 "cells": [
  {
   "cell_type": "markdown",
   "metadata": {},
   "source": [
    "<hr style=\"height: 4px; color: #839D2D; width: 100%; \">\n",
    "\n",
    "# <font color='#61210B'>Formation OpenClassRooms   -   Parcours DATA ANALYST</font>\n",
    "\n",
    "<hr style=\"height: 2px; color: #839D2D; width: 100%; \">\n",
    "\n",
    "## <font color='#38610B'>Projet III  - Réalisez une etude de santé publique</font>\n",
    "### Réaliser une étude de grande ampleur sur le thème de la sous-nutrition dans le monde.\n",
    "Les données sont issues du site de la FAO (<http://www.fao.org/faostat/fr/#data>).  \n",
    "Voici les critères de téléchargement ainsi que les DataFrames pandas contenant ces tables/fichiers :  \n",
    "* <font color='#8A0808'>DataFrame <strong>ani</strong></font> : Bilan Alimentaire Produits Animaliers (**Pays** = tous, **Eléments** = tous, **Année** = 2013, **Groupe Produits** = Produits Animaux(liste) )\n",
    "* <font color='#8A0808'>DataFrame <strong>veg</strong></font> : Bilan Alimentaire Produits Vegetaux (**Pays** = tous, **Eléments** = tous, **Année** = 2013, **Groupe Produits** = Produits Végétaux(liste) )\n",
    "* <font color='#8A0808'>DataFrame <strong>pop</strong></font> : Bilan Alimentaire Produits Vegetaux (**Pays** = tous, **Eléments** = population totale, **Année** = 2013, **Produits** = Population )\n",
    "* <font color='#8A0808'>DataFrame <strong>ssn</strong></font> : Sous-Nutrition en Nb.personnes/Pays (**Pays** = tous, **Eléments** = population totale, **Année** = 2013-2016, **Produits** = Population )\n",
    "* <font color='#8A0808'>DataFrame <strong>cer</strong></font> : Bilan Produits Type \"cérèales\" (**Pays** = Monde, **Eléments** = tous, **Année** = 2013, **Groupe Produits** = Cérèales-Excl bière>(liste) )\n",
    "\n",
    "**<font color='#38610B'>- Date : 18 Dec 2018</font>**  \n",
    "Auteur : Frédéric Boissy\n",
    "<hr style=\"height: 4px; color: #839D2D; width: 100%; \">\n"
   ]
  },
  {
   "cell_type": "markdown",
   "metadata": {},
   "source": [
    "#####   <font color='#013ADF'>ENVIRONNEMENT DE TRAVAIL :</font> Définition - Initialisation"
   ]
  },
  {
   "cell_type": "code",
   "execution_count": 1,
   "metadata": {},
   "outputs": [],
   "source": [
    "# -*- coding: utf8 -*-\n",
    "import numpy as np\n",
    "import pandas as pd\n",
    "pd.options.display.float_format = '{:,.2f}'.format   # Nombres avec sepa milliers \",\" et 2décimales après \".\"\n",
    "pd.options.mode.use_inf_as_na = True\n",
    "import seaborn as sns\n",
    "from IPython.display import display, Markdown, HTML  # pour gérer un affichage plus joli que la fonction \"print\"\n",
    "\n",
    "import time   # Librairie temps pour calculs durée par exemple\n",
    "trt_start_time = time.time()"
   ]
  },
  {
   "cell_type": "code",
   "execution_count": 2,
   "metadata": {},
   "outputs": [],
   "source": [
    "# Pour executer des requetes SQL de verification sur des DF\n",
    "from pandasql import sqldf\n",
    "execsql = lambda q: sqldf(q, globals())   \n",
    "# req1 = ''' Select zone1, zone2 From DataFrame Where zone3=xx and zone4='xx' limit 3;'''\n",
    "# df1 = execsql(req1)\n",
    "# df1"
   ]
  },
  {
   "cell_type": "markdown",
   "metadata": {},
   "source": [
    "#####   <font color='#013ADF'>REPERTOIRE DE TRAVAIL :</font> (du Projet)\n",
    "Par defaut on utilisera celui dans lequel se trouve ce fichier jupyter - Puis on spécifie le dossier DATA"
   ]
  },
  {
   "cell_type": "code",
   "execution_count": 3,
   "metadata": {},
   "outputs": [
    {
     "name": "stdout",
     "output_type": "stream",
     "text": [
      "D:\\DATA_ANALYST\\WORK\\#GITHUB\\PJ3\\DATA\n"
     ]
    }
   ],
   "source": [
    "%cd DATA"
   ]
  },
  {
   "cell_type": "markdown",
   "metadata": {},
   "source": [
    "#####   <font color='#013ADF'>CHARGEMENT DES TABLES de la FAO :</font> dans des Dataframes \"Pandas\""
   ]
  },
  {
   "cell_type": "code",
   "execution_count": 4,
   "metadata": {
    "scrolled": false
   },
   "outputs": [],
   "source": [
    "ani = pd.read_csv(\"PJ3-Bilan_Alim_Animaux.zip\")\n",
    "veg = pd.read_csv(\"PJ3-Bilan_Alim_Vegetaux.zip\")\n",
    "pop = pd.read_csv(\"PJ3-Population_par_Pays.csv\")\n",
    "ssn = pd.read_csv(\"PJ3-Sous_Alimentation_par_Pays(2013-2016).csv\")\n",
    "cer = pd.read_csv(\"PJ3-Produits_Cerealiers_par_Pays.csv\")"
   ]
  },
  {
   "cell_type": "markdown",
   "metadata": {},
   "source": [
    "#####   <font color='#013ADF'>MISE EN FORME DES DATAFRAMES POUR LE PROJET - </font>  Colonnes : nouveaux noms, suppression colonnes inutiles"
   ]
  },
  {
   "cell_type": "markdown",
   "metadata": {},
   "source": [
    "* <font color='#0000FF'><u><strong>pop</strong>  - Population 2013, par Pays (en milliers de personnes)</u>"
   ]
  },
  {
   "cell_type": "code",
   "execution_count": 5,
   "metadata": {},
   "outputs": [
    {
     "data": {
      "text/html": [
       "<div>\n",
       "<style scoped>\n",
       "    .dataframe tbody tr th:only-of-type {\n",
       "        vertical-align: middle;\n",
       "    }\n",
       "\n",
       "    .dataframe tbody tr th {\n",
       "        vertical-align: top;\n",
       "    }\n",
       "\n",
       "    .dataframe thead th {\n",
       "        text-align: right;\n",
       "    }\n",
       "</style>\n",
       "<table border=\"1\" class=\"dataframe\">\n",
       "  <thead>\n",
       "    <tr style=\"text-align: right;\">\n",
       "      <th></th>\n",
       "      <th>CPAYS</th>\n",
       "      <th>PAYS</th>\n",
       "      <th>ANNEE</th>\n",
       "      <th>UNIT</th>\n",
       "      <th>VALP</th>\n",
       "    </tr>\n",
       "  </thead>\n",
       "  <tbody>\n",
       "    <tr>\n",
       "      <th>0</th>\n",
       "      <td>2</td>\n",
       "      <td>Afghanistan</td>\n",
       "      <td>2013</td>\n",
       "      <td>1000 personnes</td>\n",
       "      <td>30552</td>\n",
       "    </tr>\n",
       "    <tr>\n",
       "      <th>1</th>\n",
       "      <td>202</td>\n",
       "      <td>Afrique du Sud</td>\n",
       "      <td>2013</td>\n",
       "      <td>1000 personnes</td>\n",
       "      <td>52776</td>\n",
       "    </tr>\n",
       "    <tr>\n",
       "      <th>2</th>\n",
       "      <td>3</td>\n",
       "      <td>Albanie</td>\n",
       "      <td>2013</td>\n",
       "      <td>1000 personnes</td>\n",
       "      <td>3173</td>\n",
       "    </tr>\n",
       "    <tr>\n",
       "      <th>3</th>\n",
       "      <td>4</td>\n",
       "      <td>Algérie</td>\n",
       "      <td>2013</td>\n",
       "      <td>1000 personnes</td>\n",
       "      <td>39208</td>\n",
       "    </tr>\n",
       "    <tr>\n",
       "      <th>4</th>\n",
       "      <td>79</td>\n",
       "      <td>Allemagne</td>\n",
       "      <td>2013</td>\n",
       "      <td>1000 personnes</td>\n",
       "      <td>82727</td>\n",
       "    </tr>\n",
       "  </tbody>\n",
       "</table>\n",
       "</div>"
      ],
      "text/plain": [
       "   CPAYS            PAYS  ANNEE            UNIT   VALP\n",
       "0      2     Afghanistan   2013  1000 personnes  30552\n",
       "1    202  Afrique du Sud   2013  1000 personnes  52776\n",
       "2      3         Albanie   2013  1000 personnes   3173\n",
       "3      4         Algérie   2013  1000 personnes  39208\n",
       "4     79       Allemagne   2013  1000 personnes  82727"
      ]
     },
     "execution_count": 5,
     "metadata": {},
     "output_type": "execute_result"
    }
   ],
   "source": [
    "pop.columns = [\"xx1\", \"xx2\", \"CPAYS\", \"PAYS\", \"xx3\", \"xx4\", \"xx5\", \"xx6\", \"xx7\", \n",
    "               \"ANNEE\", \"UNIT\", \"VALP\", \"xx8\", \"xx9\"]\n",
    "pop.drop(columns=['xx1', 'xx2', 'xx3', 'xx4', 'xx5', 'xx6', 'xx7', 'xx8', 'xx9'], inplace=True)\n",
    "pop.head()"
   ]
  },
  {
   "cell_type": "markdown",
   "metadata": {},
   "source": [
    "* <font color='#0000FF'><u><strong>ani</strong> - Bilan Alimentaire 2013 - Catégorie \"Animaux\"</u>"
   ]
  },
  {
   "cell_type": "code",
   "execution_count": 6,
   "metadata": {},
   "outputs": [
    {
     "data": {
      "text/html": [
       "<div>\n",
       "<style scoped>\n",
       "    .dataframe tbody tr th:only-of-type {\n",
       "        vertical-align: middle;\n",
       "    }\n",
       "\n",
       "    .dataframe tbody tr th {\n",
       "        vertical-align: top;\n",
       "    }\n",
       "\n",
       "    .dataframe thead th {\n",
       "        text-align: right;\n",
       "    }\n",
       "</style>\n",
       "<table border=\"1\" class=\"dataframe\">\n",
       "  <thead>\n",
       "    <tr style=\"text-align: right;\">\n",
       "      <th></th>\n",
       "      <th>CPAYS</th>\n",
       "      <th>PAYS</th>\n",
       "      <th>CELEM</th>\n",
       "      <th>ELEMENT</th>\n",
       "      <th>CPROD</th>\n",
       "      <th>PROD</th>\n",
       "      <th>ANNEE</th>\n",
       "      <th>UNIT</th>\n",
       "      <th>VAL</th>\n",
       "    </tr>\n",
       "  </thead>\n",
       "  <tbody>\n",
       "    <tr>\n",
       "      <th>0</th>\n",
       "      <td>2</td>\n",
       "      <td>Afghanistan</td>\n",
       "      <td>5511</td>\n",
       "      <td>Production</td>\n",
       "      <td>2731</td>\n",
       "      <td>Viande de Bovins</td>\n",
       "      <td>2013</td>\n",
       "      <td>Milliers de tonnes</td>\n",
       "      <td>134.00</td>\n",
       "    </tr>\n",
       "    <tr>\n",
       "      <th>1</th>\n",
       "      <td>2</td>\n",
       "      <td>Afghanistan</td>\n",
       "      <td>5611</td>\n",
       "      <td>Importations - Quantité</td>\n",
       "      <td>2731</td>\n",
       "      <td>Viande de Bovins</td>\n",
       "      <td>2013</td>\n",
       "      <td>Milliers de tonnes</td>\n",
       "      <td>6.00</td>\n",
       "    </tr>\n",
       "  </tbody>\n",
       "</table>\n",
       "</div>"
      ],
      "text/plain": [
       "   CPAYS         PAYS  CELEM                  ELEMENT  CPROD  \\\n",
       "0      2  Afghanistan   5511               Production   2731   \n",
       "1      2  Afghanistan   5611  Importations - Quantité   2731   \n",
       "\n",
       "               PROD  ANNEE                UNIT    VAL  \n",
       "0  Viande de Bovins   2013  Milliers de tonnes 134.00  \n",
       "1  Viande de Bovins   2013  Milliers de tonnes   6.00  "
      ]
     },
     "execution_count": 6,
     "metadata": {},
     "output_type": "execute_result"
    }
   ],
   "source": [
    "ani.columns = [\"xx\", \"xx\", \"CPAYS\", \"PAYS\", \"CELEM\", \"ELEMENT\", \"CPROD\", \"PROD\", \"xx\", \n",
    "               \"ANNEE\", \"UNIT\", \"VAL\", \"xx\", \"xx\"]\n",
    "ani.drop(columns=['xx'], inplace=True)\n",
    "ani.head(2)"
   ]
  },
  {
   "cell_type": "markdown",
   "metadata": {},
   "source": [
    "* <font color='#0000FF'><u><strong>veg</strong> - Bilan Alimentaire 2013 - Catégorie \"Végétaux\"</u>"
   ]
  },
  {
   "cell_type": "code",
   "execution_count": 7,
   "metadata": {},
   "outputs": [
    {
     "data": {
      "text/html": [
       "<div>\n",
       "<style scoped>\n",
       "    .dataframe tbody tr th:only-of-type {\n",
       "        vertical-align: middle;\n",
       "    }\n",
       "\n",
       "    .dataframe tbody tr th {\n",
       "        vertical-align: top;\n",
       "    }\n",
       "\n",
       "    .dataframe thead th {\n",
       "        text-align: right;\n",
       "    }\n",
       "</style>\n",
       "<table border=\"1\" class=\"dataframe\">\n",
       "  <thead>\n",
       "    <tr style=\"text-align: right;\">\n",
       "      <th></th>\n",
       "      <th>CPAYS</th>\n",
       "      <th>PAYS</th>\n",
       "      <th>CELEM</th>\n",
       "      <th>ELEMENT</th>\n",
       "      <th>CPROD</th>\n",
       "      <th>PROD</th>\n",
       "      <th>ANNEE</th>\n",
       "      <th>UNIT</th>\n",
       "      <th>VAL</th>\n",
       "    </tr>\n",
       "  </thead>\n",
       "  <tbody>\n",
       "    <tr>\n",
       "      <th>0</th>\n",
       "      <td>2</td>\n",
       "      <td>Afghanistan</td>\n",
       "      <td>5511</td>\n",
       "      <td>Production</td>\n",
       "      <td>2511</td>\n",
       "      <td>Blé</td>\n",
       "      <td>2013</td>\n",
       "      <td>Milliers de tonnes</td>\n",
       "      <td>5,169.00</td>\n",
       "    </tr>\n",
       "    <tr>\n",
       "      <th>1</th>\n",
       "      <td>2</td>\n",
       "      <td>Afghanistan</td>\n",
       "      <td>5611</td>\n",
       "      <td>Importations - Quantité</td>\n",
       "      <td>2511</td>\n",
       "      <td>Blé</td>\n",
       "      <td>2013</td>\n",
       "      <td>Milliers de tonnes</td>\n",
       "      <td>1,173.00</td>\n",
       "    </tr>\n",
       "  </tbody>\n",
       "</table>\n",
       "</div>"
      ],
      "text/plain": [
       "   CPAYS         PAYS  CELEM                  ELEMENT  CPROD PROD  ANNEE  \\\n",
       "0      2  Afghanistan   5511               Production   2511  Blé   2013   \n",
       "1      2  Afghanistan   5611  Importations - Quantité   2511  Blé   2013   \n",
       "\n",
       "                 UNIT      VAL  \n",
       "0  Milliers de tonnes 5,169.00  \n",
       "1  Milliers de tonnes 1,173.00  "
      ]
     },
     "execution_count": 7,
     "metadata": {},
     "output_type": "execute_result"
    }
   ],
   "source": [
    "veg.columns = [\"xx\", \"xx\", \"CPAYS\", \"PAYS\", \"CELEM\", \"ELEMENT\", \"CPROD\", \"PROD\", \"xx\", \n",
    "               \"ANNEE\", \"UNIT\", \"VAL\", \"xx\", \"xx\"]\n",
    "veg.drop(columns=['xx'], inplace=True)\n",
    "veg.head(2)"
   ]
  },
  {
   "cell_type": "markdown",
   "metadata": {},
   "source": [
    "* <font color='#0000FF'><u><strong>ssn</strong> - Data Sécurité Alimentaire 2013/2016</u></font> (Nb de personnes en sous-nutrition par pays)"
   ]
  },
  {
   "cell_type": "code",
   "execution_count": 8,
   "metadata": {},
   "outputs": [
    {
     "data": {
      "text/html": [
       "<div>\n",
       "<style scoped>\n",
       "    .dataframe tbody tr th:only-of-type {\n",
       "        vertical-align: middle;\n",
       "    }\n",
       "\n",
       "    .dataframe tbody tr th {\n",
       "        vertical-align: top;\n",
       "    }\n",
       "\n",
       "    .dataframe thead th {\n",
       "        text-align: right;\n",
       "    }\n",
       "</style>\n",
       "<table border=\"1\" class=\"dataframe\">\n",
       "  <thead>\n",
       "    <tr style=\"text-align: right;\">\n",
       "      <th></th>\n",
       "      <th>CZONE</th>\n",
       "      <th>ZONE</th>\n",
       "      <th>CELEM</th>\n",
       "      <th>ELEMENT</th>\n",
       "      <th>CPROD</th>\n",
       "      <th>PROD</th>\n",
       "      <th>ANNEE</th>\n",
       "      <th>UNIT</th>\n",
       "      <th>VAL</th>\n",
       "    </tr>\n",
       "  </thead>\n",
       "  <tbody>\n",
       "    <tr>\n",
       "      <th>0</th>\n",
       "      <td>2</td>\n",
       "      <td>Afghanistan</td>\n",
       "      <td>6132</td>\n",
       "      <td>Valeur</td>\n",
       "      <td>210011</td>\n",
       "      <td>Nombre de personnes sous-alimentées (millions)...</td>\n",
       "      <td>2012-2014</td>\n",
       "      <td>millions</td>\n",
       "      <td>8.10</td>\n",
       "    </tr>\n",
       "    <tr>\n",
       "      <th>1</th>\n",
       "      <td>2</td>\n",
       "      <td>Afghanistan</td>\n",
       "      <td>6132</td>\n",
       "      <td>Valeur</td>\n",
       "      <td>210011</td>\n",
       "      <td>Nombre de personnes sous-alimentées (millions)...</td>\n",
       "      <td>2015-2017</td>\n",
       "      <td>millions</td>\n",
       "      <td>10.50</td>\n",
       "    </tr>\n",
       "  </tbody>\n",
       "</table>\n",
       "</div>"
      ],
      "text/plain": [
       "   CZONE         ZONE  CELEM ELEMENT   CPROD  \\\n",
       "0      2  Afghanistan   6132  Valeur  210011   \n",
       "1      2  Afghanistan   6132  Valeur  210011   \n",
       "\n",
       "                                                PROD      ANNEE      UNIT  \\\n",
       "0  Nombre de personnes sous-alimentées (millions)...  2012-2014  millions   \n",
       "1  Nombre de personnes sous-alimentées (millions)...  2015-2017  millions   \n",
       "\n",
       "    VAL  \n",
       "0  8.10  \n",
       "1 10.50  "
      ]
     },
     "execution_count": 8,
     "metadata": {},
     "output_type": "execute_result"
    }
   ],
   "source": [
    "ssn.columns = [\"xx\", \"xx\", \"CZONE\", \"ZONE\", \"CELEM\", \"ELEMENT\", \"CPROD\", \"PROD\", \"xx\", \n",
    "               \"ANNEE\", \"UNIT\", \"VAL\", \"xx\", \"xx\"]\n",
    "ssn.drop(columns=['xx'], inplace=True)\n",
    "ssn.head(2)"
   ]
  },
  {
   "cell_type": "markdown",
   "metadata": {},
   "source": [
    "* <font color='#0000FF'><u><strong>cer</strong> - Bilan Alimentaire 2013 - Spécifique \"Cérèales\"</u>"
   ]
  },
  {
   "cell_type": "code",
   "execution_count": 9,
   "metadata": {},
   "outputs": [
    {
     "data": {
      "text/html": [
       "<div>\n",
       "<style scoped>\n",
       "    .dataframe tbody tr th:only-of-type {\n",
       "        vertical-align: middle;\n",
       "    }\n",
       "\n",
       "    .dataframe tbody tr th {\n",
       "        vertical-align: top;\n",
       "    }\n",
       "\n",
       "    .dataframe thead th {\n",
       "        text-align: right;\n",
       "    }\n",
       "</style>\n",
       "<table border=\"1\" class=\"dataframe\">\n",
       "  <thead>\n",
       "    <tr style=\"text-align: right;\">\n",
       "      <th></th>\n",
       "      <th>CPAYS</th>\n",
       "      <th>PAYS</th>\n",
       "      <th>CELEM</th>\n",
       "      <th>ELEMENT</th>\n",
       "      <th>CPROD</th>\n",
       "      <th>PROD</th>\n",
       "      <th>ANNEE</th>\n",
       "      <th>UNIT</th>\n",
       "      <th>VAL</th>\n",
       "    </tr>\n",
       "  </thead>\n",
       "  <tbody>\n",
       "    <tr>\n",
       "      <th>0</th>\n",
       "      <td>2</td>\n",
       "      <td>Afghanistan</td>\n",
       "      <td>5511</td>\n",
       "      <td>Production</td>\n",
       "      <td>2511</td>\n",
       "      <td>Blé</td>\n",
       "      <td>2013</td>\n",
       "      <td>Milliers de tonnes</td>\n",
       "      <td>5,169.00</td>\n",
       "    </tr>\n",
       "    <tr>\n",
       "      <th>1</th>\n",
       "      <td>2</td>\n",
       "      <td>Afghanistan</td>\n",
       "      <td>5611</td>\n",
       "      <td>Importations - Quantité</td>\n",
       "      <td>2511</td>\n",
       "      <td>Blé</td>\n",
       "      <td>2013</td>\n",
       "      <td>Milliers de tonnes</td>\n",
       "      <td>1,173.00</td>\n",
       "    </tr>\n",
       "  </tbody>\n",
       "</table>\n",
       "</div>"
      ],
      "text/plain": [
       "   CPAYS         PAYS  CELEM                  ELEMENT  CPROD PROD  ANNEE  \\\n",
       "0      2  Afghanistan   5511               Production   2511  Blé   2013   \n",
       "1      2  Afghanistan   5611  Importations - Quantité   2511  Blé   2013   \n",
       "\n",
       "                 UNIT      VAL  \n",
       "0  Milliers de tonnes 5,169.00  \n",
       "1  Milliers de tonnes 1,173.00  "
      ]
     },
     "execution_count": 9,
     "metadata": {},
     "output_type": "execute_result"
    }
   ],
   "source": [
    "cer.columns = [\"xx\", \"xx\", \"CPAYS\", \"PAYS\", \"CELEM\", \"ELEMENT\", \"CPROD\", \"PROD\", \"xx\", \n",
    "               \"ANNEE\", \"UNIT\", \"VAL\", \"xx\", \"xx\"]\n",
    "cer.drop(columns=['xx'], inplace=True)\n",
    "cer.head(2)"
   ]
  },
  {
   "cell_type": "markdown",
   "metadata": {},
   "source": [
    "#####   <font color='#013ADF'>DEFINITION DE VARIABLES DE TRAVAIL :</font> (du Projet)"
   ]
  },
  {
   "cell_type": "code",
   "execution_count": 10,
   "metadata": {},
   "outputs": [],
   "source": [
    "varcp_chine = 351   # Variable code pays de la chine"
   ]
  },
  {
   "cell_type": "markdown",
   "metadata": {},
   "source": [
    "<hr style=\"height: 3px; color: #839D2D; width: 100%; \">\n",
    "\n",
    "###  <font color='#61210B'><u>QUESTION 1</u></font> : Population Mondiale - Année 2013\n",
    "- Calcul du nombre total d’humains sur la planète."
   ]
  },
  {
   "cell_type": "code",
   "execution_count": 11,
   "metadata": {},
   "outputs": [
    {
     "data": {
      "text/markdown": [
       "<strong>La Population mondiale pour l'année 2013 est :</strong><br/>  8,413,993,000"
      ],
      "text/plain": [
       "<IPython.core.display.Markdown object>"
      ]
     },
     "execution_count": 11,
     "metadata": {},
     "output_type": "execute_result"
    }
   ],
   "source": [
    "parm1 = \"La Population mondiale pour l'année 2013 est :\"\n",
    "parm2 = '{:15,.0f}'.format(pop['VALP'].sum()*1000)\n",
    "Markdown('<strong>{}</strong><br/>{}'.format(parm1, parm2))"
   ]
  },
  {
   "cell_type": "markdown",
   "metadata": {},
   "source": [
    "Le résultat semble un peu élevé. En effet, après étude, on s'aperçoit qu'il y a plusieurs lignes pour la chine.\n",
    "Il faudra donc éliminer soit la ligne \"Total\" avec code pays = 351, soit les 4 lignes details dont les codes pays sont (41,96,128,214)"
   ]
  },
  {
   "cell_type": "code",
   "execution_count": 12,
   "metadata": {
    "scrolled": false
   },
   "outputs": [
    {
     "data": {
      "text/html": [
       "<div>\n",
       "<style scoped>\n",
       "    .dataframe tbody tr th:only-of-type {\n",
       "        vertical-align: middle;\n",
       "    }\n",
       "\n",
       "    .dataframe tbody tr th {\n",
       "        vertical-align: top;\n",
       "    }\n",
       "\n",
       "    .dataframe thead th {\n",
       "        text-align: right;\n",
       "    }\n",
       "</style>\n",
       "<table border=\"1\" class=\"dataframe\">\n",
       "  <thead>\n",
       "    <tr style=\"text-align: right;\">\n",
       "      <th></th>\n",
       "      <th>CPAYS</th>\n",
       "      <th>PAYS</th>\n",
       "      <th>ANNEE</th>\n",
       "      <th>UNIT</th>\n",
       "      <th>VALP</th>\n",
       "    </tr>\n",
       "  </thead>\n",
       "  <tbody>\n",
       "    <tr>\n",
       "      <th>33</th>\n",
       "      <td>96</td>\n",
       "      <td>Chine - RAS de Hong-Kong</td>\n",
       "      <td>2013</td>\n",
       "      <td>1000 personnes</td>\n",
       "      <td>7204</td>\n",
       "    </tr>\n",
       "    <tr>\n",
       "      <th>34</th>\n",
       "      <td>128</td>\n",
       "      <td>Chine - RAS de Macao</td>\n",
       "      <td>2013</td>\n",
       "      <td>1000 personnes</td>\n",
       "      <td>566</td>\n",
       "    </tr>\n",
       "    <tr>\n",
       "      <th>35</th>\n",
       "      <td>41</td>\n",
       "      <td>Chine, continentale</td>\n",
       "      <td>2013</td>\n",
       "      <td>1000 personnes</td>\n",
       "      <td>1385567</td>\n",
       "    </tr>\n",
       "    <tr>\n",
       "      <th>36</th>\n",
       "      <td>214</td>\n",
       "      <td>Chine, Taiwan Province de</td>\n",
       "      <td>2013</td>\n",
       "      <td>1000 personnes</td>\n",
       "      <td>23330</td>\n",
       "    </tr>\n",
       "    <tr>\n",
       "      <th>174</th>\n",
       "      <td>351</td>\n",
       "      <td>Chine</td>\n",
       "      <td>2013</td>\n",
       "      <td>1000 personnes</td>\n",
       "      <td>1416667</td>\n",
       "    </tr>\n",
       "  </tbody>\n",
       "</table>\n",
       "</div>"
      ],
      "text/plain": [
       "     CPAYS                       PAYS  ANNEE            UNIT     VALP\n",
       "33      96   Chine - RAS de Hong-Kong   2013  1000 personnes     7204\n",
       "34     128       Chine - RAS de Macao   2013  1000 personnes      566\n",
       "35      41        Chine, continentale   2013  1000 personnes  1385567\n",
       "36     214  Chine, Taiwan Province de   2013  1000 personnes    23330\n",
       "174    351                      Chine   2013  1000 personnes  1416667"
      ]
     },
     "execution_count": 12,
     "metadata": {},
     "output_type": "execute_result"
    }
   ],
   "source": [
    "pop[pop['PAYS'].str.contains(\"Chin\")]                # Methode avec un \"like SQL\" sur chaine de caractère\n",
    "# pop[pop['CPAYS'].isin([41, 96, 128, 214, 351])]    # Methode avec test du CPAYS"
   ]
  },
  {
   "cell_type": "markdown",
   "metadata": {},
   "source": [
    "Suppression de la ligne pour le code pays 351.  Maj de la quantité par x1000. Suppression de la colonne unité"
   ]
  },
  {
   "cell_type": "code",
   "execution_count": 13,
   "metadata": {},
   "outputs": [],
   "source": [
    "pop.drop(columns=['UNIT'], inplace=True)\n",
    "pop.drop(pop[pop.CPAYS == varcp_chine].index, inplace=True)\n",
    "pop['VALP'] *= 1000"
   ]
  },
  {
   "cell_type": "code",
   "execution_count": 14,
   "metadata": {
    "scrolled": true
   },
   "outputs": [
    {
     "data": {
      "text/markdown": [
       "<strong>La Population mondiale pour l'année 2013 est :</strong><br/>  6,997,326,000"
      ],
      "text/plain": [
       "<IPython.core.display.Markdown object>"
      ]
     },
     "execution_count": 14,
     "metadata": {},
     "output_type": "execute_result"
    }
   ],
   "source": [
    "pop_monde = pop['VALP'].sum()  # On stocke cette valeur dans une variable pour réutilisation future\n",
    "Markdown('<strong>{}</strong><br/>{}'.format(parm1, '{:15,.0f}'.format(pop_monde)))"
   ]
  },
  {
   "cell_type": "markdown",
   "metadata": {},
   "source": [
    "<hr style=\"height: 3px; color: #839D2D; width: 100%; \">\n",
    "\n",
    "###  <font color='#61210B'><u>QUESTION 2</u></font> : Identifiez des redondances dans les Datas FAO\n",
    "    Illustration avec l'exemple du blé en France (a partir du Dataframe \"veg\")"
   ]
  },
  {
   "cell_type": "code",
   "execution_count": 15,
   "metadata": {},
   "outputs": [
    {
     "data": {
      "text/html": [
       "<div>\n",
       "<style scoped>\n",
       "    .dataframe tbody tr th:only-of-type {\n",
       "        vertical-align: middle;\n",
       "    }\n",
       "\n",
       "    .dataframe tbody tr th {\n",
       "        vertical-align: top;\n",
       "    }\n",
       "\n",
       "    .dataframe thead th {\n",
       "        text-align: right;\n",
       "    }\n",
       "</style>\n",
       "<table border=\"1\" class=\"dataframe\">\n",
       "  <thead>\n",
       "    <tr style=\"text-align: right;\">\n",
       "      <th></th>\n",
       "      <th>CPAYS</th>\n",
       "      <th>PAYS</th>\n",
       "      <th>CELEM</th>\n",
       "      <th>ELEMENT</th>\n",
       "      <th>CPROD</th>\n",
       "      <th>PROD</th>\n",
       "      <th>ANNEE</th>\n",
       "      <th>UNIT</th>\n",
       "      <th>VAL</th>\n",
       "    </tr>\n",
       "  </thead>\n",
       "  <tbody>\n",
       "    <tr>\n",
       "      <th>36006</th>\n",
       "      <td>68</td>\n",
       "      <td>France</td>\n",
       "      <td>5511</td>\n",
       "      <td>Production</td>\n",
       "      <td>2511</td>\n",
       "      <td>Blé</td>\n",
       "      <td>2013</td>\n",
       "      <td>Milliers de tonnes</td>\n",
       "      <td>38,614.00</td>\n",
       "    </tr>\n",
       "    <tr>\n",
       "      <th>36007</th>\n",
       "      <td>68</td>\n",
       "      <td>France</td>\n",
       "      <td>5611</td>\n",
       "      <td>Importations - Quantité</td>\n",
       "      <td>2511</td>\n",
       "      <td>Blé</td>\n",
       "      <td>2013</td>\n",
       "      <td>Milliers de tonnes</td>\n",
       "      <td>2,055.00</td>\n",
       "    </tr>\n",
       "    <tr>\n",
       "      <th>36008</th>\n",
       "      <td>68</td>\n",
       "      <td>France</td>\n",
       "      <td>5072</td>\n",
       "      <td>Variation de stock</td>\n",
       "      <td>2511</td>\n",
       "      <td>Blé</td>\n",
       "      <td>2013</td>\n",
       "      <td>Milliers de tonnes</td>\n",
       "      <td>1,131.00</td>\n",
       "    </tr>\n",
       "    <tr>\n",
       "      <th>36009</th>\n",
       "      <td>68</td>\n",
       "      <td>France</td>\n",
       "      <td>5911</td>\n",
       "      <td>Exportations - Quantité</td>\n",
       "      <td>2511</td>\n",
       "      <td>Blé</td>\n",
       "      <td>2013</td>\n",
       "      <td>Milliers de tonnes</td>\n",
       "      <td>21,502.00</td>\n",
       "    </tr>\n",
       "    <tr>\n",
       "      <th>36010</th>\n",
       "      <td>68</td>\n",
       "      <td>France</td>\n",
       "      <td>5301</td>\n",
       "      <td>Disponibilité intérieure</td>\n",
       "      <td>2511</td>\n",
       "      <td>Blé</td>\n",
       "      <td>2013</td>\n",
       "      <td>Milliers de tonnes</td>\n",
       "      <td>20,298.00</td>\n",
       "    </tr>\n",
       "    <tr>\n",
       "      <th>36011</th>\n",
       "      <td>68</td>\n",
       "      <td>France</td>\n",
       "      <td>5521</td>\n",
       "      <td>Aliments pour animaux</td>\n",
       "      <td>2511</td>\n",
       "      <td>Blé</td>\n",
       "      <td>2013</td>\n",
       "      <td>Milliers de tonnes</td>\n",
       "      <td>7,822.00</td>\n",
       "    </tr>\n",
       "    <tr>\n",
       "      <th>36012</th>\n",
       "      <td>68</td>\n",
       "      <td>France</td>\n",
       "      <td>5527</td>\n",
       "      <td>Semences</td>\n",
       "      <td>2511</td>\n",
       "      <td>Blé</td>\n",
       "      <td>2013</td>\n",
       "      <td>Milliers de tonnes</td>\n",
       "      <td>748.00</td>\n",
       "    </tr>\n",
       "    <tr>\n",
       "      <th>36013</th>\n",
       "      <td>68</td>\n",
       "      <td>France</td>\n",
       "      <td>5123</td>\n",
       "      <td>Pertes</td>\n",
       "      <td>2511</td>\n",
       "      <td>Blé</td>\n",
       "      <td>2013</td>\n",
       "      <td>Milliers de tonnes</td>\n",
       "      <td>358.00</td>\n",
       "    </tr>\n",
       "    <tr>\n",
       "      <th>36014</th>\n",
       "      <td>68</td>\n",
       "      <td>France</td>\n",
       "      <td>5131</td>\n",
       "      <td>Traitement</td>\n",
       "      <td>2511</td>\n",
       "      <td>Blé</td>\n",
       "      <td>2013</td>\n",
       "      <td>Milliers de tonnes</td>\n",
       "      <td>1,575.00</td>\n",
       "    </tr>\n",
       "    <tr>\n",
       "      <th>36015</th>\n",
       "      <td>68</td>\n",
       "      <td>France</td>\n",
       "      <td>5154</td>\n",
       "      <td>Autres Utilisations</td>\n",
       "      <td>2511</td>\n",
       "      <td>Blé</td>\n",
       "      <td>2013</td>\n",
       "      <td>Milliers de tonnes</td>\n",
       "      <td>2,824.00</td>\n",
       "    </tr>\n",
       "    <tr>\n",
       "      <th>36016</th>\n",
       "      <td>68</td>\n",
       "      <td>France</td>\n",
       "      <td>5142</td>\n",
       "      <td>Nourriture</td>\n",
       "      <td>2511</td>\n",
       "      <td>Blé</td>\n",
       "      <td>2013</td>\n",
       "      <td>Milliers de tonnes</td>\n",
       "      <td>6,971.00</td>\n",
       "    </tr>\n",
       "    <tr>\n",
       "      <th>36017</th>\n",
       "      <td>68</td>\n",
       "      <td>France</td>\n",
       "      <td>645</td>\n",
       "      <td>Disponibilité alimentaire en quantité (kg/pers...</td>\n",
       "      <td>2511</td>\n",
       "      <td>Blé</td>\n",
       "      <td>2013</td>\n",
       "      <td>kg</td>\n",
       "      <td>108.43</td>\n",
       "    </tr>\n",
       "    <tr>\n",
       "      <th>36018</th>\n",
       "      <td>68</td>\n",
       "      <td>France</td>\n",
       "      <td>664</td>\n",
       "      <td>Disponibilité alimentaire (Kcal/personne/jour)</td>\n",
       "      <td>2511</td>\n",
       "      <td>Blé</td>\n",
       "      <td>2013</td>\n",
       "      <td>Kcal/personne/jour</td>\n",
       "      <td>811.00</td>\n",
       "    </tr>\n",
       "    <tr>\n",
       "      <th>36019</th>\n",
       "      <td>68</td>\n",
       "      <td>France</td>\n",
       "      <td>674</td>\n",
       "      <td>Disponibilité de protéines en quantité (g/pers...</td>\n",
       "      <td>2511</td>\n",
       "      <td>Blé</td>\n",
       "      <td>2013</td>\n",
       "      <td>g/personne/jour</td>\n",
       "      <td>25.99</td>\n",
       "    </tr>\n",
       "    <tr>\n",
       "      <th>36020</th>\n",
       "      <td>68</td>\n",
       "      <td>France</td>\n",
       "      <td>684</td>\n",
       "      <td>Disponibilité de matière grasse en quantité (g...</td>\n",
       "      <td>2511</td>\n",
       "      <td>Blé</td>\n",
       "      <td>2013</td>\n",
       "      <td>g/personne/jour</td>\n",
       "      <td>4.20</td>\n",
       "    </tr>\n",
       "  </tbody>\n",
       "</table>\n",
       "</div>"
      ],
      "text/plain": [
       "       CPAYS    PAYS  CELEM  \\\n",
       "36006     68  France   5511   \n",
       "36007     68  France   5611   \n",
       "36008     68  France   5072   \n",
       "36009     68  France   5911   \n",
       "36010     68  France   5301   \n",
       "36011     68  France   5521   \n",
       "36012     68  France   5527   \n",
       "36013     68  France   5123   \n",
       "36014     68  France   5131   \n",
       "36015     68  France   5154   \n",
       "36016     68  France   5142   \n",
       "36017     68  France    645   \n",
       "36018     68  France    664   \n",
       "36019     68  France    674   \n",
       "36020     68  France    684   \n",
       "\n",
       "                                                 ELEMENT  CPROD PROD  ANNEE  \\\n",
       "36006                                         Production   2511  Blé   2013   \n",
       "36007                            Importations - Quantité   2511  Blé   2013   \n",
       "36008                                 Variation de stock   2511  Blé   2013   \n",
       "36009                            Exportations - Quantité   2511  Blé   2013   \n",
       "36010                           Disponibilité intérieure   2511  Blé   2013   \n",
       "36011                              Aliments pour animaux   2511  Blé   2013   \n",
       "36012                                           Semences   2511  Blé   2013   \n",
       "36013                                             Pertes   2511  Blé   2013   \n",
       "36014                                         Traitement   2511  Blé   2013   \n",
       "36015                                Autres Utilisations   2511  Blé   2013   \n",
       "36016                                         Nourriture   2511  Blé   2013   \n",
       "36017  Disponibilité alimentaire en quantité (kg/pers...   2511  Blé   2013   \n",
       "36018     Disponibilité alimentaire (Kcal/personne/jour)   2511  Blé   2013   \n",
       "36019  Disponibilité de protéines en quantité (g/pers...   2511  Blé   2013   \n",
       "36020  Disponibilité de matière grasse en quantité (g...   2511  Blé   2013   \n",
       "\n",
       "                     UNIT       VAL  \n",
       "36006  Milliers de tonnes 38,614.00  \n",
       "36007  Milliers de tonnes  2,055.00  \n",
       "36008  Milliers de tonnes  1,131.00  \n",
       "36009  Milliers de tonnes 21,502.00  \n",
       "36010  Milliers de tonnes 20,298.00  \n",
       "36011  Milliers de tonnes  7,822.00  \n",
       "36012  Milliers de tonnes    748.00  \n",
       "36013  Milliers de tonnes    358.00  \n",
       "36014  Milliers de tonnes  1,575.00  \n",
       "36015  Milliers de tonnes  2,824.00  \n",
       "36016  Milliers de tonnes  6,971.00  \n",
       "36017                  kg    108.43  \n",
       "36018  Kcal/personne/jour    811.00  \n",
       "36019     g/personne/jour     25.99  \n",
       "36020     g/personne/jour      4.20  "
      ]
     },
     "execution_count": 15,
     "metadata": {},
     "output_type": "execute_result"
    }
   ],
   "source": [
    "veg[(veg['CPAYS'] == 68) & (veg['CPROD'] == 2511)].head(20)"
   ]
  },
  {
   "cell_type": "markdown",
   "metadata": {},
   "source": [
    "Effectivement, il y a des données redondantes. On peut définir par exemple, les formules suivantes :\n",
    "\n",
    "* [Production] + [Importations Quantite] + [Variation de Stock] **=** <font color='#21610B'>[Disponibilite interieure]</font> + [Exportations Quantite] \n",
    "\n",
    "* <font color='#21610B'>[Disponibilite interieure]</font> **=** [Aliments pour animaux] + [Semences] + [Pertes] + [Traitement] + [Autres Utilisations] + [Nourriture]\n"
   ]
  },
  {
   "cell_type": "markdown",
   "metadata": {},
   "source": [
    "<hr style=\"height: 3px; color: #839D2D; width: 100%; \">\n",
    "\n",
    "###  <font color='#61210B'><u>QUESTION 3</u></font> : Calculs de Disponibilité Alimentaire  (par Pays/Produit)\n",
    "    \n",
    "    Exprimée en kcal, puis en Kg de protéines"
   ]
  },
  {
   "cell_type": "markdown",
   "metadata": {},
   "source": [
    "#####   <font color='#61210B'>Regroupement des Dataframes \"ani\" et \"veg\"</font>  - Ajout de la population (issu du DF pop) et de l\"origine\" dans un nouveau DF généré : \"gen\""
   ]
  },
  {
   "cell_type": "code",
   "execution_count": 16,
   "metadata": {
    "scrolled": true
   },
   "outputs": [
    {
     "data": {
      "text/html": [
       "<div>\n",
       "<style scoped>\n",
       "    .dataframe tbody tr th:only-of-type {\n",
       "        vertical-align: middle;\n",
       "    }\n",
       "\n",
       "    .dataframe tbody tr th {\n",
       "        vertical-align: top;\n",
       "    }\n",
       "\n",
       "    .dataframe thead th {\n",
       "        text-align: right;\n",
       "    }\n",
       "</style>\n",
       "<table border=\"1\" class=\"dataframe\">\n",
       "  <thead>\n",
       "    <tr style=\"text-align: right;\">\n",
       "      <th></th>\n",
       "      <th>CPAYS</th>\n",
       "      <th>PAYS</th>\n",
       "      <th>CELEM</th>\n",
       "      <th>ELEMENT</th>\n",
       "      <th>CPROD</th>\n",
       "      <th>PROD</th>\n",
       "      <th>ANNEE</th>\n",
       "      <th>UNIT</th>\n",
       "      <th>VAL</th>\n",
       "      <th>ORIG</th>\n",
       "    </tr>\n",
       "  </thead>\n",
       "  <tbody>\n",
       "    <tr>\n",
       "      <th>0</th>\n",
       "      <td>2</td>\n",
       "      <td>Afghanistan</td>\n",
       "      <td>5511</td>\n",
       "      <td>Production</td>\n",
       "      <td>2731</td>\n",
       "      <td>Viande de Bovins</td>\n",
       "      <td>2013</td>\n",
       "      <td>Milliers de tonnes</td>\n",
       "      <td>134.00</td>\n",
       "      <td>animal</td>\n",
       "    </tr>\n",
       "    <tr>\n",
       "      <th>1</th>\n",
       "      <td>2</td>\n",
       "      <td>Afghanistan</td>\n",
       "      <td>5611</td>\n",
       "      <td>Importations - Quantité</td>\n",
       "      <td>2731</td>\n",
       "      <td>Viande de Bovins</td>\n",
       "      <td>2013</td>\n",
       "      <td>Milliers de tonnes</td>\n",
       "      <td>6.00</td>\n",
       "      <td>animal</td>\n",
       "    </tr>\n",
       "    <tr>\n",
       "      <th>2</th>\n",
       "      <td>2</td>\n",
       "      <td>Afghanistan</td>\n",
       "      <td>5301</td>\n",
       "      <td>Disponibilité intérieure</td>\n",
       "      <td>2731</td>\n",
       "      <td>Viande de Bovins</td>\n",
       "      <td>2013</td>\n",
       "      <td>Milliers de tonnes</td>\n",
       "      <td>140.00</td>\n",
       "      <td>animal</td>\n",
       "    </tr>\n",
       "    <tr>\n",
       "      <th>3</th>\n",
       "      <td>2</td>\n",
       "      <td>Afghanistan</td>\n",
       "      <td>5142</td>\n",
       "      <td>Nourriture</td>\n",
       "      <td>2731</td>\n",
       "      <td>Viande de Bovins</td>\n",
       "      <td>2013</td>\n",
       "      <td>Milliers de tonnes</td>\n",
       "      <td>140.00</td>\n",
       "      <td>animal</td>\n",
       "    </tr>\n",
       "    <tr>\n",
       "      <th>4</th>\n",
       "      <td>2</td>\n",
       "      <td>Afghanistan</td>\n",
       "      <td>645</td>\n",
       "      <td>Disponibilité alimentaire en quantité (kg/pers...</td>\n",
       "      <td>2731</td>\n",
       "      <td>Viande de Bovins</td>\n",
       "      <td>2013</td>\n",
       "      <td>kg</td>\n",
       "      <td>4.59</td>\n",
       "      <td>animal</td>\n",
       "    </tr>\n",
       "  </tbody>\n",
       "</table>\n",
       "</div>"
      ],
      "text/plain": [
       "   CPAYS         PAYS  CELEM  \\\n",
       "0      2  Afghanistan   5511   \n",
       "1      2  Afghanistan   5611   \n",
       "2      2  Afghanistan   5301   \n",
       "3      2  Afghanistan   5142   \n",
       "4      2  Afghanistan    645   \n",
       "\n",
       "                                             ELEMENT  CPROD              PROD  \\\n",
       "0                                         Production   2731  Viande de Bovins   \n",
       "1                            Importations - Quantité   2731  Viande de Bovins   \n",
       "2                           Disponibilité intérieure   2731  Viande de Bovins   \n",
       "3                                         Nourriture   2731  Viande de Bovins   \n",
       "4  Disponibilité alimentaire en quantité (kg/pers...   2731  Viande de Bovins   \n",
       "\n",
       "   ANNEE                UNIT    VAL    ORIG  \n",
       "0   2013  Milliers de tonnes 134.00  animal  \n",
       "1   2013  Milliers de tonnes   6.00  animal  \n",
       "2   2013  Milliers de tonnes 140.00  animal  \n",
       "3   2013  Milliers de tonnes 140.00  animal  \n",
       "4   2013                  kg   4.59  animal  "
      ]
     },
     "execution_count": 16,
     "metadata": {},
     "output_type": "execute_result"
    }
   ],
   "source": [
    "ani[\"ORIG\"] = \"animal\"\n",
    "veg[\"ORIG\"] = \"vegetal\"\n",
    "temp = ani.append(veg)\n",
    "temp.head()"
   ]
  },
  {
   "cell_type": "markdown",
   "metadata": {},
   "source": [
    "#####   <font color='#61210B'>Affichage des valeurs uniques de la colonne ELEMENT</font>  => Noms des futures colonnes que va générer le \"pivot\" à l'instruction suivante\n",
    "Attention au TRI par Code Element : Il déterminera l'ordre de nos futures colonnes car on gardera l'ordre de tri dans le pivot"
   ]
  },
  {
   "cell_type": "code",
   "execution_count": 17,
   "metadata": {
    "scrolled": true
   },
   "outputs": [
    {
     "data": {
      "text/html": [
       "<div>\n",
       "<style scoped>\n",
       "    .dataframe tbody tr th:only-of-type {\n",
       "        vertical-align: middle;\n",
       "    }\n",
       "\n",
       "    .dataframe tbody tr th {\n",
       "        vertical-align: top;\n",
       "    }\n",
       "\n",
       "    .dataframe thead th {\n",
       "        text-align: right;\n",
       "    }\n",
       "</style>\n",
       "<table border=\"1\" class=\"dataframe\">\n",
       "  <thead>\n",
       "    <tr style=\"text-align: right;\">\n",
       "      <th></th>\n",
       "      <th>CELEM</th>\n",
       "      <th>ELEMENT</th>\n",
       "    </tr>\n",
       "  </thead>\n",
       "  <tbody>\n",
       "    <tr>\n",
       "      <th>0</th>\n",
       "      <td>645</td>\n",
       "      <td>Disponibilité alimentaire en quantité (kg/pers...</td>\n",
       "    </tr>\n",
       "    <tr>\n",
       "      <th>1</th>\n",
       "      <td>664</td>\n",
       "      <td>Disponibilité alimentaire (Kcal/personne/jour)</td>\n",
       "    </tr>\n",
       "    <tr>\n",
       "      <th>2</th>\n",
       "      <td>674</td>\n",
       "      <td>Disponibilité de protéines en quantité (g/pers...</td>\n",
       "    </tr>\n",
       "    <tr>\n",
       "      <th>3</th>\n",
       "      <td>684</td>\n",
       "      <td>Disponibilité de matière grasse en quantité (g...</td>\n",
       "    </tr>\n",
       "    <tr>\n",
       "      <th>4</th>\n",
       "      <td>5072</td>\n",
       "      <td>Variation de stock</td>\n",
       "    </tr>\n",
       "    <tr>\n",
       "      <th>5</th>\n",
       "      <td>5123</td>\n",
       "      <td>Pertes</td>\n",
       "    </tr>\n",
       "    <tr>\n",
       "      <th>6</th>\n",
       "      <td>5131</td>\n",
       "      <td>Traitement</td>\n",
       "    </tr>\n",
       "    <tr>\n",
       "      <th>7</th>\n",
       "      <td>5142</td>\n",
       "      <td>Nourriture</td>\n",
       "    </tr>\n",
       "    <tr>\n",
       "      <th>8</th>\n",
       "      <td>5154</td>\n",
       "      <td>Autres Utilisations</td>\n",
       "    </tr>\n",
       "    <tr>\n",
       "      <th>9</th>\n",
       "      <td>5301</td>\n",
       "      <td>Disponibilité intérieure</td>\n",
       "    </tr>\n",
       "    <tr>\n",
       "      <th>10</th>\n",
       "      <td>5511</td>\n",
       "      <td>Production</td>\n",
       "    </tr>\n",
       "    <tr>\n",
       "      <th>11</th>\n",
       "      <td>5521</td>\n",
       "      <td>Aliments pour animaux</td>\n",
       "    </tr>\n",
       "    <tr>\n",
       "      <th>12</th>\n",
       "      <td>5527</td>\n",
       "      <td>Semences</td>\n",
       "    </tr>\n",
       "    <tr>\n",
       "      <th>13</th>\n",
       "      <td>5611</td>\n",
       "      <td>Importations - Quantité</td>\n",
       "    </tr>\n",
       "    <tr>\n",
       "      <th>14</th>\n",
       "      <td>5911</td>\n",
       "      <td>Exportations - Quantité</td>\n",
       "    </tr>\n",
       "  </tbody>\n",
       "</table>\n",
       "</div>"
      ],
      "text/plain": [
       "    CELEM                                            ELEMENT\n",
       "0     645  Disponibilité alimentaire en quantité (kg/pers...\n",
       "1     664     Disponibilité alimentaire (Kcal/personne/jour)\n",
       "2     674  Disponibilité de protéines en quantité (g/pers...\n",
       "3     684  Disponibilité de matière grasse en quantité (g...\n",
       "4    5072                                 Variation de stock\n",
       "5    5123                                             Pertes\n",
       "6    5131                                         Traitement\n",
       "7    5142                                         Nourriture\n",
       "8    5154                                Autres Utilisations\n",
       "9    5301                           Disponibilité intérieure\n",
       "10   5511                                         Production\n",
       "11   5521                              Aliments pour animaux\n",
       "12   5527                                           Semences\n",
       "13   5611                            Importations - Quantité\n",
       "14   5911                            Exportations - Quantité"
      ]
     },
     "execution_count": 17,
     "metadata": {},
     "output_type": "execute_result"
    }
   ],
   "source": [
    "req1 = '''Select Distinct CELEM, ELEMENT From temp \n",
    "Order by CELEM limit 20;'''\n",
    "execsql(req1)"
   ]
  },
  {
   "cell_type": "markdown",
   "metadata": {},
   "source": [
    "#####   <font color='#61210B'>Pivot sur le dataframeT</font>  => Les \"valeurs\" de la colonne élément \"pivotent\" , pouur devenir des colonnes uniques"
   ]
  },
  {
   "cell_type": "code",
   "execution_count": 18,
   "metadata": {
    "scrolled": true
   },
   "outputs": [],
   "source": [
    "data = temp.pivot_table(\n",
    "    index=[\"CPAYS\",\"PAYS\",\"CPROD\",\"PROD\",\"ANNEE\",\"ORIG\"],\n",
    "    columns = [\"CELEM\", \"ELEMENT\", \"UNIT\"], values=[\"VAL\"], aggfunc=sum)\n",
    "data.columns = ['QT_DISPALI_KG', 'QT_DISPALI_KCAL', 'QT_DISPROT', 'QT_DISPMG', 'QT_VARSTOCK', 'QT_PERTES',\n",
    "                'QT_TRANSF', 'QT_NOURRIT', 'QT_AUTRES', 'QT_DISPINT', 'QT_PRODUCT', 'QT_ALIMANI', \n",
    "                'QT_SEMENCES', 'QT_IMPORT', 'QT_EXPORT']\n",
    "data = data.reset_index()"
   ]
  },
  {
   "cell_type": "markdown",
   "metadata": {},
   "source": [
    "#####   <font color='#61210B'>Jointure avec Df population pour ajout de la colonne VALP</font>  => Nouveau DF finalisé = gen\n",
    "\n",
    "Particularité : la jointure avec le Dataframe pop permet d'exclure les données redondantes de la chine (code pays = 351)"
   ]
  },
  {
   "cell_type": "code",
   "execution_count": 19,
   "metadata": {
    "scrolled": true
   },
   "outputs": [
    {
     "data": {
      "text/html": [
       "<div>\n",
       "<style scoped>\n",
       "    .dataframe tbody tr th:only-of-type {\n",
       "        vertical-align: middle;\n",
       "    }\n",
       "\n",
       "    .dataframe tbody tr th {\n",
       "        vertical-align: top;\n",
       "    }\n",
       "\n",
       "    .dataframe thead th {\n",
       "        text-align: right;\n",
       "    }\n",
       "</style>\n",
       "<table border=\"1\" class=\"dataframe\">\n",
       "  <thead>\n",
       "    <tr style=\"text-align: right;\">\n",
       "      <th></th>\n",
       "      <th>CPAYS</th>\n",
       "      <th>PAYS</th>\n",
       "      <th>ANNEE</th>\n",
       "      <th>VALP</th>\n",
       "      <th>CPROD</th>\n",
       "      <th>PROD</th>\n",
       "      <th>ORIG</th>\n",
       "      <th>QT_DISPALI_KG</th>\n",
       "      <th>QT_DISPALI_KCAL</th>\n",
       "      <th>QT_DISPROT</th>\n",
       "      <th>...</th>\n",
       "      <th>QT_PERTES</th>\n",
       "      <th>QT_TRANSF</th>\n",
       "      <th>QT_NOURRIT</th>\n",
       "      <th>QT_AUTRES</th>\n",
       "      <th>QT_DISPINT</th>\n",
       "      <th>QT_PRODUCT</th>\n",
       "      <th>QT_ALIMANI</th>\n",
       "      <th>QT_SEMENCES</th>\n",
       "      <th>QT_IMPORT</th>\n",
       "      <th>QT_EXPORT</th>\n",
       "    </tr>\n",
       "  </thead>\n",
       "  <tbody>\n",
       "    <tr>\n",
       "      <th>0</th>\n",
       "      <td>2</td>\n",
       "      <td>Afghanistan</td>\n",
       "      <td>2013</td>\n",
       "      <td>30552000</td>\n",
       "      <td>2511</td>\n",
       "      <td>Blé</td>\n",
       "      <td>vegetal</td>\n",
       "      <td>160.23</td>\n",
       "      <td>1,369.00</td>\n",
       "      <td>36.91</td>\n",
       "      <td>...</td>\n",
       "      <td>775.00</td>\n",
       "      <td>nan</td>\n",
       "      <td>4,895.00</td>\n",
       "      <td>nan</td>\n",
       "      <td>5,992.00</td>\n",
       "      <td>5,169.00</td>\n",
       "      <td>nan</td>\n",
       "      <td>322.00</td>\n",
       "      <td>1,173.00</td>\n",
       "      <td>nan</td>\n",
       "    </tr>\n",
       "    <tr>\n",
       "      <th>1</th>\n",
       "      <td>2</td>\n",
       "      <td>Afghanistan</td>\n",
       "      <td>2013</td>\n",
       "      <td>30552000</td>\n",
       "      <td>2513</td>\n",
       "      <td>Orge</td>\n",
       "      <td>vegetal</td>\n",
       "      <td>2.92</td>\n",
       "      <td>26.00</td>\n",
       "      <td>0.79</td>\n",
       "      <td>...</td>\n",
       "      <td>52.00</td>\n",
       "      <td>nan</td>\n",
       "      <td>89.00</td>\n",
       "      <td>nan</td>\n",
       "      <td>524.00</td>\n",
       "      <td>514.00</td>\n",
       "      <td>360.00</td>\n",
       "      <td>22.00</td>\n",
       "      <td>10.00</td>\n",
       "      <td>nan</td>\n",
       "    </tr>\n",
       "    <tr>\n",
       "      <th>2</th>\n",
       "      <td>2</td>\n",
       "      <td>Afghanistan</td>\n",
       "      <td>2013</td>\n",
       "      <td>30552000</td>\n",
       "      <td>2514</td>\n",
       "      <td>Maïs</td>\n",
       "      <td>vegetal</td>\n",
       "      <td>2.50</td>\n",
       "      <td>21.00</td>\n",
       "      <td>0.56</td>\n",
       "      <td>...</td>\n",
       "      <td>31.00</td>\n",
       "      <td>nan</td>\n",
       "      <td>76.00</td>\n",
       "      <td>nan</td>\n",
       "      <td>313.00</td>\n",
       "      <td>312.00</td>\n",
       "      <td>200.00</td>\n",
       "      <td>5.00</td>\n",
       "      <td>1.00</td>\n",
       "      <td>0.00</td>\n",
       "    </tr>\n",
       "    <tr>\n",
       "      <th>3</th>\n",
       "      <td>2</td>\n",
       "      <td>Afghanistan</td>\n",
       "      <td>2013</td>\n",
       "      <td>30552000</td>\n",
       "      <td>2517</td>\n",
       "      <td>Millet</td>\n",
       "      <td>vegetal</td>\n",
       "      <td>0.40</td>\n",
       "      <td>3.00</td>\n",
       "      <td>0.08</td>\n",
       "      <td>...</td>\n",
       "      <td>1.00</td>\n",
       "      <td>nan</td>\n",
       "      <td>12.00</td>\n",
       "      <td>nan</td>\n",
       "      <td>13.00</td>\n",
       "      <td>13.00</td>\n",
       "      <td>nan</td>\n",
       "      <td>0.00</td>\n",
       "      <td>nan</td>\n",
       "      <td>nan</td>\n",
       "    </tr>\n",
       "    <tr>\n",
       "      <th>4</th>\n",
       "      <td>2</td>\n",
       "      <td>Afghanistan</td>\n",
       "      <td>2013</td>\n",
       "      <td>30552000</td>\n",
       "      <td>2520</td>\n",
       "      <td>Céréales, Autres</td>\n",
       "      <td>vegetal</td>\n",
       "      <td>0.00</td>\n",
       "      <td>0.00</td>\n",
       "      <td>0.00</td>\n",
       "      <td>...</td>\n",
       "      <td>nan</td>\n",
       "      <td>nan</td>\n",
       "      <td>0.00</td>\n",
       "      <td>nan</td>\n",
       "      <td>0.00</td>\n",
       "      <td>nan</td>\n",
       "      <td>nan</td>\n",
       "      <td>nan</td>\n",
       "      <td>0.00</td>\n",
       "      <td>nan</td>\n",
       "    </tr>\n",
       "  </tbody>\n",
       "</table>\n",
       "<p>5 rows × 22 columns</p>\n",
       "</div>"
      ],
      "text/plain": [
       "   CPAYS         PAYS  ANNEE      VALP  CPROD              PROD     ORIG  \\\n",
       "0      2  Afghanistan   2013  30552000   2511               Blé  vegetal   \n",
       "1      2  Afghanistan   2013  30552000   2513              Orge  vegetal   \n",
       "2      2  Afghanistan   2013  30552000   2514              Maïs  vegetal   \n",
       "3      2  Afghanistan   2013  30552000   2517            Millet  vegetal   \n",
       "4      2  Afghanistan   2013  30552000   2520  Céréales, Autres  vegetal   \n",
       "\n",
       "   QT_DISPALI_KG  QT_DISPALI_KCAL  QT_DISPROT  ...  QT_PERTES  QT_TRANSF  \\\n",
       "0         160.23         1,369.00       36.91  ...     775.00        nan   \n",
       "1           2.92            26.00        0.79  ...      52.00        nan   \n",
       "2           2.50            21.00        0.56  ...      31.00        nan   \n",
       "3           0.40             3.00        0.08  ...       1.00        nan   \n",
       "4           0.00             0.00        0.00  ...        nan        nan   \n",
       "\n",
       "   QT_NOURRIT  QT_AUTRES  QT_DISPINT  QT_PRODUCT  QT_ALIMANI  QT_SEMENCES  \\\n",
       "0    4,895.00        nan    5,992.00    5,169.00         nan       322.00   \n",
       "1       89.00        nan      524.00      514.00      360.00        22.00   \n",
       "2       76.00        nan      313.00      312.00      200.00         5.00   \n",
       "3       12.00        nan       13.00       13.00         nan         0.00   \n",
       "4        0.00        nan        0.00         nan         nan          nan   \n",
       "\n",
       "   QT_IMPORT  QT_EXPORT  \n",
       "0   1,173.00        nan  \n",
       "1      10.00        nan  \n",
       "2       1.00       0.00  \n",
       "3        nan        nan  \n",
       "4       0.00        nan  \n",
       "\n",
       "[5 rows x 22 columns]"
      ]
     },
     "execution_count": 19,
     "metadata": {},
     "output_type": "execute_result"
    }
   ],
   "source": [
    "gen = pd.merge(pop, data, how=\"left\")\n",
    "gen.head()"
   ]
  },
  {
   "cell_type": "markdown",
   "metadata": {},
   "source": [
    "#####   <font color='#61210B'>Reséquencement Arbitraire des Colonnes du Dataframe"
   ]
  },
  {
   "cell_type": "code",
   "execution_count": 20,
   "metadata": {},
   "outputs": [
    {
     "data": {
      "text/html": [
       "<div>\n",
       "<style scoped>\n",
       "    .dataframe tbody tr th:only-of-type {\n",
       "        vertical-align: middle;\n",
       "    }\n",
       "\n",
       "    .dataframe tbody tr th {\n",
       "        vertical-align: top;\n",
       "    }\n",
       "\n",
       "    .dataframe thead th {\n",
       "        text-align: right;\n",
       "    }\n",
       "</style>\n",
       "<table border=\"1\" class=\"dataframe\">\n",
       "  <thead>\n",
       "    <tr style=\"text-align: right;\">\n",
       "      <th></th>\n",
       "      <th>ANNEE</th>\n",
       "      <th>CPAYS</th>\n",
       "      <th>PAYS</th>\n",
       "      <th>VALP</th>\n",
       "      <th>CPROD</th>\n",
       "      <th>PROD</th>\n",
       "      <th>ORIG</th>\n",
       "      <th>QT_DISPALI_KG</th>\n",
       "      <th>QT_DISPALI_KCAL</th>\n",
       "      <th>QT_DISPROT</th>\n",
       "      <th>...</th>\n",
       "      <th>QT_IMPORT</th>\n",
       "      <th>QT_VARSTOCK</th>\n",
       "      <th>QT_EXPORT</th>\n",
       "      <th>QT_DISPINT</th>\n",
       "      <th>QT_ALIMANI</th>\n",
       "      <th>QT_SEMENCES</th>\n",
       "      <th>QT_PERTES</th>\n",
       "      <th>QT_TRANSF</th>\n",
       "      <th>QT_AUTRES</th>\n",
       "      <th>QT_NOURRIT</th>\n",
       "    </tr>\n",
       "  </thead>\n",
       "  <tbody>\n",
       "    <tr>\n",
       "      <th>0</th>\n",
       "      <td>2013</td>\n",
       "      <td>2</td>\n",
       "      <td>Afghanistan</td>\n",
       "      <td>30552000</td>\n",
       "      <td>2511</td>\n",
       "      <td>Blé</td>\n",
       "      <td>vegetal</td>\n",
       "      <td>160.23</td>\n",
       "      <td>1,369.00</td>\n",
       "      <td>36.91</td>\n",
       "      <td>...</td>\n",
       "      <td>1,173.00</td>\n",
       "      <td>-350.00</td>\n",
       "      <td>nan</td>\n",
       "      <td>5,992.00</td>\n",
       "      <td>nan</td>\n",
       "      <td>322.00</td>\n",
       "      <td>775.00</td>\n",
       "      <td>nan</td>\n",
       "      <td>nan</td>\n",
       "      <td>4,895.00</td>\n",
       "    </tr>\n",
       "    <tr>\n",
       "      <th>1</th>\n",
       "      <td>2013</td>\n",
       "      <td>2</td>\n",
       "      <td>Afghanistan</td>\n",
       "      <td>30552000</td>\n",
       "      <td>2513</td>\n",
       "      <td>Orge</td>\n",
       "      <td>vegetal</td>\n",
       "      <td>2.92</td>\n",
       "      <td>26.00</td>\n",
       "      <td>0.79</td>\n",
       "      <td>...</td>\n",
       "      <td>10.00</td>\n",
       "      <td>0.00</td>\n",
       "      <td>nan</td>\n",
       "      <td>524.00</td>\n",
       "      <td>360.00</td>\n",
       "      <td>22.00</td>\n",
       "      <td>52.00</td>\n",
       "      <td>nan</td>\n",
       "      <td>nan</td>\n",
       "      <td>89.00</td>\n",
       "    </tr>\n",
       "    <tr>\n",
       "      <th>2</th>\n",
       "      <td>2013</td>\n",
       "      <td>2</td>\n",
       "      <td>Afghanistan</td>\n",
       "      <td>30552000</td>\n",
       "      <td>2514</td>\n",
       "      <td>Maïs</td>\n",
       "      <td>vegetal</td>\n",
       "      <td>2.50</td>\n",
       "      <td>21.00</td>\n",
       "      <td>0.56</td>\n",
       "      <td>...</td>\n",
       "      <td>1.00</td>\n",
       "      <td>nan</td>\n",
       "      <td>0.00</td>\n",
       "      <td>313.00</td>\n",
       "      <td>200.00</td>\n",
       "      <td>5.00</td>\n",
       "      <td>31.00</td>\n",
       "      <td>nan</td>\n",
       "      <td>nan</td>\n",
       "      <td>76.00</td>\n",
       "    </tr>\n",
       "    <tr>\n",
       "      <th>3</th>\n",
       "      <td>2013</td>\n",
       "      <td>2</td>\n",
       "      <td>Afghanistan</td>\n",
       "      <td>30552000</td>\n",
       "      <td>2517</td>\n",
       "      <td>Millet</td>\n",
       "      <td>vegetal</td>\n",
       "      <td>0.40</td>\n",
       "      <td>3.00</td>\n",
       "      <td>0.08</td>\n",
       "      <td>...</td>\n",
       "      <td>nan</td>\n",
       "      <td>nan</td>\n",
       "      <td>nan</td>\n",
       "      <td>13.00</td>\n",
       "      <td>nan</td>\n",
       "      <td>0.00</td>\n",
       "      <td>1.00</td>\n",
       "      <td>nan</td>\n",
       "      <td>nan</td>\n",
       "      <td>12.00</td>\n",
       "    </tr>\n",
       "    <tr>\n",
       "      <th>4</th>\n",
       "      <td>2013</td>\n",
       "      <td>2</td>\n",
       "      <td>Afghanistan</td>\n",
       "      <td>30552000</td>\n",
       "      <td>2520</td>\n",
       "      <td>Céréales, Autres</td>\n",
       "      <td>vegetal</td>\n",
       "      <td>0.00</td>\n",
       "      <td>0.00</td>\n",
       "      <td>0.00</td>\n",
       "      <td>...</td>\n",
       "      <td>0.00</td>\n",
       "      <td>nan</td>\n",
       "      <td>nan</td>\n",
       "      <td>0.00</td>\n",
       "      <td>nan</td>\n",
       "      <td>nan</td>\n",
       "      <td>nan</td>\n",
       "      <td>nan</td>\n",
       "      <td>nan</td>\n",
       "      <td>0.00</td>\n",
       "    </tr>\n",
       "  </tbody>\n",
       "</table>\n",
       "<p>5 rows × 22 columns</p>\n",
       "</div>"
      ],
      "text/plain": [
       "   ANNEE  CPAYS         PAYS      VALP  CPROD              PROD     ORIG  \\\n",
       "0   2013      2  Afghanistan  30552000   2511               Blé  vegetal   \n",
       "1   2013      2  Afghanistan  30552000   2513              Orge  vegetal   \n",
       "2   2013      2  Afghanistan  30552000   2514              Maïs  vegetal   \n",
       "3   2013      2  Afghanistan  30552000   2517            Millet  vegetal   \n",
       "4   2013      2  Afghanistan  30552000   2520  Céréales, Autres  vegetal   \n",
       "\n",
       "   QT_DISPALI_KG  QT_DISPALI_KCAL  QT_DISPROT  ...  QT_IMPORT  QT_VARSTOCK  \\\n",
       "0         160.23         1,369.00       36.91  ...   1,173.00      -350.00   \n",
       "1           2.92            26.00        0.79  ...      10.00         0.00   \n",
       "2           2.50            21.00        0.56  ...       1.00          nan   \n",
       "3           0.40             3.00        0.08  ...        nan          nan   \n",
       "4           0.00             0.00        0.00  ...       0.00          nan   \n",
       "\n",
       "   QT_EXPORT  QT_DISPINT  QT_ALIMANI  QT_SEMENCES  QT_PERTES  QT_TRANSF  \\\n",
       "0        nan    5,992.00         nan       322.00     775.00        nan   \n",
       "1        nan      524.00      360.00        22.00      52.00        nan   \n",
       "2       0.00      313.00      200.00         5.00      31.00        nan   \n",
       "3        nan       13.00         nan         0.00       1.00        nan   \n",
       "4        nan        0.00         nan          nan        nan        nan   \n",
       "\n",
       "   QT_AUTRES  QT_NOURRIT  \n",
       "0        nan    4,895.00  \n",
       "1        nan       89.00  \n",
       "2        nan       76.00  \n",
       "3        nan       12.00  \n",
       "4        nan        0.00  \n",
       "\n",
       "[5 rows x 22 columns]"
      ]
     },
     "execution_count": 20,
     "metadata": {},
     "output_type": "execute_result"
    }
   ],
   "source": [
    "cols =  ['ANNEE', 'CPAYS', 'PAYS', 'VALP', 'CPROD', 'PROD', 'ORIG',\n",
    "            'QT_DISPALI_KG', 'QT_DISPALI_KCAL', 'QT_DISPROT', 'QT_DISPMG',\n",
    "            'QT_PRODUCT', 'QT_IMPORT', 'QT_VARSTOCK', 'QT_EXPORT', 'QT_DISPINT', \n",
    "            'QT_ALIMANI', 'QT_SEMENCES', 'QT_PERTES', 'QT_TRANSF', 'QT_AUTRES', 'QT_NOURRIT']\n",
    "gen = gen[cols]\n",
    "gen.head()"
   ]
  },
  {
   "cell_type": "markdown",
   "metadata": {},
   "source": [
    "#####   <font color='#61210B'> CALCULS de la disponibilité Alimentaire </font> par Pays/Produit\n",
    "en Millions Kcal                     -->  Disp_Alim_Gen = (Dispo_Alimentaire) * (Population) *365 / 1'000'000  \n",
    "en Mega Tonnes de proteines   -->  Disp_Alim_Pro = (Dispo_Alim_Proteine) * (Population) *365 * 1000 / 1'000'000'000"
   ]
  },
  {
   "cell_type": "code",
   "execution_count": 21,
   "metadata": {
    "scrolled": true
   },
   "outputs": [
    {
     "data": {
      "text/html": [
       "<div>\n",
       "<style scoped>\n",
       "    .dataframe tbody tr th:only-of-type {\n",
       "        vertical-align: middle;\n",
       "    }\n",
       "\n",
       "    .dataframe tbody tr th {\n",
       "        vertical-align: top;\n",
       "    }\n",
       "\n",
       "    .dataframe thead th {\n",
       "        text-align: right;\n",
       "    }\n",
       "</style>\n",
       "<table border=\"1\" class=\"dataframe\">\n",
       "  <thead>\n",
       "    <tr style=\"text-align: right;\">\n",
       "      <th></th>\n",
       "      <th>CPAYS</th>\n",
       "      <th>PAYS</th>\n",
       "      <th>VALP</th>\n",
       "      <th>CPROD</th>\n",
       "      <th>PROD</th>\n",
       "      <th>QT_DISPALI_KCAL</th>\n",
       "      <th>QT_DISPROT</th>\n",
       "      <th>D_Alim_Annu(Mkcal)</th>\n",
       "      <th>D_Alim_Pro_Annu(Mt)</th>\n",
       "    </tr>\n",
       "  </thead>\n",
       "  <tbody>\n",
       "    <tr>\n",
       "      <th>793</th>\n",
       "      <td>1</td>\n",
       "      <td>Arménie</td>\n",
       "      <td>2977000</td>\n",
       "      <td>2511</td>\n",
       "      <td>Blé</td>\n",
       "      <td>1,024.00</td>\n",
       "      <td>30.52</td>\n",
       "      <td>1,112,683.52</td>\n",
       "      <td>33,163.18</td>\n",
       "    </tr>\n",
       "    <tr>\n",
       "      <th>794</th>\n",
       "      <td>1</td>\n",
       "      <td>Arménie</td>\n",
       "      <td>2977000</td>\n",
       "      <td>2513</td>\n",
       "      <td>Orge</td>\n",
       "      <td>0.00</td>\n",
       "      <td>0.00</td>\n",
       "      <td>0.00</td>\n",
       "      <td>0.00</td>\n",
       "    </tr>\n",
       "    <tr>\n",
       "      <th>795</th>\n",
       "      <td>1</td>\n",
       "      <td>Arménie</td>\n",
       "      <td>2977000</td>\n",
       "      <td>2514</td>\n",
       "      <td>Maïs</td>\n",
       "      <td>0.00</td>\n",
       "      <td>0.01</td>\n",
       "      <td>0.00</td>\n",
       "      <td>10.87</td>\n",
       "    </tr>\n",
       "    <tr>\n",
       "      <th>796</th>\n",
       "      <td>1</td>\n",
       "      <td>Arménie</td>\n",
       "      <td>2977000</td>\n",
       "      <td>2515</td>\n",
       "      <td>Seigle</td>\n",
       "      <td>1.00</td>\n",
       "      <td>0.02</td>\n",
       "      <td>1,086.61</td>\n",
       "      <td>21.73</td>\n",
       "    </tr>\n",
       "    <tr>\n",
       "      <th>797</th>\n",
       "      <td>1</td>\n",
       "      <td>Arménie</td>\n",
       "      <td>2977000</td>\n",
       "      <td>2516</td>\n",
       "      <td>Avoine</td>\n",
       "      <td>2.00</td>\n",
       "      <td>0.09</td>\n",
       "      <td>2,173.21</td>\n",
       "      <td>97.79</td>\n",
       "    </tr>\n",
       "  </tbody>\n",
       "</table>\n",
       "</div>"
      ],
      "text/plain": [
       "     CPAYS     PAYS     VALP  CPROD    PROD  QT_DISPALI_KCAL  QT_DISPROT  \\\n",
       "793      1  Arménie  2977000   2511     Blé         1,024.00       30.52   \n",
       "794      1  Arménie  2977000   2513    Orge             0.00        0.00   \n",
       "795      1  Arménie  2977000   2514    Maïs             0.00        0.01   \n",
       "796      1  Arménie  2977000   2515  Seigle             1.00        0.02   \n",
       "797      1  Arménie  2977000   2516  Avoine             2.00        0.09   \n",
       "\n",
       "     D_Alim_Annu(Mkcal)  D_Alim_Pro_Annu(Mt)  \n",
       "793        1,112,683.52            33,163.18  \n",
       "794                0.00                 0.00  \n",
       "795                0.00                10.87  \n",
       "796            1,086.61                21.73  \n",
       "797            2,173.21                97.79  "
      ]
     },
     "execution_count": 21,
     "metadata": {},
     "output_type": "execute_result"
    }
   ],
   "source": [
    "q3 = gen.copy()\n",
    "q3sel = ['CPAYS', 'PAYS', 'VALP', 'CPROD', 'PROD', 'QT_DISPALI_KCAL', 'QT_DISPROT']\n",
    "q3['D_Alim_Annu(Mkcal)']= q3['QT_DISPALI_KCAL']*q3['VALP']*365/1000000\n",
    "q3['D_Alim_Pro_Annu(Mt)']= q3['QT_DISPROT']*q3['VALP']*365*1000/1000000000\n",
    "q3[q3['CPAYS']==1][q3sel + ['D_Alim_Annu(Mkcal)', 'D_Alim_Pro_Annu(Mt)']].head()"
   ]
  },
  {
   "cell_type": "markdown",
   "metadata": {},
   "source": [
    "<hr style=\"height: 3px; color: #839D2D; width: 100%; \">\n",
    "\n",
    "###  <font color='#61210B'><u>QUESTION 4</u></font> : Calculs Ratio et Pourcentage :\n",
    "* Calcul Ratio \"Energie/Poids\" exprimé (en kcal/kg) par Produit\n",
    "* Calcul pourcentage de protéines de chaque produit par Pays / Produit  \n",
    "  \n",
    "Pour le ratio il faut exprimer la Qté de dispo alimentaire en kcal par an et la comparer à la Qté de dispo alimentaire kg.  \n",
    "Faire un regroupement par PRODUIT :  \n",
    "**Formule** : [RATIO(kcal/kg)] = [QT_DISPALI_KCAL] *365 / [QT_DISPALI_KG]"
   ]
  },
  {
   "cell_type": "markdown",
   "metadata": {},
   "source": [
    "#####   <font color='#61210B'>Selection de Zones pour réaffichage, regroupement et calcul"
   ]
  },
  {
   "cell_type": "code",
   "execution_count": 22,
   "metadata": {},
   "outputs": [],
   "source": [
    "q4sel = ['CPROD', 'PROD', 'QT_DISPALI_KCAL', 'QT_DISPALI_KG'] "
   ]
  },
  {
   "cell_type": "code",
   "execution_count": 23,
   "metadata": {},
   "outputs": [
    {
     "data": {
      "text/html": [
       "<div>\n",
       "<style scoped>\n",
       "    .dataframe tbody tr th:only-of-type {\n",
       "        vertical-align: middle;\n",
       "    }\n",
       "\n",
       "    .dataframe tbody tr th {\n",
       "        vertical-align: top;\n",
       "    }\n",
       "\n",
       "    .dataframe thead th {\n",
       "        text-align: right;\n",
       "    }\n",
       "</style>\n",
       "<table border=\"1\" class=\"dataframe\">\n",
       "  <thead>\n",
       "    <tr style=\"text-align: right;\">\n",
       "      <th></th>\n",
       "      <th>CPROD</th>\n",
       "      <th>PROD</th>\n",
       "      <th>ANNEE</th>\n",
       "      <th>CPAYS</th>\n",
       "      <th>VALP</th>\n",
       "      <th>QT_DISPALI_KG</th>\n",
       "      <th>QT_DISPALI_KCAL</th>\n",
       "      <th>QT_DISPROT</th>\n",
       "      <th>QT_DISPMG</th>\n",
       "      <th>QT_PRODUCT</th>\n",
       "      <th>QT_IMPORT</th>\n",
       "      <th>QT_VARSTOCK</th>\n",
       "      <th>QT_EXPORT</th>\n",
       "      <th>QT_DISPINT</th>\n",
       "      <th>QT_ALIMANI</th>\n",
       "      <th>QT_SEMENCES</th>\n",
       "      <th>QT_PERTES</th>\n",
       "      <th>QT_TRANSF</th>\n",
       "      <th>QT_AUTRES</th>\n",
       "      <th>QT_NOURRIT</th>\n",
       "    </tr>\n",
       "  </thead>\n",
       "  <tbody>\n",
       "    <tr>\n",
       "      <th>0</th>\n",
       "      <td>2511</td>\n",
       "      <td>Blé</td>\n",
       "      <td>350262</td>\n",
       "      <td>21825</td>\n",
       "      <td>6997326000</td>\n",
       "      <td>12,339.51</td>\n",
       "      <td>96,132.00</td>\n",
       "      <td>2,809.21</td>\n",
       "      <td>548.76</td>\n",
       "      <td>708,443.00</td>\n",
       "      <td>185,377.00</td>\n",
       "      <td>-15,948.00</td>\n",
       "      <td>198,380.00</td>\n",
       "      <td>679,498.00</td>\n",
       "      <td>129,668.00</td>\n",
       "      <td>34,283.00</td>\n",
       "      <td>27,530.00</td>\n",
       "      <td>7,877.00</td>\n",
       "      <td>22,424.00</td>\n",
       "      <td>457,824.00</td>\n",
       "    </tr>\n",
       "    <tr>\n",
       "      <th>1</th>\n",
       "      <td>2513</td>\n",
       "      <td>Orge</td>\n",
       "      <td>348249</td>\n",
       "      <td>21649</td>\n",
       "      <td>6996193000</td>\n",
       "      <td>263.60</td>\n",
       "      <td>1,814.00</td>\n",
       "      <td>52.28</td>\n",
       "      <td>7.35</td>\n",
       "      <td>142,462.00</td>\n",
       "      <td>38,689.00</td>\n",
       "      <td>876.00</td>\n",
       "      <td>41,585.00</td>\n",
       "      <td>140,439.00</td>\n",
       "      <td>92,658.00</td>\n",
       "      <td>8,804.00</td>\n",
       "      <td>4,628.00</td>\n",
       "      <td>26,910.00</td>\n",
       "      <td>654.00</td>\n",
       "      <td>6,794.00</td>\n",
       "    </tr>\n",
       "    <tr>\n",
       "      <th>2</th>\n",
       "      <td>2514</td>\n",
       "      <td>Maïs</td>\n",
       "      <td>350262</td>\n",
       "      <td>21825</td>\n",
       "      <td>6997326000</td>\n",
       "      <td>3,690.37</td>\n",
       "      <td>30,903.00</td>\n",
       "      <td>771.12</td>\n",
       "      <td>271.50</td>\n",
       "      <td>1,017,029.00</td>\n",
       "      <td>122,691.00</td>\n",
       "      <td>-55,136.00</td>\n",
       "      <td>128,787.00</td>\n",
       "      <td>955,799.00</td>\n",
       "      <td>546,116.00</td>\n",
       "      <td>6,837.00</td>\n",
       "      <td>40,701.00</td>\n",
       "      <td>47,648.00</td>\n",
       "      <td>189,386.00</td>\n",
       "      <td>125,184.00</td>\n",
       "    </tr>\n",
       "    <tr>\n",
       "      <th>3</th>\n",
       "      <td>2515</td>\n",
       "      <td>Seigle</td>\n",
       "      <td>305976</td>\n",
       "      <td>19438</td>\n",
       "      <td>6684455000</td>\n",
       "      <td>263.36</td>\n",
       "      <td>1,967.00</td>\n",
       "      <td>51.56</td>\n",
       "      <td>8.62</td>\n",
       "      <td>16,711.00</td>\n",
       "      <td>2,251.00</td>\n",
       "      <td>-25.00</td>\n",
       "      <td>2,372.00</td>\n",
       "      <td>16,567.00</td>\n",
       "      <td>8,099.00</td>\n",
       "      <td>1,262.00</td>\n",
       "      <td>562.00</td>\n",
       "      <td>1,120.00</td>\n",
       "      <td>20.00</td>\n",
       "      <td>5,502.00</td>\n",
       "    </tr>\n",
       "    <tr>\n",
       "      <th>4</th>\n",
       "      <td>2516</td>\n",
       "      <td>Avoine</td>\n",
       "      <td>336171</td>\n",
       "      <td>20920</td>\n",
       "      <td>6843447000</td>\n",
       "      <td>151.43</td>\n",
       "      <td>880.00</td>\n",
       "      <td>35.70</td>\n",
       "      <td>15.29</td>\n",
       "      <td>23,816.00</td>\n",
       "      <td>3,708.00</td>\n",
       "      <td>-577.00</td>\n",
       "      <td>3,531.00</td>\n",
       "      <td>23,407.00</td>\n",
       "      <td>16,251.00</td>\n",
       "      <td>2,485.00</td>\n",
       "      <td>514.00</td>\n",
       "      <td>36.00</td>\n",
       "      <td>206.00</td>\n",
       "      <td>3,903.00</td>\n",
       "    </tr>\n",
       "  </tbody>\n",
       "</table>\n",
       "</div>"
      ],
      "text/plain": [
       "   CPROD    PROD   ANNEE  CPAYS        VALP  QT_DISPALI_KG  QT_DISPALI_KCAL  \\\n",
       "0   2511     Blé  350262  21825  6997326000      12,339.51        96,132.00   \n",
       "1   2513    Orge  348249  21649  6996193000         263.60         1,814.00   \n",
       "2   2514    Maïs  350262  21825  6997326000       3,690.37        30,903.00   \n",
       "3   2515  Seigle  305976  19438  6684455000         263.36         1,967.00   \n",
       "4   2516  Avoine  336171  20920  6843447000         151.43           880.00   \n",
       "\n",
       "   QT_DISPROT  QT_DISPMG   QT_PRODUCT  QT_IMPORT  QT_VARSTOCK  QT_EXPORT  \\\n",
       "0    2,809.21     548.76   708,443.00 185,377.00   -15,948.00 198,380.00   \n",
       "1       52.28       7.35   142,462.00  38,689.00       876.00  41,585.00   \n",
       "2      771.12     271.50 1,017,029.00 122,691.00   -55,136.00 128,787.00   \n",
       "3       51.56       8.62    16,711.00   2,251.00       -25.00   2,372.00   \n",
       "4       35.70      15.29    23,816.00   3,708.00      -577.00   3,531.00   \n",
       "\n",
       "   QT_DISPINT  QT_ALIMANI  QT_SEMENCES  QT_PERTES  QT_TRANSF  QT_AUTRES  \\\n",
       "0  679,498.00  129,668.00    34,283.00  27,530.00   7,877.00  22,424.00   \n",
       "1  140,439.00   92,658.00     8,804.00   4,628.00  26,910.00     654.00   \n",
       "2  955,799.00  546,116.00     6,837.00  40,701.00  47,648.00 189,386.00   \n",
       "3   16,567.00    8,099.00     1,262.00     562.00   1,120.00      20.00   \n",
       "4   23,407.00   16,251.00     2,485.00     514.00      36.00     206.00   \n",
       "\n",
       "   QT_NOURRIT  \n",
       "0  457,824.00  \n",
       "1    6,794.00  \n",
       "2  125,184.00  \n",
       "3    5,502.00  \n",
       "4    3,903.00  "
      ]
     },
     "execution_count": 23,
     "metadata": {},
     "output_type": "execute_result"
    }
   ],
   "source": [
    "q4r = gen.groupby(['CPROD', 'PROD']).sum().reset_index()\n",
    "q4r.head()"
   ]
  },
  {
   "cell_type": "code",
   "execution_count": 24,
   "metadata": {},
   "outputs": [
    {
     "data": {
      "text/html": [
       "<div>\n",
       "<style scoped>\n",
       "    .dataframe tbody tr th:only-of-type {\n",
       "        vertical-align: middle;\n",
       "    }\n",
       "\n",
       "    .dataframe tbody tr th {\n",
       "        vertical-align: top;\n",
       "    }\n",
       "\n",
       "    .dataframe thead th {\n",
       "        text-align: right;\n",
       "    }\n",
       "</style>\n",
       "<table border=\"1\" class=\"dataframe\">\n",
       "  <thead>\n",
       "    <tr style=\"text-align: right;\">\n",
       "      <th></th>\n",
       "      <th>CPROD</th>\n",
       "      <th>PROD</th>\n",
       "      <th>QT_DISPALI_KCAL</th>\n",
       "      <th>QT_DISPALI_KG</th>\n",
       "      <th>RATIO(kcal/kg)</th>\n",
       "    </tr>\n",
       "  </thead>\n",
       "  <tbody>\n",
       "    <tr>\n",
       "      <th>0</th>\n",
       "      <td>2511</td>\n",
       "      <td>Blé</td>\n",
       "      <td>96,132.00</td>\n",
       "      <td>12,339.51</td>\n",
       "      <td>2,843.56</td>\n",
       "    </tr>\n",
       "    <tr>\n",
       "      <th>1</th>\n",
       "      <td>2513</td>\n",
       "      <td>Orge</td>\n",
       "      <td>1,814.00</td>\n",
       "      <td>263.60</td>\n",
       "      <td>2,511.80</td>\n",
       "    </tr>\n",
       "    <tr>\n",
       "      <th>2</th>\n",
       "      <td>2514</td>\n",
       "      <td>Maïs</td>\n",
       "      <td>30,903.00</td>\n",
       "      <td>3,690.37</td>\n",
       "      <td>3,056.49</td>\n",
       "    </tr>\n",
       "    <tr>\n",
       "      <th>3</th>\n",
       "      <td>2515</td>\n",
       "      <td>Seigle</td>\n",
       "      <td>1,967.00</td>\n",
       "      <td>263.36</td>\n",
       "      <td>2,726.14</td>\n",
       "    </tr>\n",
       "    <tr>\n",
       "      <th>4</th>\n",
       "      <td>2516</td>\n",
       "      <td>Avoine</td>\n",
       "      <td>880.00</td>\n",
       "      <td>151.43</td>\n",
       "      <td>2,121.11</td>\n",
       "    </tr>\n",
       "  </tbody>\n",
       "</table>\n",
       "</div>"
      ],
      "text/plain": [
       "   CPROD    PROD  QT_DISPALI_KCAL  QT_DISPALI_KG  RATIO(kcal/kg)\n",
       "0   2511     Blé        96,132.00      12,339.51        2,843.56\n",
       "1   2513    Orge         1,814.00         263.60        2,511.80\n",
       "2   2514    Maïs        30,903.00       3,690.37        3,056.49\n",
       "3   2515  Seigle         1,967.00         263.36        2,726.14\n",
       "4   2516  Avoine           880.00         151.43        2,121.11"
      ]
     },
     "execution_count": 24,
     "metadata": {},
     "output_type": "execute_result"
    }
   ],
   "source": [
    "q4r['RATIO(kcal/kg)']= q4r['QT_DISPALI_KCAL']*365/q4r['QT_DISPALI_KG']\n",
    "q4r[q4sel + ['RATIO(kcal/kg)']].head()"
   ]
  },
  {
   "cell_type": "markdown",
   "metadata": {},
   "source": [
    "#####   <font color='#21610B'> /// Contrôle résultat : Cas de l'Oeuf /// </font> La valeur Wikipedia etant : 147 kcal / 100gr\n",
    "Ici je selectionne dans mon dataframe, les lignes dont le nom du produits est \"oeufs\" et je n'affiche que les colonnes de ma selection q4sel + le ratio"
   ]
  },
  {
   "cell_type": "code",
   "execution_count": 25,
   "metadata": {
    "scrolled": true
   },
   "outputs": [
    {
     "data": {
      "text/html": [
       "<div>\n",
       "<style scoped>\n",
       "    .dataframe tbody tr th:only-of-type {\n",
       "        vertical-align: middle;\n",
       "    }\n",
       "\n",
       "    .dataframe tbody tr th {\n",
       "        vertical-align: top;\n",
       "    }\n",
       "\n",
       "    .dataframe thead th {\n",
       "        text-align: right;\n",
       "    }\n",
       "</style>\n",
       "<table border=\"1\" class=\"dataframe\">\n",
       "  <thead>\n",
       "    <tr style=\"text-align: right;\">\n",
       "      <th></th>\n",
       "      <th>CPROD</th>\n",
       "      <th>PROD</th>\n",
       "      <th>QT_DISPALI_KCAL</th>\n",
       "      <th>QT_DISPALI_KG</th>\n",
       "      <th>RATIO(kcal/kg)</th>\n",
       "    </tr>\n",
       "  </thead>\n",
       "  <tbody>\n",
       "    <tr>\n",
       "      <th>81</th>\n",
       "      <td>2744</td>\n",
       "      <td>Oeufs</td>\n",
       "      <td>4,665.00</td>\n",
       "      <td>1,231.95</td>\n",
       "      <td>1,382.14</td>\n",
       "    </tr>\n",
       "  </tbody>\n",
       "</table>\n",
       "</div>"
      ],
      "text/plain": [
       "    CPROD   PROD  QT_DISPALI_KCAL  QT_DISPALI_KG  RATIO(kcal/kg)\n",
       "81   2744  Oeufs         4,665.00       1,231.95        1,382.14"
      ]
     },
     "execution_count": 25,
     "metadata": {},
     "output_type": "execute_result"
    }
   ],
   "source": [
    "q4r[q4r['PROD'] == \"Oeufs\"][q4sel + ['RATIO(kcal/kg)']].head()"
   ]
  },
  {
   "cell_type": "markdown",
   "metadata": {},
   "source": [
    "#####   <font color='#61210B'>Pour le pourcentage, on passe tout en grammes/an par exemple</font>\n",
    "Faire un regroupement par PAYS / PRODUIT  \n",
    "**Formule** : [Taux_Prot(%)] = ( [DISP_PROT] * 365 * 100 ) / ( [Poids(kg)]*1000 )"
   ]
  },
  {
   "cell_type": "code",
   "execution_count": 26,
   "metadata": {},
   "outputs": [
    {
     "data": {
      "text/html": [
       "<div>\n",
       "<style scoped>\n",
       "    .dataframe tbody tr th:only-of-type {\n",
       "        vertical-align: middle;\n",
       "    }\n",
       "\n",
       "    .dataframe tbody tr th {\n",
       "        vertical-align: top;\n",
       "    }\n",
       "\n",
       "    .dataframe thead th {\n",
       "        text-align: right;\n",
       "    }\n",
       "</style>\n",
       "<table border=\"1\" class=\"dataframe\">\n",
       "  <thead>\n",
       "    <tr style=\"text-align: right;\">\n",
       "      <th></th>\n",
       "      <th>CPAYS</th>\n",
       "      <th>PAYS</th>\n",
       "      <th>CPROD</th>\n",
       "      <th>PROD</th>\n",
       "      <th>QT_DISPALI_KCAL</th>\n",
       "      <th>QT_DISPALI_KG</th>\n",
       "      <th>QT_DISPROT</th>\n",
       "      <th>Taux_Prot(%)</th>\n",
       "    </tr>\n",
       "  </thead>\n",
       "  <tbody>\n",
       "    <tr>\n",
       "      <th>0</th>\n",
       "      <td>1</td>\n",
       "      <td>Arménie</td>\n",
       "      <td>2511</td>\n",
       "      <td>Blé</td>\n",
       "      <td>1,024.00</td>\n",
       "      <td>130.60</td>\n",
       "      <td>30.52</td>\n",
       "      <td>8.53</td>\n",
       "    </tr>\n",
       "    <tr>\n",
       "      <th>1</th>\n",
       "      <td>2</td>\n",
       "      <td>Afghanistan</td>\n",
       "      <td>2511</td>\n",
       "      <td>Blé</td>\n",
       "      <td>1,369.00</td>\n",
       "      <td>160.23</td>\n",
       "      <td>36.91</td>\n",
       "      <td>8.41</td>\n",
       "    </tr>\n",
       "    <tr>\n",
       "      <th>2</th>\n",
       "      <td>3</td>\n",
       "      <td>Albanie</td>\n",
       "      <td>2511</td>\n",
       "      <td>Blé</td>\n",
       "      <td>1,056.00</td>\n",
       "      <td>138.64</td>\n",
       "      <td>33.64</td>\n",
       "      <td>8.86</td>\n",
       "    </tr>\n",
       "    <tr>\n",
       "      <th>3</th>\n",
       "      <td>4</td>\n",
       "      <td>Algérie</td>\n",
       "      <td>2511</td>\n",
       "      <td>Blé</td>\n",
       "      <td>1,424.00</td>\n",
       "      <td>185.42</td>\n",
       "      <td>42.97</td>\n",
       "      <td>8.46</td>\n",
       "    </tr>\n",
       "    <tr>\n",
       "      <th>4</th>\n",
       "      <td>7</td>\n",
       "      <td>Angola</td>\n",
       "      <td>2511</td>\n",
       "      <td>Blé</td>\n",
       "      <td>286.00</td>\n",
       "      <td>40.72</td>\n",
       "      <td>8.67</td>\n",
       "      <td>7.77</td>\n",
       "    </tr>\n",
       "  </tbody>\n",
       "</table>\n",
       "</div>"
      ],
      "text/plain": [
       "   CPAYS         PAYS  CPROD PROD  QT_DISPALI_KCAL  QT_DISPALI_KG  QT_DISPROT  \\\n",
       "0      1      Arménie   2511  Blé         1,024.00         130.60       30.52   \n",
       "1      2  Afghanistan   2511  Blé         1,369.00         160.23       36.91   \n",
       "2      3      Albanie   2511  Blé         1,056.00         138.64       33.64   \n",
       "3      4      Algérie   2511  Blé         1,424.00         185.42       42.97   \n",
       "4      7       Angola   2511  Blé           286.00          40.72        8.67   \n",
       "\n",
       "   Taux_Prot(%)  \n",
       "0          8.53  \n",
       "1          8.41  \n",
       "2          8.86  \n",
       "3          8.46  \n",
       "4          7.77  "
      ]
     },
     "execution_count": 26,
     "metadata": {},
     "output_type": "execute_result"
    }
   ],
   "source": [
    "q4t = gen.groupby(['CPROD', 'PROD', 'CPAYS', 'PAYS']).sum().reset_index()\n",
    "q4t['Taux_Prot(%)'] = (q4t['QT_DISPROT']*365*100)/(q4t['QT_DISPALI_KG']*1000)\n",
    "q4t[['CPAYS', 'PAYS'] + q4sel + ['QT_DISPROT', 'Taux_Prot(%)']].head()"
   ]
  },
  {
   "cell_type": "markdown",
   "metadata": {},
   "source": [
    "#####   <font color='#21610B'> /// Contrôle résultat : Cas de l'avoine /// </font> La valeur Wikipedia etant : 10.7gr protéines / 100gr\n",
    "Ici je selectionne dans mon dataframe, les lignes dont le nom du produits est \"Avoine\" et je n'affiche que certaines colonnes avec ma selection q4sel"
   ]
  },
  {
   "cell_type": "code",
   "execution_count": 27,
   "metadata": {
    "scrolled": true
   },
   "outputs": [
    {
     "data": {
      "text/html": [
       "<div>\n",
       "<style scoped>\n",
       "    .dataframe tbody tr th:only-of-type {\n",
       "        vertical-align: middle;\n",
       "    }\n",
       "\n",
       "    .dataframe tbody tr th {\n",
       "        vertical-align: top;\n",
       "    }\n",
       "\n",
       "    .dataframe thead th {\n",
       "        text-align: right;\n",
       "    }\n",
       "</style>\n",
       "<table border=\"1\" class=\"dataframe\">\n",
       "  <thead>\n",
       "    <tr style=\"text-align: right;\">\n",
       "      <th></th>\n",
       "      <th>CPAYS</th>\n",
       "      <th>PAYS</th>\n",
       "      <th>CPROD</th>\n",
       "      <th>PROD</th>\n",
       "      <th>QT_DISPALI_KCAL</th>\n",
       "      <th>QT_DISPALI_KG</th>\n",
       "      <th>QT_DISPROT</th>\n",
       "      <th>Taux_Prot(%)</th>\n",
       "    </tr>\n",
       "  </thead>\n",
       "  <tbody>\n",
       "    <tr>\n",
       "      <th>673</th>\n",
       "      <td>1</td>\n",
       "      <td>Arménie</td>\n",
       "      <td>2516</td>\n",
       "      <td>Avoine</td>\n",
       "      <td>2.00</td>\n",
       "      <td>0.37</td>\n",
       "      <td>0.09</td>\n",
       "      <td>8.88</td>\n",
       "    </tr>\n",
       "    <tr>\n",
       "      <th>674</th>\n",
       "      <td>3</td>\n",
       "      <td>Albanie</td>\n",
       "      <td>2516</td>\n",
       "      <td>Avoine</td>\n",
       "      <td>1.00</td>\n",
       "      <td>0.13</td>\n",
       "      <td>0.03</td>\n",
       "      <td>8.42</td>\n",
       "    </tr>\n",
       "    <tr>\n",
       "      <th>675</th>\n",
       "      <td>4</td>\n",
       "      <td>Algérie</td>\n",
       "      <td>2516</td>\n",
       "      <td>Avoine</td>\n",
       "      <td>0.00</td>\n",
       "      <td>0.01</td>\n",
       "      <td>0.00</td>\n",
       "      <td>0.00</td>\n",
       "    </tr>\n",
       "    <tr>\n",
       "      <th>676</th>\n",
       "      <td>7</td>\n",
       "      <td>Angola</td>\n",
       "      <td>2516</td>\n",
       "      <td>Avoine</td>\n",
       "      <td>0.00</td>\n",
       "      <td>0.01</td>\n",
       "      <td>0.00</td>\n",
       "      <td>0.00</td>\n",
       "    </tr>\n",
       "    <tr>\n",
       "      <th>677</th>\n",
       "      <td>8</td>\n",
       "      <td>Antigua-et-Barbuda</td>\n",
       "      <td>2516</td>\n",
       "      <td>Avoine</td>\n",
       "      <td>15.00</td>\n",
       "      <td>2.67</td>\n",
       "      <td>0.64</td>\n",
       "      <td>8.75</td>\n",
       "    </tr>\n",
       "  </tbody>\n",
       "</table>\n",
       "</div>"
      ],
      "text/plain": [
       "     CPAYS                PAYS  CPROD    PROD  QT_DISPALI_KCAL  QT_DISPALI_KG  \\\n",
       "673      1             Arménie   2516  Avoine             2.00           0.37   \n",
       "674      3             Albanie   2516  Avoine             1.00           0.13   \n",
       "675      4             Algérie   2516  Avoine             0.00           0.01   \n",
       "676      7              Angola   2516  Avoine             0.00           0.01   \n",
       "677      8  Antigua-et-Barbuda   2516  Avoine            15.00           2.67   \n",
       "\n",
       "     QT_DISPROT  Taux_Prot(%)  \n",
       "673        0.09          8.88  \n",
       "674        0.03          8.42  \n",
       "675        0.00          0.00  \n",
       "676        0.00          0.00  \n",
       "677        0.64          8.75  "
      ]
     },
     "execution_count": 27,
     "metadata": {},
     "output_type": "execute_result"
    }
   ],
   "source": [
    "q4t[q4t['PROD'] == \"Avoine\"][['CPAYS', 'PAYS'] + q4sel + ['QT_DISPROT', 'Taux_Prot(%)']].head()"
   ]
  },
  {
   "cell_type": "markdown",
   "metadata": {},
   "source": [
    "<hr style=\"height: 3px; color: #839D2D; width: 100%; \">\n",
    "\n",
    "###  <font color='#61210B'><u>QUESTION 5</u></font> : Aliments les plus caloriques :  Liste des 20 plus élevés\n",
    "\n",
    "Comme précédemment on va calculer le ratio, mais cette fois par Produit/Pays.  \n",
    "Puis on fera une agregation et moyenne des ratios (Nrj/Poids) par pays en excluant les pays n'avant pas de data (pour la moyenne).  \n",
    "Dans un premier temps j'ai choisi de **rajouter** les colonnes **Ratio** et **Taux_Prot** au Dataframe principal **\"gen\"**.  \n",
    "Par la suite, je supprimerai du calcul les lignes Nan et inf.  \n",
    "Enfin, au lieu de faire une **somme** comme précédemment, je ferai une **moyenne** des ratio et taux par Produit/pays."
   ]
  },
  {
   "cell_type": "markdown",
   "metadata": {},
   "source": [
    "#####   <font color='#61210B'>Recalcul Ratio et Taux par ligne et Ajout des Colonnes au Datafrane \"gen\""
   ]
  },
  {
   "cell_type": "code",
   "execution_count": 28,
   "metadata": {
    "scrolled": false
   },
   "outputs": [
    {
     "data": {
      "text/html": [
       "<div>\n",
       "<style scoped>\n",
       "    .dataframe tbody tr th:only-of-type {\n",
       "        vertical-align: middle;\n",
       "    }\n",
       "\n",
       "    .dataframe tbody tr th {\n",
       "        vertical-align: top;\n",
       "    }\n",
       "\n",
       "    .dataframe thead th {\n",
       "        text-align: right;\n",
       "    }\n",
       "</style>\n",
       "<table border=\"1\" class=\"dataframe\">\n",
       "  <thead>\n",
       "    <tr style=\"text-align: right;\">\n",
       "      <th></th>\n",
       "      <th>ANNEE</th>\n",
       "      <th>CPAYS</th>\n",
       "      <th>PAYS</th>\n",
       "      <th>VALP</th>\n",
       "      <th>CPROD</th>\n",
       "      <th>PROD</th>\n",
       "      <th>ORIG</th>\n",
       "      <th>QT_DISPALI_KG</th>\n",
       "      <th>QT_DISPALI_KCAL</th>\n",
       "      <th>QT_DISPROT</th>\n",
       "      <th>...</th>\n",
       "      <th>QT_EXPORT</th>\n",
       "      <th>QT_DISPINT</th>\n",
       "      <th>QT_ALIMANI</th>\n",
       "      <th>QT_SEMENCES</th>\n",
       "      <th>QT_PERTES</th>\n",
       "      <th>QT_TRANSF</th>\n",
       "      <th>QT_AUTRES</th>\n",
       "      <th>QT_NOURRIT</th>\n",
       "      <th>RATIO(kcal/kg)</th>\n",
       "      <th>Taux_Prot(%)</th>\n",
       "    </tr>\n",
       "  </thead>\n",
       "  <tbody>\n",
       "    <tr>\n",
       "      <th>0</th>\n",
       "      <td>2013</td>\n",
       "      <td>2</td>\n",
       "      <td>Afghanistan</td>\n",
       "      <td>30552000</td>\n",
       "      <td>2511</td>\n",
       "      <td>Blé</td>\n",
       "      <td>vegetal</td>\n",
       "      <td>160.23</td>\n",
       "      <td>1,369.00</td>\n",
       "      <td>36.91</td>\n",
       "      <td>...</td>\n",
       "      <td>nan</td>\n",
       "      <td>5,992.00</td>\n",
       "      <td>nan</td>\n",
       "      <td>322.00</td>\n",
       "      <td>775.00</td>\n",
       "      <td>nan</td>\n",
       "      <td>nan</td>\n",
       "      <td>4,895.00</td>\n",
       "      <td>3,118.55</td>\n",
       "      <td>8.41</td>\n",
       "    </tr>\n",
       "    <tr>\n",
       "      <th>1</th>\n",
       "      <td>2013</td>\n",
       "      <td>2</td>\n",
       "      <td>Afghanistan</td>\n",
       "      <td>30552000</td>\n",
       "      <td>2513</td>\n",
       "      <td>Orge</td>\n",
       "      <td>vegetal</td>\n",
       "      <td>2.92</td>\n",
       "      <td>26.00</td>\n",
       "      <td>0.79</td>\n",
       "      <td>...</td>\n",
       "      <td>nan</td>\n",
       "      <td>524.00</td>\n",
       "      <td>360.00</td>\n",
       "      <td>22.00</td>\n",
       "      <td>52.00</td>\n",
       "      <td>nan</td>\n",
       "      <td>nan</td>\n",
       "      <td>89.00</td>\n",
       "      <td>3,250.00</td>\n",
       "      <td>9.88</td>\n",
       "    </tr>\n",
       "    <tr>\n",
       "      <th>2</th>\n",
       "      <td>2013</td>\n",
       "      <td>2</td>\n",
       "      <td>Afghanistan</td>\n",
       "      <td>30552000</td>\n",
       "      <td>2514</td>\n",
       "      <td>Maïs</td>\n",
       "      <td>vegetal</td>\n",
       "      <td>2.50</td>\n",
       "      <td>21.00</td>\n",
       "      <td>0.56</td>\n",
       "      <td>...</td>\n",
       "      <td>0.00</td>\n",
       "      <td>313.00</td>\n",
       "      <td>200.00</td>\n",
       "      <td>5.00</td>\n",
       "      <td>31.00</td>\n",
       "      <td>nan</td>\n",
       "      <td>nan</td>\n",
       "      <td>76.00</td>\n",
       "      <td>3,066.00</td>\n",
       "      <td>8.18</td>\n",
       "    </tr>\n",
       "    <tr>\n",
       "      <th>3</th>\n",
       "      <td>2013</td>\n",
       "      <td>2</td>\n",
       "      <td>Afghanistan</td>\n",
       "      <td>30552000</td>\n",
       "      <td>2517</td>\n",
       "      <td>Millet</td>\n",
       "      <td>vegetal</td>\n",
       "      <td>0.40</td>\n",
       "      <td>3.00</td>\n",
       "      <td>0.08</td>\n",
       "      <td>...</td>\n",
       "      <td>nan</td>\n",
       "      <td>13.00</td>\n",
       "      <td>nan</td>\n",
       "      <td>0.00</td>\n",
       "      <td>1.00</td>\n",
       "      <td>nan</td>\n",
       "      <td>nan</td>\n",
       "      <td>12.00</td>\n",
       "      <td>2,737.50</td>\n",
       "      <td>7.30</td>\n",
       "    </tr>\n",
       "    <tr>\n",
       "      <th>4</th>\n",
       "      <td>2013</td>\n",
       "      <td>2</td>\n",
       "      <td>Afghanistan</td>\n",
       "      <td>30552000</td>\n",
       "      <td>2520</td>\n",
       "      <td>Céréales, Autres</td>\n",
       "      <td>vegetal</td>\n",
       "      <td>0.00</td>\n",
       "      <td>0.00</td>\n",
       "      <td>0.00</td>\n",
       "      <td>...</td>\n",
       "      <td>nan</td>\n",
       "      <td>0.00</td>\n",
       "      <td>nan</td>\n",
       "      <td>nan</td>\n",
       "      <td>nan</td>\n",
       "      <td>nan</td>\n",
       "      <td>nan</td>\n",
       "      <td>0.00</td>\n",
       "      <td>nan</td>\n",
       "      <td>nan</td>\n",
       "    </tr>\n",
       "  </tbody>\n",
       "</table>\n",
       "<p>5 rows × 24 columns</p>\n",
       "</div>"
      ],
      "text/plain": [
       "   ANNEE  CPAYS         PAYS      VALP  CPROD              PROD     ORIG  \\\n",
       "0   2013      2  Afghanistan  30552000   2511               Blé  vegetal   \n",
       "1   2013      2  Afghanistan  30552000   2513              Orge  vegetal   \n",
       "2   2013      2  Afghanistan  30552000   2514              Maïs  vegetal   \n",
       "3   2013      2  Afghanistan  30552000   2517            Millet  vegetal   \n",
       "4   2013      2  Afghanistan  30552000   2520  Céréales, Autres  vegetal   \n",
       "\n",
       "   QT_DISPALI_KG  QT_DISPALI_KCAL  QT_DISPROT  ...  QT_EXPORT  QT_DISPINT  \\\n",
       "0         160.23         1,369.00       36.91  ...        nan    5,992.00   \n",
       "1           2.92            26.00        0.79  ...        nan      524.00   \n",
       "2           2.50            21.00        0.56  ...       0.00      313.00   \n",
       "3           0.40             3.00        0.08  ...        nan       13.00   \n",
       "4           0.00             0.00        0.00  ...        nan        0.00   \n",
       "\n",
       "   QT_ALIMANI  QT_SEMENCES  QT_PERTES  QT_TRANSF  QT_AUTRES  QT_NOURRIT  \\\n",
       "0         nan       322.00     775.00        nan        nan    4,895.00   \n",
       "1      360.00        22.00      52.00        nan        nan       89.00   \n",
       "2      200.00         5.00      31.00        nan        nan       76.00   \n",
       "3         nan         0.00       1.00        nan        nan       12.00   \n",
       "4         nan          nan        nan        nan        nan        0.00   \n",
       "\n",
       "   RATIO(kcal/kg)  Taux_Prot(%)  \n",
       "0        3,118.55          8.41  \n",
       "1        3,250.00          9.88  \n",
       "2        3,066.00          8.18  \n",
       "3        2,737.50          7.30  \n",
       "4             nan           nan  \n",
       "\n",
       "[5 rows x 24 columns]"
      ]
     },
     "execution_count": 28,
     "metadata": {},
     "output_type": "execute_result"
    }
   ],
   "source": [
    "gen['RATIO(kcal/kg)']= gen['QT_DISPALI_KCAL']*365/gen['QT_DISPALI_KG']\n",
    "gen['Taux_Prot(%)'] = (gen['QT_DISPROT']*365*100)/(gen['QT_DISPALI_KG']*1000)\n",
    "gen.head()"
   ]
  },
  {
   "cell_type": "markdown",
   "metadata": {},
   "source": [
    "#####   <font color='#61210B'>Selection de Zones pour réaffichage"
   ]
  },
  {
   "cell_type": "code",
   "execution_count": 29,
   "metadata": {},
   "outputs": [],
   "source": [
    "q5sel = ['CPROD', 'PROD', 'CPAYS', 'PAYS', 'RATIO(kcal/kg)', 'Taux_Prot(%)']"
   ]
  },
  {
   "cell_type": "markdown",
   "metadata": {},
   "source": [
    "#####   <font color='#61210B'>MOYENNE des Ratio d'un produit tous pays confondus, Trié par Ratio décroissant\n",
    "    \n",
    "- Suppression des lignes dont le RATIO = 0\n",
    "- Suppression des lignes \"NA\"\n",
    "- Suppression des lignes \"inf\" (ici division par 0 donc test de la zone QT_DISPALI_KG)"
   ]
  },
  {
   "cell_type": "code",
   "execution_count": 30,
   "metadata": {
    "scrolled": true
   },
   "outputs": [],
   "source": [
    "q5r = gen.copy()\n",
    "q5r.drop(q5r[q5r['RATIO(kcal/kg)'] == 0].index, inplace=True)\n",
    "q5r.replace(np.inf, np.nan)\n",
    "# q5r.drop(q5r[q5r['QT_DISPALI_KG'] == 0].index, inplace=True)\n",
    "q5r.dropna(subset=['RATIO(kcal/kg)'], inplace=True)"
   ]
  },
  {
   "cell_type": "code",
   "execution_count": 31,
   "metadata": {
    "scrolled": true
   },
   "outputs": [
    {
     "data": {
      "text/html": [
       "<div>\n",
       "<style scoped>\n",
       "    .dataframe tbody tr th:only-of-type {\n",
       "        vertical-align: middle;\n",
       "    }\n",
       "\n",
       "    .dataframe tbody tr th {\n",
       "        vertical-align: top;\n",
       "    }\n",
       "\n",
       "    .dataframe thead th {\n",
       "        text-align: right;\n",
       "    }\n",
       "</style>\n",
       "<table border=\"1\" class=\"dataframe\">\n",
       "  <thead>\n",
       "    <tr style=\"text-align: right;\">\n",
       "      <th></th>\n",
       "      <th>CPROD</th>\n",
       "      <th>PROD</th>\n",
       "      <th>RATIO(kcal/kg)</th>\n",
       "      <th>Taux_Prot(%)</th>\n",
       "    </tr>\n",
       "  </thead>\n",
       "  <tbody>\n",
       "    <tr>\n",
       "      <th>2938</th>\n",
       "      <td>2586</td>\n",
       "      <td>Huil Plantes Oleif Autr</td>\n",
       "      <td>21,900.00</td>\n",
       "      <td>21.90</td>\n",
       "    </tr>\n",
       "    <tr>\n",
       "      <th>14678</th>\n",
       "      <td>2579</td>\n",
       "      <td>Huile de Sésame</td>\n",
       "      <td>18,250.00</td>\n",
       "      <td>nan</td>\n",
       "    </tr>\n",
       "    <tr>\n",
       "      <th>10730</th>\n",
       "      <td>2572</td>\n",
       "      <td>Huile d'Arachide</td>\n",
       "      <td>18,250.00</td>\n",
       "      <td>nan</td>\n",
       "    </tr>\n",
       "    <tr>\n",
       "      <th>5989</th>\n",
       "      <td>2586</td>\n",
       "      <td>Huil Plantes Oleif Autr</td>\n",
       "      <td>18,250.00</td>\n",
       "      <td>0.00</td>\n",
       "    </tr>\n",
       "    <tr>\n",
       "      <th>11482</th>\n",
       "      <td>2580</td>\n",
       "      <td>Huile d'Olive</td>\n",
       "      <td>18,250.00</td>\n",
       "      <td>nan</td>\n",
       "    </tr>\n",
       "    <tr>\n",
       "      <th>4696</th>\n",
       "      <td>2586</td>\n",
       "      <td>Huil Plantes Oleif Autr</td>\n",
       "      <td>18,250.00</td>\n",
       "      <td>0.00</td>\n",
       "    </tr>\n",
       "    <tr>\n",
       "      <th>9369</th>\n",
       "      <td>2579</td>\n",
       "      <td>Huile de Sésame</td>\n",
       "      <td>18,250.00</td>\n",
       "      <td>nan</td>\n",
       "    </tr>\n",
       "    <tr>\n",
       "      <th>1385</th>\n",
       "      <td>2579</td>\n",
       "      <td>Huile de Sésame</td>\n",
       "      <td>18,250.00</td>\n",
       "      <td>nan</td>\n",
       "    </tr>\n",
       "    <tr>\n",
       "      <th>9643</th>\n",
       "      <td>2580</td>\n",
       "      <td>Huile d'Olive</td>\n",
       "      <td>18,250.00</td>\n",
       "      <td>nan</td>\n",
       "    </tr>\n",
       "    <tr>\n",
       "      <th>9546</th>\n",
       "      <td>2572</td>\n",
       "      <td>Huile d'Arachide</td>\n",
       "      <td>18,250.00</td>\n",
       "      <td>nan</td>\n",
       "    </tr>\n",
       "    <tr>\n",
       "      <th>5712</th>\n",
       "      <td>2580</td>\n",
       "      <td>Huile d'Olive</td>\n",
       "      <td>18,250.00</td>\n",
       "      <td>nan</td>\n",
       "    </tr>\n",
       "    <tr>\n",
       "      <th>11576</th>\n",
       "      <td>2582</td>\n",
       "      <td>Huile de Germe de Maïs</td>\n",
       "      <td>18,250.00</td>\n",
       "      <td>nan</td>\n",
       "    </tr>\n",
       "    <tr>\n",
       "      <th>7141</th>\n",
       "      <td>2579</td>\n",
       "      <td>Huile de Sésame</td>\n",
       "      <td>18,250.00</td>\n",
       "      <td>nan</td>\n",
       "    </tr>\n",
       "    <tr>\n",
       "      <th>5523</th>\n",
       "      <td>2571</td>\n",
       "      <td>Huile de Soja</td>\n",
       "      <td>18,250.00</td>\n",
       "      <td>nan</td>\n",
       "    </tr>\n",
       "    <tr>\n",
       "      <th>11929</th>\n",
       "      <td>2572</td>\n",
       "      <td>Huile d'Arachide</td>\n",
       "      <td>18,250.00</td>\n",
       "      <td>nan</td>\n",
       "    </tr>\n",
       "    <tr>\n",
       "      <th>13113</th>\n",
       "      <td>2580</td>\n",
       "      <td>Huile d'Olive</td>\n",
       "      <td>18,250.00</td>\n",
       "      <td>nan</td>\n",
       "    </tr>\n",
       "    <tr>\n",
       "      <th>11939</th>\n",
       "      <td>2582</td>\n",
       "      <td>Huile de Germe de Maïs</td>\n",
       "      <td>18,250.00</td>\n",
       "      <td>nan</td>\n",
       "    </tr>\n",
       "    <tr>\n",
       "      <th>2562</th>\n",
       "      <td>2573</td>\n",
       "      <td>Huile de Tournesol</td>\n",
       "      <td>18,250.00</td>\n",
       "      <td>nan</td>\n",
       "    </tr>\n",
       "    <tr>\n",
       "      <th>9993</th>\n",
       "      <td>2576</td>\n",
       "      <td>Huile de Palmistes</td>\n",
       "      <td>18,250.00</td>\n",
       "      <td>nan</td>\n",
       "    </tr>\n",
       "    <tr>\n",
       "      <th>546</th>\n",
       "      <td>2573</td>\n",
       "      <td>Huile de Tournesol</td>\n",
       "      <td>18,250.00</td>\n",
       "      <td>nan</td>\n",
       "    </tr>\n",
       "  </tbody>\n",
       "</table>\n",
       "</div>"
      ],
      "text/plain": [
       "       CPROD                     PROD  RATIO(kcal/kg)  Taux_Prot(%)\n",
       "2938    2586  Huil Plantes Oleif Autr       21,900.00         21.90\n",
       "14678   2579          Huile de Sésame       18,250.00           nan\n",
       "10730   2572         Huile d'Arachide       18,250.00           nan\n",
       "5989    2586  Huil Plantes Oleif Autr       18,250.00          0.00\n",
       "11482   2580            Huile d'Olive       18,250.00           nan\n",
       "4696    2586  Huil Plantes Oleif Autr       18,250.00          0.00\n",
       "9369    2579          Huile de Sésame       18,250.00           nan\n",
       "1385    2579          Huile de Sésame       18,250.00           nan\n",
       "9643    2580            Huile d'Olive       18,250.00           nan\n",
       "9546    2572         Huile d'Arachide       18,250.00           nan\n",
       "5712    2580            Huile d'Olive       18,250.00           nan\n",
       "11576   2582   Huile de Germe de Maïs       18,250.00           nan\n",
       "7141    2579          Huile de Sésame       18,250.00           nan\n",
       "5523    2571            Huile de Soja       18,250.00           nan\n",
       "11929   2572         Huile d'Arachide       18,250.00           nan\n",
       "13113   2580            Huile d'Olive       18,250.00           nan\n",
       "11939   2582   Huile de Germe de Maïs       18,250.00           nan\n",
       "2562    2573       Huile de Tournesol       18,250.00           nan\n",
       "9993    2576       Huile de Palmistes       18,250.00           nan\n",
       "546     2573       Huile de Tournesol       18,250.00           nan"
      ]
     },
     "execution_count": 31,
     "metadata": {},
     "output_type": "execute_result"
    }
   ],
   "source": [
    "q5r.groupby('PROD').mean().reset_index()\n",
    "q5r.sort_values(['RATIO(kcal/kg)'], ascending=[False])[['CPROD', 'PROD', \n",
    "                                                        'RATIO(kcal/kg)', 'Taux_Prot(%)']].head(20)"
   ]
  },
  {
   "cell_type": "markdown",
   "metadata": {},
   "source": [
    "#####   <font color='#61210B'>MOYENNE des Taux de Protéines d'un produit tous pays confondus, Trié par Taux décroissant\n",
    "    \n",
    "- Suppression des lignes dont le Taux_Protéines = 0\n",
    "- Suppression des lignes \"NA\"\n",
    "- Suppression des lignes \"inf\" (ici division par 0 donc test de la zone QT_DISPALI_KG)"
   ]
  },
  {
   "cell_type": "code",
   "execution_count": 32,
   "metadata": {
    "scrolled": true
   },
   "outputs": [
    {
     "data": {
      "text/html": [
       "<div>\n",
       "<style scoped>\n",
       "    .dataframe tbody tr th:only-of-type {\n",
       "        vertical-align: middle;\n",
       "    }\n",
       "\n",
       "    .dataframe tbody tr th {\n",
       "        vertical-align: top;\n",
       "    }\n",
       "\n",
       "    .dataframe thead th {\n",
       "        text-align: right;\n",
       "    }\n",
       "</style>\n",
       "<table border=\"1\" class=\"dataframe\">\n",
       "  <thead>\n",
       "    <tr style=\"text-align: right;\">\n",
       "      <th></th>\n",
       "      <th>CPROD</th>\n",
       "      <th>PROD</th>\n",
       "      <th>RATIO(kcal/kg)</th>\n",
       "      <th>Taux_Prot(%)</th>\n",
       "    </tr>\n",
       "  </thead>\n",
       "  <tbody>\n",
       "    <tr>\n",
       "      <th>9684</th>\n",
       "      <td>2763</td>\n",
       "      <td>Poissons Pelagiques</td>\n",
       "      <td>6,083.33</td>\n",
       "      <td>42.58</td>\n",
       "    </tr>\n",
       "    <tr>\n",
       "      <th>9892</th>\n",
       "      <td>2555</td>\n",
       "      <td>Soja</td>\n",
       "      <td>3,842.11</td>\n",
       "      <td>38.42</td>\n",
       "    </tr>\n",
       "    <tr>\n",
       "      <th>4957</th>\n",
       "      <td>2555</td>\n",
       "      <td>Soja</td>\n",
       "      <td>3,244.44</td>\n",
       "      <td>38.12</td>\n",
       "    </tr>\n",
       "    <tr>\n",
       "      <th>7499</th>\n",
       "      <td>2555</td>\n",
       "      <td>Soja</td>\n",
       "      <td>4,276.57</td>\n",
       "      <td>38.09</td>\n",
       "    </tr>\n",
       "    <tr>\n",
       "      <th>14661</th>\n",
       "      <td>2555</td>\n",
       "      <td>Soja</td>\n",
       "      <td>3,300.53</td>\n",
       "      <td>38.05</td>\n",
       "    </tr>\n",
       "    <tr>\n",
       "      <th>15440</th>\n",
       "      <td>2555</td>\n",
       "      <td>Soja</td>\n",
       "      <td>3,350.00</td>\n",
       "      <td>38.00</td>\n",
       "    </tr>\n",
       "    <tr>\n",
       "      <th>14412</th>\n",
       "      <td>2555</td>\n",
       "      <td>Soja</td>\n",
       "      <td>3,250.00</td>\n",
       "      <td>38.00</td>\n",
       "    </tr>\n",
       "    <tr>\n",
       "      <th>2467</th>\n",
       "      <td>2555</td>\n",
       "      <td>Soja</td>\n",
       "      <td>3,290.98</td>\n",
       "      <td>38.00</td>\n",
       "    </tr>\n",
       "    <tr>\n",
       "      <th>1997</th>\n",
       "      <td>2555</td>\n",
       "      <td>Soja</td>\n",
       "      <td>3,452.70</td>\n",
       "      <td>37.98</td>\n",
       "    </tr>\n",
       "    <tr>\n",
       "      <th>8897</th>\n",
       "      <td>2555</td>\n",
       "      <td>Soja</td>\n",
       "      <td>3,318.18</td>\n",
       "      <td>37.95</td>\n",
       "    </tr>\n",
       "    <tr>\n",
       "      <th>3950</th>\n",
       "      <td>2555</td>\n",
       "      <td>Soja</td>\n",
       "      <td>3,339.12</td>\n",
       "      <td>37.94</td>\n",
       "    </tr>\n",
       "    <tr>\n",
       "      <th>81</th>\n",
       "      <td>2555</td>\n",
       "      <td>Soja</td>\n",
       "      <td>3,448.82</td>\n",
       "      <td>37.94</td>\n",
       "    </tr>\n",
       "    <tr>\n",
       "      <th>450</th>\n",
       "      <td>2555</td>\n",
       "      <td>Soja</td>\n",
       "      <td>3,509.62</td>\n",
       "      <td>37.90</td>\n",
       "    </tr>\n",
       "    <tr>\n",
       "      <th>4392</th>\n",
       "      <td>2555</td>\n",
       "      <td>Soja</td>\n",
       "      <td>3,193.75</td>\n",
       "      <td>37.87</td>\n",
       "    </tr>\n",
       "    <tr>\n",
       "      <th>14231</th>\n",
       "      <td>2555</td>\n",
       "      <td>Soja</td>\n",
       "      <td>3,115.85</td>\n",
       "      <td>37.84</td>\n",
       "    </tr>\n",
       "    <tr>\n",
       "      <th>2090</th>\n",
       "      <td>2555</td>\n",
       "      <td>Soja</td>\n",
       "      <td>3,461.21</td>\n",
       "      <td>37.76</td>\n",
       "    </tr>\n",
       "    <tr>\n",
       "      <th>3485</th>\n",
       "      <td>2555</td>\n",
       "      <td>Soja</td>\n",
       "      <td>3,280.90</td>\n",
       "      <td>37.73</td>\n",
       "    </tr>\n",
       "    <tr>\n",
       "      <th>1274</th>\n",
       "      <td>2555</td>\n",
       "      <td>Soja</td>\n",
       "      <td>3,590.16</td>\n",
       "      <td>37.70</td>\n",
       "    </tr>\n",
       "    <tr>\n",
       "      <th>3670</th>\n",
       "      <td>2555</td>\n",
       "      <td>Soja</td>\n",
       "      <td>3,318.18</td>\n",
       "      <td>37.69</td>\n",
       "    </tr>\n",
       "    <tr>\n",
       "      <th>8449</th>\n",
       "      <td>2555</td>\n",
       "      <td>Soja</td>\n",
       "      <td>3,476.19</td>\n",
       "      <td>37.66</td>\n",
       "    </tr>\n",
       "  </tbody>\n",
       "</table>\n",
       "</div>"
      ],
      "text/plain": [
       "       CPROD                 PROD  RATIO(kcal/kg)  Taux_Prot(%)\n",
       "9684    2763  Poissons Pelagiques        6,083.33         42.58\n",
       "9892    2555                 Soja        3,842.11         38.42\n",
       "4957    2555                 Soja        3,244.44         38.12\n",
       "7499    2555                 Soja        4,276.57         38.09\n",
       "14661   2555                 Soja        3,300.53         38.05\n",
       "15440   2555                 Soja        3,350.00         38.00\n",
       "14412   2555                 Soja        3,250.00         38.00\n",
       "2467    2555                 Soja        3,290.98         38.00\n",
       "1997    2555                 Soja        3,452.70         37.98\n",
       "8897    2555                 Soja        3,318.18         37.95\n",
       "3950    2555                 Soja        3,339.12         37.94\n",
       "81      2555                 Soja        3,448.82         37.94\n",
       "450     2555                 Soja        3,509.62         37.90\n",
       "4392    2555                 Soja        3,193.75         37.87\n",
       "14231   2555                 Soja        3,115.85         37.84\n",
       "2090    2555                 Soja        3,461.21         37.76\n",
       "3485    2555                 Soja        3,280.90         37.73\n",
       "1274    2555                 Soja        3,590.16         37.70\n",
       "3670    2555                 Soja        3,318.18         37.69\n",
       "8449    2555                 Soja        3,476.19         37.66"
      ]
     },
     "execution_count": 32,
     "metadata": {},
     "output_type": "execute_result"
    }
   ],
   "source": [
    "q5t = gen.copy()\n",
    "q5t.drop(q5t[q5t['Taux_Prot(%)'] == 0].index, inplace=True)\n",
    "q5t.replace([np.inf, -np.inf], np.nan)\n",
    "q5t.dropna(subset=['Taux_Prot(%)'], inplace=True)\n",
    "q5t.sort_values(['Taux_Prot(%)'], ascending=[False])[['CPROD', 'PROD', 'RATIO(kcal/kg)', 'Taux_Prot(%)']].head(20)"
   ]
  },
  {
   "cell_type": "markdown",
   "metadata": {},
   "source": [
    "#####   <font color='#61210B'> /// Export des dataframes Calculés (q4r, q4t, q5) gen dans un fichier Excel pour contrôle futurs/// </font> Nom du fichier = PJ3_Ratios.xlsx"
   ]
  },
  {
   "cell_type": "code",
   "execution_count": 33,
   "metadata": {},
   "outputs": [
    {
     "name": "stdout",
     "output_type": "stream",
     "text": [
      "D:\\DATA_ANALYST\\WORK\\#GITHUB\\PJ3\n"
     ]
    }
   ],
   "source": [
    "%cd .."
   ]
  },
  {
   "cell_type": "code",
   "execution_count": 34,
   "metadata": {},
   "outputs": [],
   "source": [
    "writer = pd.ExcelWriter(\"OUTFILES/PJ3_Ratios.xlsx\")\n",
    "q4r.to_excel(writer,'Ratio')\n",
    "q4t.to_excel(writer,'Taux_Prot')\n",
    "q5r.to_excel(writer,'Max_Cal')\n",
    "q5t.to_excel(writer,'Max_Prot')\n",
    "writer.save()"
   ]
  },
  {
   "cell_type": "markdown",
   "metadata": {},
   "source": [
    "#####   <font color='#61210B'> /// Export du dataframe gen dans un fichier Excel pour contrôle futurs/// </font> Nom du fichier = PJ3_Bilan_Alim_gen_out.xlsx"
   ]
  },
  {
   "cell_type": "code",
   "execution_count": 35,
   "metadata": {},
   "outputs": [],
   "source": [
    "writer = pd.ExcelWriter(\"OUTFILES/PJ3_Bilan_Alim_gen_out.xlsx\")\n",
    "gen.to_excel(writer,'Sheet1')\n",
    "writer.save()"
   ]
  },
  {
   "attachments": {
    "Dataframe-gen.png": {
     "image/png": "[encoded data removed]"
    }
   },
   "cell_type": "markdown",
   "metadata": {},
   "source": [
    "<p style=\"text-align:center\";><font color='#38610B'><u>DataFrame \"gen\" - Détails des champs et définitions</u></p>\n",
    "\n",
    "<img src=\"attachment:Dataframe-gen.png\" width=\"500\">"
   ]
  },
  {
   "cell_type": "markdown",
   "metadata": {},
   "source": [
    "<hr style=\"height: 3px; color: #839D2D; width: 100%; \">\n",
    "\n",
    "###  <font color='#61210B'><u>QUESTION 6</u></font> : Calcul de la Disponibilité Intérieure mondiale pour les Végétaux\n",
    "\n",
    "Exprimer le résultat en kcal"
   ]
  },
  {
   "cell_type": "markdown",
   "metadata": {},
   "source": [
    "On recupère le dataframe \"gen\" utilisé précédemment, on ne garde que les lignes \"vegetaux\" et on calcul le [QT_DISPINT]  \n",
    "Ici le Ratio est en ((kcal/kg/pers/an), la QT_DISPINT est en milliers_tonnes/pays/an.  \n",
    "\n",
    "ATTENTION :   \n",
    "- Selectionner les lignes de type ['ORIG'] == 'vegetal'   (ou supprimer lignes \"animal\")\n",
    "- Supprimer les lignes RATIO=0  \n",
    "- Supprimer les lignes QT_DISPINT = 0\n",
    "- Supprimer lies lignes \"inf\"inite values\n",
    "\n",
    "\n",
    "- Calcul par pays/produit de QT_DI_VEG_KCAL1 (en Millions kcal/an ) avec\n",
    "      QT_DI_VEG_KCAL1 =  QT_DISPINT  *  RATIO(kcal/kg)\n",
    "\n",
    "- Calcul par pays/produit de QT_DI_VEG_KCAL2 (en kcal/jour)\n",
    "      QT_DI_VEG_KCAL2 =  (QT_DISPINT  *  RATIO(kcal/kg) * 1'000'000  )  /   (VALP*365)"
   ]
  },
  {
   "cell_type": "code",
   "execution_count": 36,
   "metadata": {
    "scrolled": true
   },
   "outputs": [
    {
     "data": {
      "text/html": [
       "<div>\n",
       "<style scoped>\n",
       "    .dataframe tbody tr th:only-of-type {\n",
       "        vertical-align: middle;\n",
       "    }\n",
       "\n",
       "    .dataframe tbody tr th {\n",
       "        vertical-align: top;\n",
       "    }\n",
       "\n",
       "    .dataframe thead th {\n",
       "        text-align: right;\n",
       "    }\n",
       "</style>\n",
       "<table border=\"1\" class=\"dataframe\">\n",
       "  <thead>\n",
       "    <tr style=\"text-align: right;\">\n",
       "      <th></th>\n",
       "      <th>PAYS</th>\n",
       "      <th>VALP</th>\n",
       "      <th>PROD</th>\n",
       "      <th>ORIG</th>\n",
       "      <th>QT_DISPINT</th>\n",
       "      <th>RATIO(kcal/kg)</th>\n",
       "      <th>Taux_Prot(%)</th>\n",
       "      <th>QT_DI_VEG_KCAL1</th>\n",
       "      <th>QT_DI_VEG_KCAL2</th>\n",
       "    </tr>\n",
       "  </thead>\n",
       "  <tbody>\n",
       "    <tr>\n",
       "      <th>0</th>\n",
       "      <td>Afghanistan</td>\n",
       "      <td>30552000</td>\n",
       "      <td>Blé</td>\n",
       "      <td>vegetal</td>\n",
       "      <td>5,992.00</td>\n",
       "      <td>3,118.55</td>\n",
       "      <td>8.41</td>\n",
       "      <td>18,686,341.63</td>\n",
       "      <td>1,675.68</td>\n",
       "    </tr>\n",
       "    <tr>\n",
       "      <th>1</th>\n",
       "      <td>Afghanistan</td>\n",
       "      <td>30552000</td>\n",
       "      <td>Orge</td>\n",
       "      <td>vegetal</td>\n",
       "      <td>524.00</td>\n",
       "      <td>3,250.00</td>\n",
       "      <td>9.88</td>\n",
       "      <td>1,703,000.00</td>\n",
       "      <td>152.72</td>\n",
       "    </tr>\n",
       "    <tr>\n",
       "      <th>2</th>\n",
       "      <td>Afghanistan</td>\n",
       "      <td>30552000</td>\n",
       "      <td>Maïs</td>\n",
       "      <td>vegetal</td>\n",
       "      <td>313.00</td>\n",
       "      <td>3,066.00</td>\n",
       "      <td>8.18</td>\n",
       "      <td>959,658.00</td>\n",
       "      <td>86.06</td>\n",
       "    </tr>\n",
       "    <tr>\n",
       "      <th>3</th>\n",
       "      <td>Afghanistan</td>\n",
       "      <td>30552000</td>\n",
       "      <td>Millet</td>\n",
       "      <td>vegetal</td>\n",
       "      <td>13.00</td>\n",
       "      <td>2,737.50</td>\n",
       "      <td>7.30</td>\n",
       "      <td>35,587.50</td>\n",
       "      <td>3.19</td>\n",
       "    </tr>\n",
       "    <tr>\n",
       "      <th>4</th>\n",
       "      <td>Afghanistan</td>\n",
       "      <td>30552000</td>\n",
       "      <td>Céréales, Autres</td>\n",
       "      <td>vegetal</td>\n",
       "      <td>0.00</td>\n",
       "      <td>0.00</td>\n",
       "      <td>nan</td>\n",
       "      <td>0.00</td>\n",
       "      <td>0.00</td>\n",
       "    </tr>\n",
       "  </tbody>\n",
       "</table>\n",
       "</div>"
      ],
      "text/plain": [
       "          PAYS      VALP              PROD     ORIG  QT_DISPINT  \\\n",
       "0  Afghanistan  30552000               Blé  vegetal    5,992.00   \n",
       "1  Afghanistan  30552000              Orge  vegetal      524.00   \n",
       "2  Afghanistan  30552000              Maïs  vegetal      313.00   \n",
       "3  Afghanistan  30552000            Millet  vegetal       13.00   \n",
       "4  Afghanistan  30552000  Céréales, Autres  vegetal        0.00   \n",
       "\n",
       "   RATIO(kcal/kg)  Taux_Prot(%)  QT_DI_VEG_KCAL1  QT_DI_VEG_KCAL2  \n",
       "0        3,118.55          8.41    18,686,341.63         1,675.68  \n",
       "1        3,250.00          9.88     1,703,000.00           152.72  \n",
       "2        3,066.00          8.18       959,658.00            86.06  \n",
       "3        2,737.50          7.30        35,587.50             3.19  \n",
       "4            0.00           nan             0.00             0.00  "
      ]
     },
     "execution_count": 36,
     "metadata": {},
     "output_type": "execute_result"
    }
   ],
   "source": [
    "q6 = gen[['PAYS', 'VALP', 'PROD', 'ORIG', 'QT_DISPINT', 'RATIO(kcal/kg)', 'Taux_Prot(%)']].copy()\n",
    "q6.drop(q6[q6.ORIG == 'animal'].index, inplace=True)\n",
    "\n",
    "q6['QT_DISPINT'] = q6['QT_DISPINT'].fillna(0)\n",
    "q6['RATIO(kcal/kg)'] = q6['RATIO(kcal/kg)'].fillna(0)\n",
    "\n",
    "q6['QT_DI_VEG_KCAL1'] = (q6['QT_DISPINT']*q6['RATIO(kcal/kg)'])\n",
    "q6['QT_DI_VEG_KCAL2'] = (q6['QT_DI_VEG_KCAL1']*1000000)/(q6['VALP']*365)\n",
    "q6.head()"
   ]
  },
  {
   "cell_type": "markdown",
   "metadata": {},
   "source": [
    "#####   <font color='#61210B'>Formule Dispo intérieure annuelle mondiale / personne (en kcal)\n",
    "\n",
    "- DI_VEG(kcal/p/j) = Sum(QT_DI_VEG_KCAL1)* 1'000'000 /( 365 * pop_monde )  "
   ]
  },
  {
   "cell_type": "code",
   "execution_count": 37,
   "metadata": {
    "scrolled": false
   },
   "outputs": [
    {
     "data": {
      "text/markdown": [
       "<strong>Disponibilité Intérieure Mondiale des 'végétaux' exprimée en Kcal: </strong>4763.629 (Kcal/p/j)"
      ],
      "text/plain": [
       "<IPython.core.display.Markdown object>"
      ]
     },
     "execution_count": 37,
     "metadata": {},
     "output_type": "execute_result"
    }
   ],
   "source": [
    "DI_VEG_kcal_p_j = q6['QT_DI_VEG_KCAL1'].sum()*1000000 / (365*pop_monde)\n",
    "parm1 = \"Disponibilité Intérieure Mondiale des 'végétaux' exprimée en Kcal: \"\n",
    "Markdown('<strong>{}</strong>{}{}'.format(parm1, round(DI_VEG_kcal_p_j, 3), \" (Kcal/p/j)\"))"
   ]
  },
  {
   "cell_type": "markdown",
   "metadata": {},
   "source": [
    "<hr style=\"height: 3px; color: #839D2D; width: 100%; \">\n",
    "\n",
    "###  <font color='#61210B'><u>QUESTION 7</u></font> : Nb humains nourris en fonction de Disponibilité Intérieure mondiale des Végétaux\n",
    "\n",
    "En calories, protéines, et pourcentage.  \n",
    "  \n",
    "<u>Estimation basée sur wiki et FAO </u>(source: https://fr.wikipedia.org/wiki/Prot%C3%A9ine#Quantit%C3%A9s_recommand%C3%A9es ) :  \n",
    "Les besoins moyens en protéines ont été définis par la FAO qui recommande 49 g de protéines pour les hommes adultes et 41 pour les femmes (47 si enceintes, 58,5 si allaitantes)  \n",
    "Il est extrémement difficile de trouver un chiffre \"moyen\" tant il y a de paramètres a prendre en compte.  \n",
    "Le sexe (homme/femme), le poids de la personne, le pays dans lequel elle vit, etc...   \n",
    "Pour l'exercice je vais prendre les données Wiki de cette source : https://fr.wikipedia.org/wiki/Apports_journaliers_recommand%C3%A9s  \n",
    "Énergie \t2 000 kcal  \n",
    "Protéines \t50 g\n",
    "\n"
   ]
  },
  {
   "cell_type": "markdown",
   "metadata": {},
   "source": [
    "On applique le même principe qu'à la question 6 pour les protéines  \n",
    "\n",
    "- Calcul par pays/produit de QT_DI_VEG_PROT avec\n",
    "      QT_DI_VEG_PROT1 =  QT_DISPINT  *  Taux_Prot(%) * 1000 / 100\n",
    "\n",
    "- Calcul en gr Protéines/jour\n",
    "      QT_DI_VEG_PROT2 =  (QT_DI_VEG_PROT1  * 1'000'000  )  /   (VALP*365)\n",
    "\n"
   ]
  },
  {
   "cell_type": "code",
   "execution_count": 38,
   "metadata": {
    "scrolled": false
   },
   "outputs": [
    {
     "data": {
      "text/html": [
       "<div>\n",
       "<style scoped>\n",
       "    .dataframe tbody tr th:only-of-type {\n",
       "        vertical-align: middle;\n",
       "    }\n",
       "\n",
       "    .dataframe tbody tr th {\n",
       "        vertical-align: top;\n",
       "    }\n",
       "\n",
       "    .dataframe thead th {\n",
       "        text-align: right;\n",
       "    }\n",
       "</style>\n",
       "<table border=\"1\" class=\"dataframe\">\n",
       "  <thead>\n",
       "    <tr style=\"text-align: right;\">\n",
       "      <th></th>\n",
       "      <th>PAYS</th>\n",
       "      <th>VALP</th>\n",
       "      <th>PROD</th>\n",
       "      <th>ORIG</th>\n",
       "      <th>QT_DISPINT</th>\n",
       "      <th>RATIO(kcal/kg)</th>\n",
       "      <th>Taux_Prot(%)</th>\n",
       "      <th>QT_DI_VEG_PROT1</th>\n",
       "      <th>QT_DI_VEG_PROT2</th>\n",
       "    </tr>\n",
       "  </thead>\n",
       "  <tbody>\n",
       "    <tr>\n",
       "      <th>0</th>\n",
       "      <td>Afghanistan</td>\n",
       "      <td>30552000</td>\n",
       "      <td>Blé</td>\n",
       "      <td>vegetal</td>\n",
       "      <td>5,992.00</td>\n",
       "      <td>3,118.55</td>\n",
       "      <td>8.41</td>\n",
       "      <td>503,807.79</td>\n",
       "      <td>45.18</td>\n",
       "    </tr>\n",
       "    <tr>\n",
       "      <th>1</th>\n",
       "      <td>Afghanistan</td>\n",
       "      <td>30552000</td>\n",
       "      <td>Orge</td>\n",
       "      <td>vegetal</td>\n",
       "      <td>524.00</td>\n",
       "      <td>3,250.00</td>\n",
       "      <td>9.88</td>\n",
       "      <td>51,745.00</td>\n",
       "      <td>4.64</td>\n",
       "    </tr>\n",
       "    <tr>\n",
       "      <th>2</th>\n",
       "      <td>Afghanistan</td>\n",
       "      <td>30552000</td>\n",
       "      <td>Maïs</td>\n",
       "      <td>vegetal</td>\n",
       "      <td>313.00</td>\n",
       "      <td>3,066.00</td>\n",
       "      <td>8.18</td>\n",
       "      <td>25,590.88</td>\n",
       "      <td>2.29</td>\n",
       "    </tr>\n",
       "    <tr>\n",
       "      <th>3</th>\n",
       "      <td>Afghanistan</td>\n",
       "      <td>30552000</td>\n",
       "      <td>Millet</td>\n",
       "      <td>vegetal</td>\n",
       "      <td>13.00</td>\n",
       "      <td>2,737.50</td>\n",
       "      <td>7.30</td>\n",
       "      <td>949.00</td>\n",
       "      <td>0.09</td>\n",
       "    </tr>\n",
       "    <tr>\n",
       "      <th>4</th>\n",
       "      <td>Afghanistan</td>\n",
       "      <td>30552000</td>\n",
       "      <td>Céréales, Autres</td>\n",
       "      <td>vegetal</td>\n",
       "      <td>0.00</td>\n",
       "      <td>nan</td>\n",
       "      <td>0.00</td>\n",
       "      <td>0.00</td>\n",
       "      <td>0.00</td>\n",
       "    </tr>\n",
       "  </tbody>\n",
       "</table>\n",
       "</div>"
      ],
      "text/plain": [
       "          PAYS      VALP              PROD     ORIG  QT_DISPINT  \\\n",
       "0  Afghanistan  30552000               Blé  vegetal    5,992.00   \n",
       "1  Afghanistan  30552000              Orge  vegetal      524.00   \n",
       "2  Afghanistan  30552000              Maïs  vegetal      313.00   \n",
       "3  Afghanistan  30552000            Millet  vegetal       13.00   \n",
       "4  Afghanistan  30552000  Céréales, Autres  vegetal        0.00   \n",
       "\n",
       "   RATIO(kcal/kg)  Taux_Prot(%)  QT_DI_VEG_PROT1  QT_DI_VEG_PROT2  \n",
       "0        3,118.55          8.41       503,807.79            45.18  \n",
       "1        3,250.00          9.88        51,745.00             4.64  \n",
       "2        3,066.00          8.18        25,590.88             2.29  \n",
       "3        2,737.50          7.30           949.00             0.09  \n",
       "4             nan          0.00             0.00             0.00  "
      ]
     },
     "execution_count": 38,
     "metadata": {},
     "output_type": "execute_result"
    }
   ],
   "source": [
    "q7 = gen[['PAYS', 'VALP', 'PROD', 'ORIG', 'QT_DISPINT', 'RATIO(kcal/kg)', 'Taux_Prot(%)']].copy()\n",
    "q7.drop(q7[q7.ORIG == 'animal'].index, inplace=True)\n",
    "\n",
    "q7['QT_DISPINT'] = q7['QT_DISPINT'].fillna(0)\n",
    "q7['Taux_Prot(%)'] = q7['Taux_Prot(%)'].fillna(0)\n",
    "\n",
    "q7['QT_DI_VEG_PROT1'] = (q7['QT_DISPINT']*q7['Taux_Prot(%)']*1000) / 100 \n",
    "q7['QT_DI_VEG_PROT2'] = (q7['QT_DI_VEG_PROT1']*1000000)/(q7['VALP']*365)\n",
    "q7.head()\n"
   ]
  },
  {
   "cell_type": "markdown",
   "metadata": {},
   "source": [
    "#####   <font color='#61210B'>Formule Dispo intérieure annuelle mondiale / personne (en gr Protéines) :\n",
    "- DI_VEG(prot/p/j) = ∑(QT_DI_VEG_PROT1)* 1'000'000 /( 365 * pop_monde )"
   ]
  },
  {
   "cell_type": "code",
   "execution_count": 39,
   "metadata": {
    "scrolled": true
   },
   "outputs": [
    {
     "data": {
      "text/markdown": [
       "<strong>Disponibilité Intérieure Mondiale des 'végétaux' exprimée en protéines: </strong>114.328 (gr Protéines/p/j)"
      ],
      "text/plain": [
       "<IPython.core.display.Markdown object>"
      ]
     },
     "execution_count": 39,
     "metadata": {},
     "output_type": "execute_result"
    }
   ],
   "source": [
    "DI_VEG_prot_p_j = q7['QT_DI_VEG_PROT1'].sum()*1000000 / (365*pop_monde)\n",
    "parm1 = \"Disponibilité Intérieure Mondiale des 'végétaux' exprimée en protéines: \"\n",
    "Markdown('<strong>{}</strong>{}{}'.format(parm1, round(DI_VEG_prot_p_j, 3), \" (gr Protéines/p/j)\"))\n"
   ]
  },
  {
   "cell_type": "markdown",
   "metadata": {},
   "source": [
    "#####   <font color='#61210B'>En exprimant ces resulats en (%) de la population mondiale :   \n",
    "Base de l'enoncé ci-dessus : \n",
    "- Énergie \t2 000 kcal  \n",
    "- Protéines \t50 g"
   ]
  },
  {
   "cell_type": "code",
   "execution_count": 40,
   "metadata": {},
   "outputs": [],
   "source": [
    "var_wiki_nrj = 2000     # Variable - valeur wiki (en kcal) des besoins journalier d'un être humain\n",
    "var_wiki_prot = 50      # Variable - valeur wiki (en gr protéines) des besoins journalier d'un être humain"
   ]
  },
  {
   "cell_type": "code",
   "execution_count": 41,
   "metadata": {
    "scrolled": false
   },
   "outputs": [],
   "source": [
    "xcal = (DI_VEG_kcal_p_j*pop_monde)*100/(pop_monde*var_wiki_nrj)\n",
    "xprot = (DI_VEG_prot_p_j*pop_monde)*100/(pop_monde*var_wiki_prot)\n",
    "hcal = (xcal/100) * pop_monde\n",
    "hprot = (xprot/100) * pop_monde"
   ]
  },
  {
   "cell_type": "code",
   "execution_count": 42,
   "metadata": {
    "scrolled": true
   },
   "outputs": [
    {
     "data": {
      "text/html": [
       "<h3>Disponibilité Intérieure Mondiale de végétaux en Kcal</h3>"
      ],
      "text/plain": [
       "<IPython.core.display.HTML object>"
      ]
     },
     "metadata": {},
     "output_type": "display_data"
    },
    {
     "data": {
      "text/markdown": [
       "<strong>238.18</strong>(%) des besoins mondiaux. Soit <strong> 16,666,330,855</strong> humains"
      ],
      "text/plain": [
       "<IPython.core.display.Markdown object>"
      ]
     },
     "execution_count": 42,
     "metadata": {},
     "output_type": "execute_result"
    }
   ],
   "source": [
    "display(HTML('<h3>Disponibilité Intérieure Mondiale de végétaux en Kcal</h3>'))\n",
    "parm1 = str(round(xcal,2))\n",
    "parm2 = \"(%) des besoins mondiaux. Soit \"\n",
    "parm3 = str('{:15,.0f}'.format(hcal))\n",
    "parm4 = \" humains\"\n",
    "Markdown('<strong>{}</strong>{}<strong>{}</strong>{}'.format(parm1, parm2, parm3, parm4))"
   ]
  },
  {
   "cell_type": "code",
   "execution_count": 43,
   "metadata": {
    "scrolled": false
   },
   "outputs": [
    {
     "data": {
      "text/html": [
       "<h3>Disponibilité Intérieure Mondiale de végétaux en Protéines</h3>"
      ],
      "text/plain": [
       "<IPython.core.display.HTML object>"
      ]
     },
     "metadata": {},
     "output_type": "display_data"
    },
    {
     "data": {
      "text/markdown": [
       "<strong>228.66</strong>(%) des besoins mondiaux. Soit <strong> 15,999,771,277</strong> humains"
      ],
      "text/plain": [
       "<IPython.core.display.Markdown object>"
      ]
     },
     "execution_count": 43,
     "metadata": {},
     "output_type": "execute_result"
    }
   ],
   "source": [
    "display(HTML('<h3>Disponibilité Intérieure Mondiale de végétaux en Protéines</h3>'))\n",
    "parm1 = str(round(xprot,2))\n",
    "parm2 = \"(%) des besoins mondiaux. Soit \"\n",
    "parm3 = str('{:15,.0f}'.format(hprot))\n",
    "parm4 = \" humains\"\n",
    "Markdown('<strong>{}</strong>{}<strong>{}</strong>{}'.format(parm1, parm2, parm3, parm4))"
   ]
  },
  {
   "cell_type": "markdown",
   "metadata": {},
   "source": [
    "<hr style=\"height: 3px; color: #839D2D; width: 100%; \">\n",
    "\n",
    "###  <font color='#61210B'><u>QUESTION 8</u></font> : Nb humains nourris en fonction de Disponibilité Alim. mondiale des Végétaux, nourriture végétale destinée aux animaux, et pertes de produits végétaux\n",
    "\n",
    "En calories, protéines, et pourcentage.  \n",
    "  \n",
    "Comme pour les questions Q7/Q8, ici on va prendre la somme des 3 éléments ci-dessus en termes de quantité"
   ]
  },
  {
   "cell_type": "markdown",
   "metadata": {},
   "source": [
    "#####   <font color='#61210B'>Calculs en kcal"
   ]
  },
  {
   "cell_type": "code",
   "execution_count": 44,
   "metadata": {
    "scrolled": false
   },
   "outputs": [
    {
     "data": {
      "text/html": [
       "<div>\n",
       "<style scoped>\n",
       "    .dataframe tbody tr th:only-of-type {\n",
       "        vertical-align: middle;\n",
       "    }\n",
       "\n",
       "    .dataframe tbody tr th {\n",
       "        vertical-align: top;\n",
       "    }\n",
       "\n",
       "    .dataframe thead th {\n",
       "        text-align: right;\n",
       "    }\n",
       "</style>\n",
       "<table border=\"1\" class=\"dataframe\">\n",
       "  <thead>\n",
       "    <tr style=\"text-align: right;\">\n",
       "      <th></th>\n",
       "      <th>PAYS</th>\n",
       "      <th>VALP</th>\n",
       "      <th>PROD</th>\n",
       "      <th>ORIG</th>\n",
       "      <th>QT_NOURRIT</th>\n",
       "      <th>QT_ALIMANI</th>\n",
       "      <th>QT_PERTES</th>\n",
       "      <th>RATIO(kcal/kg)</th>\n",
       "      <th>Taux_Prot(%)</th>\n",
       "      <th>QT_DA_CALC</th>\n",
       "      <th>QT_DA_VEG_KCAL</th>\n",
       "    </tr>\n",
       "  </thead>\n",
       "  <tbody>\n",
       "    <tr>\n",
       "      <th>0</th>\n",
       "      <td>Afghanistan</td>\n",
       "      <td>30552000</td>\n",
       "      <td>Blé</td>\n",
       "      <td>vegetal</td>\n",
       "      <td>4,895.00</td>\n",
       "      <td>0.00</td>\n",
       "      <td>775.00</td>\n",
       "      <td>3,118.55</td>\n",
       "      <td>8.41</td>\n",
       "      <td>5,670.00</td>\n",
       "      <td>17,682,169.07</td>\n",
       "    </tr>\n",
       "    <tr>\n",
       "      <th>1</th>\n",
       "      <td>Afghanistan</td>\n",
       "      <td>30552000</td>\n",
       "      <td>Orge</td>\n",
       "      <td>vegetal</td>\n",
       "      <td>89.00</td>\n",
       "      <td>360.00</td>\n",
       "      <td>52.00</td>\n",
       "      <td>3,250.00</td>\n",
       "      <td>9.88</td>\n",
       "      <td>501.00</td>\n",
       "      <td>1,628,250.00</td>\n",
       "    </tr>\n",
       "    <tr>\n",
       "      <th>2</th>\n",
       "      <td>Afghanistan</td>\n",
       "      <td>30552000</td>\n",
       "      <td>Maïs</td>\n",
       "      <td>vegetal</td>\n",
       "      <td>76.00</td>\n",
       "      <td>200.00</td>\n",
       "      <td>31.00</td>\n",
       "      <td>3,066.00</td>\n",
       "      <td>8.18</td>\n",
       "      <td>307.00</td>\n",
       "      <td>941,262.00</td>\n",
       "    </tr>\n",
       "    <tr>\n",
       "      <th>3</th>\n",
       "      <td>Afghanistan</td>\n",
       "      <td>30552000</td>\n",
       "      <td>Millet</td>\n",
       "      <td>vegetal</td>\n",
       "      <td>12.00</td>\n",
       "      <td>0.00</td>\n",
       "      <td>1.00</td>\n",
       "      <td>2,737.50</td>\n",
       "      <td>7.30</td>\n",
       "      <td>13.00</td>\n",
       "      <td>35,587.50</td>\n",
       "    </tr>\n",
       "    <tr>\n",
       "      <th>4</th>\n",
       "      <td>Afghanistan</td>\n",
       "      <td>30552000</td>\n",
       "      <td>Céréales, Autres</td>\n",
       "      <td>vegetal</td>\n",
       "      <td>0.00</td>\n",
       "      <td>0.00</td>\n",
       "      <td>0.00</td>\n",
       "      <td>0.00</td>\n",
       "      <td>nan</td>\n",
       "      <td>0.00</td>\n",
       "      <td>0.00</td>\n",
       "    </tr>\n",
       "  </tbody>\n",
       "</table>\n",
       "</div>"
      ],
      "text/plain": [
       "          PAYS      VALP              PROD     ORIG  QT_NOURRIT  QT_ALIMANI  \\\n",
       "0  Afghanistan  30552000               Blé  vegetal    4,895.00        0.00   \n",
       "1  Afghanistan  30552000              Orge  vegetal       89.00      360.00   \n",
       "2  Afghanistan  30552000              Maïs  vegetal       76.00      200.00   \n",
       "3  Afghanistan  30552000            Millet  vegetal       12.00        0.00   \n",
       "4  Afghanistan  30552000  Céréales, Autres  vegetal        0.00        0.00   \n",
       "\n",
       "   QT_PERTES  RATIO(kcal/kg)  Taux_Prot(%)  QT_DA_CALC  QT_DA_VEG_KCAL  \n",
       "0     775.00        3,118.55          8.41    5,670.00   17,682,169.07  \n",
       "1      52.00        3,250.00          9.88      501.00    1,628,250.00  \n",
       "2      31.00        3,066.00          8.18      307.00      941,262.00  \n",
       "3       1.00        2,737.50          7.30       13.00       35,587.50  \n",
       "4       0.00            0.00           nan        0.00            0.00  "
      ]
     },
     "execution_count": 44,
     "metadata": {},
     "output_type": "execute_result"
    }
   ],
   "source": [
    "q8 = gen[['PAYS', 'VALP', 'PROD', 'ORIG', 'QT_NOURRIT', 'QT_ALIMANI', 'QT_PERTES', 'RATIO(kcal/kg)', \n",
    "         'Taux_Prot(%)']].copy()\n",
    "q8.drop(q8[q8.ORIG == 'animal'].index, inplace=True)\n",
    "# Remplacer les valeurs NAN par 0 vant d'en faire la somme\n",
    "q8.QT_NOURRIT = q8.QT_NOURRIT.fillna(0)\n",
    "q8.QT_ALIMANI = q8.QT_ALIMANI.fillna(0)\n",
    "q8.QT_PERTES = q8.QT_PERTES.fillna(0)\n",
    "q8['RATIO(kcal/kg)'] = q8['RATIO(kcal/kg)'].fillna(0)\n",
    "\n",
    "# Memorisation de la somme des Dispo Alim. nécessaires à la question\n",
    "q8['QT_DA_CALC'] = q8['QT_NOURRIT'] + q8['QT_ALIMANI'] + q8['QT_PERTES']\n",
    "\n",
    "\n",
    "q8['QT_DA_VEG_KCAL'] = (q8['QT_DA_CALC']*q8['RATIO(kcal/kg)'])\n",
    "DA_VEG_kcal_p_j = q8['QT_DA_VEG_KCAL'].sum()*1000000 / (365*pop_monde)\n",
    "q8.head()"
   ]
  },
  {
   "cell_type": "markdown",
   "metadata": {},
   "source": [
    "#####   <font color='#61210B'>Calculs en gr de Protéines"
   ]
  },
  {
   "cell_type": "code",
   "execution_count": 45,
   "metadata": {},
   "outputs": [
    {
     "data": {
      "text/html": [
       "<div>\n",
       "<style scoped>\n",
       "    .dataframe tbody tr th:only-of-type {\n",
       "        vertical-align: middle;\n",
       "    }\n",
       "\n",
       "    .dataframe tbody tr th {\n",
       "        vertical-align: top;\n",
       "    }\n",
       "\n",
       "    .dataframe thead th {\n",
       "        text-align: right;\n",
       "    }\n",
       "</style>\n",
       "<table border=\"1\" class=\"dataframe\">\n",
       "  <thead>\n",
       "    <tr style=\"text-align: right;\">\n",
       "      <th></th>\n",
       "      <th>PAYS</th>\n",
       "      <th>VALP</th>\n",
       "      <th>PROD</th>\n",
       "      <th>ORIG</th>\n",
       "      <th>QT_NOURRIT</th>\n",
       "      <th>QT_ALIMANI</th>\n",
       "      <th>QT_PERTES</th>\n",
       "      <th>RATIO(kcal/kg)</th>\n",
       "      <th>Taux_Prot(%)</th>\n",
       "      <th>QT_DA_CALC</th>\n",
       "      <th>QT_DA_VEG_PROT</th>\n",
       "    </tr>\n",
       "  </thead>\n",
       "  <tbody>\n",
       "    <tr>\n",
       "      <th>0</th>\n",
       "      <td>Afghanistan</td>\n",
       "      <td>30552000</td>\n",
       "      <td>Blé</td>\n",
       "      <td>vegetal</td>\n",
       "      <td>4,895.00</td>\n",
       "      <td>0.00</td>\n",
       "      <td>775.00</td>\n",
       "      <td>3,118.55</td>\n",
       "      <td>8.41</td>\n",
       "      <td>5,670.00</td>\n",
       "      <td>476,734.01</td>\n",
       "    </tr>\n",
       "    <tr>\n",
       "      <th>1</th>\n",
       "      <td>Afghanistan</td>\n",
       "      <td>30552000</td>\n",
       "      <td>Orge</td>\n",
       "      <td>vegetal</td>\n",
       "      <td>89.00</td>\n",
       "      <td>360.00</td>\n",
       "      <td>52.00</td>\n",
       "      <td>3,250.00</td>\n",
       "      <td>9.88</td>\n",
       "      <td>501.00</td>\n",
       "      <td>49,473.75</td>\n",
       "    </tr>\n",
       "    <tr>\n",
       "      <th>2</th>\n",
       "      <td>Afghanistan</td>\n",
       "      <td>30552000</td>\n",
       "      <td>Maïs</td>\n",
       "      <td>vegetal</td>\n",
       "      <td>76.00</td>\n",
       "      <td>200.00</td>\n",
       "      <td>31.00</td>\n",
       "      <td>3,066.00</td>\n",
       "      <td>8.18</td>\n",
       "      <td>307.00</td>\n",
       "      <td>25,100.32</td>\n",
       "    </tr>\n",
       "    <tr>\n",
       "      <th>3</th>\n",
       "      <td>Afghanistan</td>\n",
       "      <td>30552000</td>\n",
       "      <td>Millet</td>\n",
       "      <td>vegetal</td>\n",
       "      <td>12.00</td>\n",
       "      <td>0.00</td>\n",
       "      <td>1.00</td>\n",
       "      <td>2,737.50</td>\n",
       "      <td>7.30</td>\n",
       "      <td>13.00</td>\n",
       "      <td>949.00</td>\n",
       "    </tr>\n",
       "    <tr>\n",
       "      <th>5</th>\n",
       "      <td>Afghanistan</td>\n",
       "      <td>30552000</td>\n",
       "      <td>Pommes de Terre</td>\n",
       "      <td>vegetal</td>\n",
       "      <td>230.00</td>\n",
       "      <td>0.00</td>\n",
       "      <td>9.00</td>\n",
       "      <td>727.09</td>\n",
       "      <td>1.21</td>\n",
       "      <td>239.00</td>\n",
       "      <td>2,896.25</td>\n",
       "    </tr>\n",
       "  </tbody>\n",
       "</table>\n",
       "</div>"
      ],
      "text/plain": [
       "          PAYS      VALP             PROD     ORIG  QT_NOURRIT  QT_ALIMANI  \\\n",
       "0  Afghanistan  30552000              Blé  vegetal    4,895.00        0.00   \n",
       "1  Afghanistan  30552000             Orge  vegetal       89.00      360.00   \n",
       "2  Afghanistan  30552000             Maïs  vegetal       76.00      200.00   \n",
       "3  Afghanistan  30552000           Millet  vegetal       12.00        0.00   \n",
       "5  Afghanistan  30552000  Pommes de Terre  vegetal      230.00        0.00   \n",
       "\n",
       "   QT_PERTES  RATIO(kcal/kg)  Taux_Prot(%)  QT_DA_CALC  QT_DA_VEG_PROT  \n",
       "0     775.00        3,118.55          8.41    5,670.00      476,734.01  \n",
       "1      52.00        3,250.00          9.88      501.00       49,473.75  \n",
       "2      31.00        3,066.00          8.18      307.00       25,100.32  \n",
       "3       1.00        2,737.50          7.30       13.00          949.00  \n",
       "5       9.00          727.09          1.21      239.00        2,896.25  "
      ]
     },
     "execution_count": 45,
     "metadata": {},
     "output_type": "execute_result"
    }
   ],
   "source": [
    "q8 = gen[['PAYS', 'VALP', 'PROD', 'ORIG', 'QT_NOURRIT', 'QT_ALIMANI', 'QT_PERTES', 'RATIO(kcal/kg)', \n",
    "         'Taux_Prot(%)']].copy()\n",
    "# Remplacer les valeurs NAN par 0 vant d'en faire la somme\n",
    "q8.QT_NOURRIT = q8.QT_NOURRIT.fillna(0)\n",
    "q8.QT_ALIMANI = q8.QT_ALIMANI.fillna(0)\n",
    "q8.QT_PERTES = q8.QT_PERTES.fillna(0)\n",
    "\n",
    "# Memorisation de la somme des Dispo Alim. nécessaires à la question\n",
    "q8['QT_DA_CALC'] = q8['QT_NOURRIT'] + q8['QT_ALIMANI'] + q8['QT_PERTES']\n",
    "q8.drop(q8[q8.ORIG == 'animal'].index, inplace=True)\n",
    "q8.drop(q8[q8['QT_DA_CALC'] == 0].index, inplace=True)\n",
    "q8.drop(q8[q8['Taux_Prot(%)'] == 0].index, inplace=True)\n",
    "q8['QT_DA_VEG_PROT'] = (q8['QT_DA_CALC']*q8['Taux_Prot(%)']*1000) / 100 \n",
    "DA_VEG_prot_p_j = q8['QT_DA_VEG_PROT'].sum()*1000000 / (365*pop_monde)\n",
    "q8.head()"
   ]
  },
  {
   "cell_type": "code",
   "execution_count": 46,
   "metadata": {
    "scrolled": false
   },
   "outputs": [
    {
     "data": {
      "text/html": [
       "<h4>Disponibilité Alimentaire Mondiale de végétaux + Nourriture Animaux + Pertes</h4>"
      ],
      "text/plain": [
       "<IPython.core.display.HTML object>"
      ]
     },
     "metadata": {},
     "output_type": "display_data"
    },
    {
     "data": {
      "text/markdown": [
       "3590.378 (kcal/pers/jour)<br/>80.021 (prot/pers/jour)"
      ],
      "text/plain": [
       "<IPython.core.display.Markdown object>"
      ]
     },
     "execution_count": 46,
     "metadata": {},
     "output_type": "execute_result"
    }
   ],
   "source": [
    "display(HTML('<h4>Disponibilité Alimentaire Mondiale de végétaux + Nourriture Animaux + Pertes</h4>'))\n",
    "parm1 = str(round(DA_VEG_kcal_p_j,3)) + \" (kcal/pers/jour)\"\n",
    "parm2 = str(round(DA_VEG_prot_p_j,3)) + \" (prot/pers/jour)\"\n",
    "Markdown('{}<br/>{}'.format(parm1, parm2))"
   ]
  },
  {
   "cell_type": "markdown",
   "metadata": {},
   "source": [
    "#####   <font color='#61210B'>Expression des resulats en (%) de la population mondiale. </font>  ---  Base utilisée : \n",
    "- Énergie \t2 000 kcal  \n",
    "- Protéines \t50 g"
   ]
  },
  {
   "cell_type": "code",
   "execution_count": 47,
   "metadata": {
    "scrolled": true
   },
   "outputs": [],
   "source": [
    "xcal = (DA_VEG_kcal_p_j*pop_monde)*100/(pop_monde*var_wiki_nrj)\n",
    "xprot = (DA_VEG_prot_p_j*pop_monde)*100/(pop_monde*var_wiki_prot)\n",
    "hcal = (xcal/100) * pop_monde\n",
    "hprot = (xprot/100) * pop_monde"
   ]
  },
  {
   "cell_type": "code",
   "execution_count": 48,
   "metadata": {
    "scrolled": false
   },
   "outputs": [
    {
     "data": {
      "text/html": [
       "<h3>Disponibilité Alimentaire Mondiale de végétaux + Nourriture Animaux + Pertes en Kcal</h3>"
      ],
      "text/plain": [
       "<IPython.core.display.HTML object>"
      ]
     },
     "metadata": {},
     "output_type": "display_data"
    },
    {
     "data": {
      "text/markdown": [
       "Elle représente <strong>179.52</strong>(%) des besoins mondiaux. Soit <strong> 12,561,524,329</strong> humains"
      ],
      "text/plain": [
       "<IPython.core.display.Markdown object>"
      ]
     },
     "execution_count": 48,
     "metadata": {},
     "output_type": "execute_result"
    }
   ],
   "source": [
    "display(HTML('<h3>Disponibilité Alimentaire Mondiale de végétaux + Nourriture Animaux + Pertes en Kcal</h3>'))\n",
    "parm1 = \"Elle représente \"\n",
    "parm2 = str(round(xcal,2))\n",
    "parm3 = \"(%) des besoins mondiaux. Soit \"\n",
    "parm4 = str('{:15,.0f}'.format(hcal))\n",
    "parm5 = \" humains\"\n",
    "Markdown('{}<strong>{}</strong>{}<strong>{}</strong>{}'.format(parm1, parm2, parm3, parm4,parm5))"
   ]
  },
  {
   "cell_type": "code",
   "execution_count": 49,
   "metadata": {
    "scrolled": true
   },
   "outputs": [
    {
     "data": {
      "text/html": [
       "<h3>Disponibilité Alimentaire Mondiale de végétaux + Nourriture Animaux + Pertes en Protéines</h3>"
      ],
      "text/plain": [
       "<IPython.core.display.HTML object>"
      ]
     },
     "metadata": {},
     "output_type": "display_data"
    },
    {
     "data": {
      "text/markdown": [
       "Elle représente <strong>160.04</strong>(%) des besoins mondiaux. Soit <strong> 11,198,637,516</strong> humains"
      ],
      "text/plain": [
       "<IPython.core.display.Markdown object>"
      ]
     },
     "execution_count": 49,
     "metadata": {},
     "output_type": "execute_result"
    }
   ],
   "source": [
    "display(HTML('<h3>Disponibilité Alimentaire Mondiale de végétaux + Nourriture Animaux + Pertes en Protéines</h3>'))\n",
    "parm1 = \"Elle représente \"\n",
    "parm2 = str(round(xprot,2))\n",
    "parm3 = \"(%) des besoins mondiaux. Soit \"\n",
    "parm4 = str('{:15,.0f}'.format(hprot))\n",
    "parm5 = \" humains\"\n",
    "Markdown('{}<strong>{}</strong>{}<strong>{}</strong>{}'.format(parm1, parm2, parm3, parm4,parm5))"
   ]
  },
  {
   "cell_type": "markdown",
   "metadata": {},
   "source": [
    "<hr style=\"height: 3px; color: #839D2D; width: 100%; \">\n",
    "\n",
    "###  <font color='#61210B'><u>QUESTION 9</u></font> : Nb humains nourris en fonction de Disponibilité Alimentaire Mondiale\n",
    "\n",
    "En calories, protéines, et pourcentage.  \n",
    "  \n",
    "Ici, pas de calcul avec les ratio et taux(%)Prot comme pour les questions précédentes.\n",
    "On va prendre les données \"standards\" de la FAO, soient dans notre dataframe \"gen\", les colonnes :  \n",
    "- **QT_DISPALI_KCAL**  - Qté Disponibilité Alimentaire d'un produit/pays (en kcal/pers/jour)\n",
    "- **QT_DISPROT**  - Qté Disponibilité Protéines d'un produit/pays (en gr/pers/jour)\n",
    "\n"
   ]
  },
  {
   "cell_type": "code",
   "execution_count": 50,
   "metadata": {
    "scrolled": false
   },
   "outputs": [
    {
     "data": {
      "text/html": [
       "<div>\n",
       "<style scoped>\n",
       "    .dataframe tbody tr th:only-of-type {\n",
       "        vertical-align: middle;\n",
       "    }\n",
       "\n",
       "    .dataframe tbody tr th {\n",
       "        vertical-align: top;\n",
       "    }\n",
       "\n",
       "    .dataframe thead th {\n",
       "        text-align: right;\n",
       "    }\n",
       "</style>\n",
       "<table border=\"1\" class=\"dataframe\">\n",
       "  <thead>\n",
       "    <tr style=\"text-align: right;\">\n",
       "      <th></th>\n",
       "      <th>CPAYS</th>\n",
       "      <th>PAYS</th>\n",
       "      <th>CPROD</th>\n",
       "      <th>PROD</th>\n",
       "      <th>ORIG</th>\n",
       "      <th>QT_DISPALI_KCAL</th>\n",
       "      <th>QT_DISPROT</th>\n",
       "    </tr>\n",
       "  </thead>\n",
       "  <tbody>\n",
       "    <tr>\n",
       "      <th>0</th>\n",
       "      <td>2</td>\n",
       "      <td>Afghanistan</td>\n",
       "      <td>2511</td>\n",
       "      <td>Blé</td>\n",
       "      <td>vegetal</td>\n",
       "      <td>1,369.00</td>\n",
       "      <td>36.91</td>\n",
       "    </tr>\n",
       "    <tr>\n",
       "      <th>1</th>\n",
       "      <td>2</td>\n",
       "      <td>Afghanistan</td>\n",
       "      <td>2513</td>\n",
       "      <td>Orge</td>\n",
       "      <td>vegetal</td>\n",
       "      <td>26.00</td>\n",
       "      <td>0.79</td>\n",
       "    </tr>\n",
       "    <tr>\n",
       "      <th>2</th>\n",
       "      <td>2</td>\n",
       "      <td>Afghanistan</td>\n",
       "      <td>2514</td>\n",
       "      <td>Maïs</td>\n",
       "      <td>vegetal</td>\n",
       "      <td>21.00</td>\n",
       "      <td>0.56</td>\n",
       "    </tr>\n",
       "    <tr>\n",
       "      <th>3</th>\n",
       "      <td>2</td>\n",
       "      <td>Afghanistan</td>\n",
       "      <td>2517</td>\n",
       "      <td>Millet</td>\n",
       "      <td>vegetal</td>\n",
       "      <td>3.00</td>\n",
       "      <td>0.08</td>\n",
       "    </tr>\n",
       "    <tr>\n",
       "      <th>4</th>\n",
       "      <td>2</td>\n",
       "      <td>Afghanistan</td>\n",
       "      <td>2520</td>\n",
       "      <td>Céréales, Autres</td>\n",
       "      <td>vegetal</td>\n",
       "      <td>0.00</td>\n",
       "      <td>0.00</td>\n",
       "    </tr>\n",
       "  </tbody>\n",
       "</table>\n",
       "</div>"
      ],
      "text/plain": [
       "   CPAYS         PAYS  CPROD              PROD     ORIG  QT_DISPALI_KCAL  \\\n",
       "0      2  Afghanistan   2511               Blé  vegetal         1,369.00   \n",
       "1      2  Afghanistan   2513              Orge  vegetal            26.00   \n",
       "2      2  Afghanistan   2514              Maïs  vegetal            21.00   \n",
       "3      2  Afghanistan   2517            Millet  vegetal             3.00   \n",
       "4      2  Afghanistan   2520  Céréales, Autres  vegetal             0.00   \n",
       "\n",
       "   QT_DISPROT  \n",
       "0       36.91  \n",
       "1        0.79  \n",
       "2        0.56  \n",
       "3        0.08  \n",
       "4        0.00  "
      ]
     },
     "execution_count": 50,
     "metadata": {},
     "output_type": "execute_result"
    }
   ],
   "source": [
    "q9 = gen[['CPAYS', 'PAYS', 'CPROD', 'PROD', 'ORIG', 'QT_DISPALI_KCAL', 'QT_DISPROT']].copy()\n",
    "q9.head()"
   ]
  },
  {
   "cell_type": "markdown",
   "metadata": {},
   "source": [
    "#####   <font color='#61210B'>On regroupe par pays, et on fait la somme des kcal et protéines"
   ]
  },
  {
   "cell_type": "code",
   "execution_count": 51,
   "metadata": {
    "scrolled": true
   },
   "outputs": [
    {
     "data": {
      "text/html": [
       "<div>\n",
       "<style scoped>\n",
       "    .dataframe tbody tr th:only-of-type {\n",
       "        vertical-align: middle;\n",
       "    }\n",
       "\n",
       "    .dataframe tbody tr th {\n",
       "        vertical-align: top;\n",
       "    }\n",
       "\n",
       "    .dataframe thead th {\n",
       "        text-align: right;\n",
       "    }\n",
       "</style>\n",
       "<table border=\"1\" class=\"dataframe\">\n",
       "  <thead>\n",
       "    <tr style=\"text-align: right;\">\n",
       "      <th></th>\n",
       "      <th>CPAYS</th>\n",
       "      <th>PAYS</th>\n",
       "      <th>CPROD</th>\n",
       "      <th>QT_DISPALI_KCAL</th>\n",
       "      <th>QT_DISPROT</th>\n",
       "    </tr>\n",
       "  </thead>\n",
       "  <tbody>\n",
       "    <tr>\n",
       "      <th>0</th>\n",
       "      <td>1</td>\n",
       "      <td>Arménie</td>\n",
       "      <td>237075</td>\n",
       "      <td>2,924.00</td>\n",
       "      <td>90.06</td>\n",
       "    </tr>\n",
       "    <tr>\n",
       "      <th>1</th>\n",
       "      <td>2</td>\n",
       "      <td>Afghanistan</td>\n",
       "      <td>157588</td>\n",
       "      <td>2,087.00</td>\n",
       "      <td>58.26</td>\n",
       "    </tr>\n",
       "    <tr>\n",
       "      <th>2</th>\n",
       "      <td>3</td>\n",
       "      <td>Albanie</td>\n",
       "      <td>242087</td>\n",
       "      <td>3,188.00</td>\n",
       "      <td>111.37</td>\n",
       "    </tr>\n",
       "    <tr>\n",
       "      <th>3</th>\n",
       "      <td>4</td>\n",
       "      <td>Algérie</td>\n",
       "      <td>244522</td>\n",
       "      <td>3,293.00</td>\n",
       "      <td>91.92</td>\n",
       "    </tr>\n",
       "    <tr>\n",
       "      <th>4</th>\n",
       "      <td>7</td>\n",
       "      <td>Angola</td>\n",
       "      <td>210872</td>\n",
       "      <td>2,474.00</td>\n",
       "      <td>57.27</td>\n",
       "    </tr>\n",
       "  </tbody>\n",
       "</table>\n",
       "</div>"
      ],
      "text/plain": [
       "   CPAYS         PAYS   CPROD  QT_DISPALI_KCAL  QT_DISPROT\n",
       "0      1      Arménie  237075         2,924.00       90.06\n",
       "1      2  Afghanistan  157588         2,087.00       58.26\n",
       "2      3      Albanie  242087         3,188.00      111.37\n",
       "3      4      Algérie  244522         3,293.00       91.92\n",
       "4      7       Angola  210872         2,474.00       57.27"
      ]
     },
     "execution_count": 51,
     "metadata": {},
     "output_type": "execute_result"
    }
   ],
   "source": [
    "q9 = q9.groupby(['CPAYS', 'PAYS']).sum().reset_index()\n",
    "q9.head()"
   ]
  },
  {
   "cell_type": "markdown",
   "metadata": {},
   "source": [
    "#####   <font color='#61210B'>On peut maintenant faire une moyenne mondiake des kcal et proteines et la comparer à notre base"
   ]
  },
  {
   "cell_type": "code",
   "execution_count": 52,
   "metadata": {
    "scrolled": true
   },
   "outputs": [
    {
     "name": "stdout",
     "output_type": "stream",
     "text": [
      "Dispo_Alimentaire_Mondiale(kcal/p/j) =  2847.368\n",
      "Dispo_Alimentaire_Mondiale(prot/p/j) =  81.3\n"
     ]
    }
   ],
   "source": [
    "DA_KCAL_p_j = q9['QT_DISPALI_KCAL'].mean()\n",
    "DA_PROT_p_j = q9['QT_DISPROT'].mean()\n",
    "print(\"Dispo_Alimentaire_Mondiale(kcal/p/j) = \", round(DA_KCAL_p_j,3))\n",
    "print(\"Dispo_Alimentaire_Mondiale(prot/p/j) = \", round(DA_PROT_p_j,3))"
   ]
  },
  {
   "cell_type": "code",
   "execution_count": 53,
   "metadata": {
    "scrolled": false
   },
   "outputs": [
    {
     "data": {
      "text/markdown": [
       "Disponibilité Alimentaire Mondiale exprimée en Kcal: <strong>2847.368</strong> (Kcal/pers/jour)<br/>Disponibilité Alimentaire Mondiale exprimée en Protéines: <strong>81.3</strong> (gr Prot./pers/jour)"
      ],
      "text/plain": [
       "<IPython.core.display.Markdown object>"
      ]
     },
     "execution_count": 53,
     "metadata": {},
     "output_type": "execute_result"
    }
   ],
   "source": [
    "parm1 = \"Disponibilité Alimentaire Mondiale exprimée en Kcal: \"\n",
    "parm2 = \"Disponibilité Alimentaire Mondiale exprimée en Protéines: \"\n",
    "Markdown('{}<strong>{}</strong>{}<br/>{}<strong>{}</strong>{}'.format\n",
    "         (parm1, round(DA_KCAL_p_j, 3),\" (Kcal/pers/jour)\",\n",
    "          parm2, round(DA_PROT_p_j, 3), \" (gr Prot./pers/jour)\"))"
   ]
  },
  {
   "cell_type": "markdown",
   "metadata": {},
   "source": [
    "#####   <font color='#61210B'>Expression des resulats en (%) de la population mondiale. </font>  ---  Base utilisée : \n",
    "- Énergie \t2 000 kcal  \n",
    "- Protéines \t50 g"
   ]
  },
  {
   "cell_type": "code",
   "execution_count": 54,
   "metadata": {
    "scrolled": false
   },
   "outputs": [],
   "source": [
    "xcal = (DA_KCAL_p_j*pop_monde)*100/(pop_monde*var_wiki_nrj)\n",
    "xprot = (DA_PROT_p_j*pop_monde)*100/(pop_monde*var_wiki_prot)\n",
    "hcal = (xcal/100) * pop_monde\n",
    "hprot = (xprot/100) * pop_monde"
   ]
  },
  {
   "cell_type": "code",
   "execution_count": 55,
   "metadata": {
    "scrolled": true
   },
   "outputs": [
    {
     "data": {
      "text/html": [
       "<h3>Disponibilité Alimentaire Mondiale en Kcal</h3>"
      ],
      "text/plain": [
       "<IPython.core.display.HTML object>"
      ]
     },
     "metadata": {},
     "output_type": "display_data"
    },
    {
     "data": {
      "text/markdown": [
       "Elle représente <strong>142.37</strong>(%) des besoins mondiaux. Soit <strong>  9,961,980,426</strong> humains"
      ],
      "text/plain": [
       "<IPython.core.display.Markdown object>"
      ]
     },
     "execution_count": 55,
     "metadata": {},
     "output_type": "execute_result"
    }
   ],
   "source": [
    "display(HTML('<h3>Disponibilité Alimentaire Mondiale en Kcal</h3>'))\n",
    "parm1 = \"Elle représente \"\n",
    "parm2 = str(round(xcal,2))\n",
    "parm3 = \"(%) des besoins mondiaux. Soit \"\n",
    "parm4 = str('{:15,.0f}'.format(hcal))\n",
    "parm5 = \" humains\"\n",
    "Markdown('{}<strong>{}</strong>{}<strong>{}</strong>{}'.format(parm1, parm2, parm3, parm4,parm5))"
   ]
  },
  {
   "cell_type": "code",
   "execution_count": 56,
   "metadata": {
    "scrolled": true
   },
   "outputs": [
    {
     "data": {
      "text/html": [
       "<h3>Disponibilité Alimentaire Mondiale en Protéines</h3>"
      ],
      "text/plain": [
       "<IPython.core.display.HTML object>"
      ]
     },
     "metadata": {},
     "output_type": "display_data"
    },
    {
     "data": {
      "text/markdown": [
       "Elle représente <strong>162.6</strong>(%) des besoins mondiaux. Soit <strong> 11,377,595,776</strong> humains"
      ],
      "text/plain": [
       "<IPython.core.display.Markdown object>"
      ]
     },
     "execution_count": 56,
     "metadata": {},
     "output_type": "execute_result"
    }
   ],
   "source": [
    "display(HTML('<h3>Disponibilité Alimentaire Mondiale en Protéines</h3>'))\n",
    "parm1 = \"Elle représente \"\n",
    "parm2 = str(round(xprot,2))\n",
    "parm3 = \"(%) des besoins mondiaux. Soit \"\n",
    "parm4 = str('{:15,.0f}'.format(hprot))\n",
    "parm5 = \" humains\"\n",
    "Markdown('{}<strong>{}</strong>{}<strong>{}</strong>{}'.format(parm1, parm2, parm3, parm4,parm5))"
   ]
  },
  {
   "cell_type": "markdown",
   "metadata": {},
   "source": [
    "<hr style=\"height: 3px; color: #839D2D; width: 100%; \">\n",
    "\n",
    "###  <font color='#61210B'><u>QUESTION 10</u></font> : Proportion de la population mondiale considérée en \"sous-nutrition\" - Année 2013\n"
   ]
  },
  {
   "cell_type": "markdown",
   "metadata": {},
   "source": [
    "#####   <font color='#61210B'>Mise en forme du Dataframe ssn\n",
    "- Suppression de colonnes inutiles\n",
    "- Update de valeurs plus adequates (année, nb personnes)\n",
    "- Remplacer les NAN par '0' sur colonne numérique\n",
    "- Exclure la chine (code=351) car doublons avec autres lignes \"chines\" (voir question 1)"
   ]
  },
  {
   "cell_type": "code",
   "execution_count": 57,
   "metadata": {
    "scrolled": true
   },
   "outputs": [
    {
     "data": {
      "text/html": [
       "<div>\n",
       "<style scoped>\n",
       "    .dataframe tbody tr th:only-of-type {\n",
       "        vertical-align: middle;\n",
       "    }\n",
       "\n",
       "    .dataframe tbody tr th {\n",
       "        vertical-align: top;\n",
       "    }\n",
       "\n",
       "    .dataframe thead th {\n",
       "        text-align: right;\n",
       "    }\n",
       "</style>\n",
       "<table border=\"1\" class=\"dataframe\">\n",
       "  <thead>\n",
       "    <tr style=\"text-align: right;\">\n",
       "      <th></th>\n",
       "      <th>ANNEE</th>\n",
       "      <th>CZONE</th>\n",
       "      <th>ZONE</th>\n",
       "      <th>NB_PERS_SSN</th>\n",
       "    </tr>\n",
       "  </thead>\n",
       "  <tbody>\n",
       "    <tr>\n",
       "      <th>0</th>\n",
       "      <td>2013</td>\n",
       "      <td>2</td>\n",
       "      <td>Afghanistan</td>\n",
       "      <td>8,100,000.00</td>\n",
       "    </tr>\n",
       "    <tr>\n",
       "      <th>2</th>\n",
       "      <td>2013</td>\n",
       "      <td>202</td>\n",
       "      <td>Afrique du Sud</td>\n",
       "      <td>2,600,000.00</td>\n",
       "    </tr>\n",
       "    <tr>\n",
       "      <th>4</th>\n",
       "      <td>2013</td>\n",
       "      <td>3</td>\n",
       "      <td>Albanie</td>\n",
       "      <td>200,000.00</td>\n",
       "    </tr>\n",
       "    <tr>\n",
       "      <th>6</th>\n",
       "      <td>2013</td>\n",
       "      <td>4</td>\n",
       "      <td>Algérie</td>\n",
       "      <td>1,800,000.00</td>\n",
       "    </tr>\n",
       "    <tr>\n",
       "      <th>8</th>\n",
       "      <td>2013</td>\n",
       "      <td>79</td>\n",
       "      <td>Allemagne</td>\n",
       "      <td>0.00</td>\n",
       "    </tr>\n",
       "  </tbody>\n",
       "</table>\n",
       "</div>"
      ],
      "text/plain": [
       "  ANNEE  CZONE            ZONE  NB_PERS_SSN\n",
       "0  2013      2     Afghanistan 8,100,000.00\n",
       "2  2013    202  Afrique du Sud 2,600,000.00\n",
       "4  2013      3         Albanie   200,000.00\n",
       "6  2013      4         Algérie 1,800,000.00\n",
       "8  2013     79       Allemagne         0.00"
      ]
     },
     "execution_count": 57,
     "metadata": {},
     "output_type": "execute_result"
    }
   ],
   "source": [
    "q10 = ssn[['ANNEE', 'CZONE', 'ZONE', 'VAL', 'UNIT']].copy()\n",
    "q10['NB_PERS_SSN'] = q10['VAL'] * 1000000\n",
    "q10.drop(columns=['VAL', 'UNIT'], inplace=True)\n",
    "q10.drop(q10[q10['ANNEE']=='2015-2017'].index, inplace=True)\n",
    "q10.drop(q10[q10.CZONE == varcp_chine].index, inplace=True)\n",
    "q10['ANNEE'] = np.where(q10['ANNEE']=='2012-2014', 2013, q10['ANNEE'])\n",
    "q10.NB_PERS_SSN = q10.NB_PERS_SSN.fillna(0)\n",
    "q10.head()"
   ]
  },
  {
   "cell_type": "markdown",
   "metadata": {},
   "source": [
    "#####   <font color='#61210B'>Resultat (%) population mondiale sous-alimentée"
   ]
  },
  {
   "cell_type": "code",
   "execution_count": 58,
   "metadata": {},
   "outputs": [
    {
     "name": "stdout",
     "output_type": "stream",
     "text": [
      "Nb de personnes sous alimentée en 2013 :  739,700,000   - Cela représente  10.57 (%) de la population mondiale\n"
     ]
    }
   ],
   "source": [
    "TOT_POP_SSN = q10['NB_PERS_SSN'].sum()\n",
    "prop = (TOT_POP_SSN*100/pop_monde)\n",
    "print(\"Nb de personnes sous alimentée en 2013 : \", '{:10,.0f}'.format(TOT_POP_SSN), \n",
    "      \"  - Cela représente \", round(prop,2), \"(%) de la population mondiale\")\n"
   ]
  },
  {
   "cell_type": "code",
   "execution_count": 59,
   "metadata": {
    "scrolled": true
   },
   "outputs": [
    {
     "data": {
      "text/html": [
       "<h3>Nombre de Personnes sous-alimentées en 2013</h3>"
      ],
      "text/plain": [
       "<IPython.core.display.HTML object>"
      ]
     },
     "metadata": {},
     "output_type": "display_data"
    },
    {
     "data": {
      "text/markdown": [
       "<strong>739,700,000</strong> . Cela représente <strong>10.57</strong>(%) de la population mondiale"
      ],
      "text/plain": [
       "<IPython.core.display.Markdown object>"
      ]
     },
     "execution_count": 59,
     "metadata": {},
     "output_type": "execute_result"
    }
   ],
   "source": [
    "display(HTML('<h3>Nombre de Personnes sous-alimentées en 2013</h3>'))\n",
    "parm1 = str('{:10,.0f}'.format(TOT_POP_SSN))\n",
    "parm2 = \" . Cela représente \"\n",
    "parm3 = str(round(prop,2))\n",
    "parm4 = \"(%) de la population mondiale\"\n",
    "Markdown('<strong>{}</strong>{}<strong>{}</strong>{}'.format(parm1, parm2, parm3, parm4))"
   ]
  },
  {
   "cell_type": "markdown",
   "metadata": {},
   "source": [
    "#####   <font color='#61210B'> /// Export de la liste des pays en sous-nutrition dans un dataframe pour les questions Q12-13-14  /// </font> Nom du DF = ssn1"
   ]
  },
  {
   "cell_type": "code",
   "execution_count": 60,
   "metadata": {},
   "outputs": [],
   "source": [
    "ssn1 = q10[q10['NB_PERS_SSN']!=0].copy()"
   ]
  },
  {
   "cell_type": "markdown",
   "metadata": {},
   "source": [
    "#####   <font color='#61210B'> /// Export du dataframe q10 dans un fichier Excel pour contrôle futurs/// </font> Nom du fichier = PJ3_Q10-Sous_Nutrition_out.xlsx"
   ]
  },
  {
   "cell_type": "code",
   "execution_count": 61,
   "metadata": {},
   "outputs": [],
   "source": [
    "writer = pd.ExcelWriter(\"OUTFILES/PJ3_Q10-Sous_Nutrition_out.xlsx\")\n",
    "q10.to_excel(writer,'Sheet1')\n",
    "writer.save()"
   ]
  },
  {
   "cell_type": "markdown",
   "metadata": {},
   "source": [
    "<hr style=\"height: 3px; color: #839D2D; width: 100%; \">\n",
    "\n",
    "###  <font color='#61210B'><u>QUESTION 11</u></font> : Proportion de céréales déstinées à l'alimentation animale - Année 2013\n",
    "\n",
    "- Constitution de la liste de produits \"type céréale\" selon la FAO  \n",
    "- Calcul de la proportion sur ce périmètre"
   ]
  },
  {
   "cell_type": "code",
   "execution_count": 62,
   "metadata": {},
   "outputs": [
    {
     "data": {
      "text/html": [
       "<div>\n",
       "<style scoped>\n",
       "    .dataframe tbody tr th:only-of-type {\n",
       "        vertical-align: middle;\n",
       "    }\n",
       "\n",
       "    .dataframe tbody tr th {\n",
       "        vertical-align: top;\n",
       "    }\n",
       "\n",
       "    .dataframe thead th {\n",
       "        text-align: right;\n",
       "    }\n",
       "</style>\n",
       "<table border=\"1\" class=\"dataframe\">\n",
       "  <thead>\n",
       "    <tr style=\"text-align: right;\">\n",
       "      <th></th>\n",
       "      <th>CPAYS</th>\n",
       "      <th>PAYS</th>\n",
       "      <th>CELEM</th>\n",
       "      <th>ELEMENT</th>\n",
       "      <th>CPROD</th>\n",
       "      <th>PROD</th>\n",
       "      <th>ANNEE</th>\n",
       "      <th>UNIT</th>\n",
       "      <th>VAL</th>\n",
       "    </tr>\n",
       "  </thead>\n",
       "  <tbody>\n",
       "    <tr>\n",
       "      <th>0</th>\n",
       "      <td>2</td>\n",
       "      <td>Afghanistan</td>\n",
       "      <td>5511</td>\n",
       "      <td>Production</td>\n",
       "      <td>2511</td>\n",
       "      <td>Blé</td>\n",
       "      <td>2013</td>\n",
       "      <td>Milliers de tonnes</td>\n",
       "      <td>5,169.00</td>\n",
       "    </tr>\n",
       "    <tr>\n",
       "      <th>1</th>\n",
       "      <td>2</td>\n",
       "      <td>Afghanistan</td>\n",
       "      <td>5611</td>\n",
       "      <td>Importations - Quantité</td>\n",
       "      <td>2511</td>\n",
       "      <td>Blé</td>\n",
       "      <td>2013</td>\n",
       "      <td>Milliers de tonnes</td>\n",
       "      <td>1,173.00</td>\n",
       "    </tr>\n",
       "    <tr>\n",
       "      <th>2</th>\n",
       "      <td>2</td>\n",
       "      <td>Afghanistan</td>\n",
       "      <td>5072</td>\n",
       "      <td>Variation de stock</td>\n",
       "      <td>2511</td>\n",
       "      <td>Blé</td>\n",
       "      <td>2013</td>\n",
       "      <td>Milliers de tonnes</td>\n",
       "      <td>-350.00</td>\n",
       "    </tr>\n",
       "    <tr>\n",
       "      <th>3</th>\n",
       "      <td>2</td>\n",
       "      <td>Afghanistan</td>\n",
       "      <td>5301</td>\n",
       "      <td>Disponibilité intérieure</td>\n",
       "      <td>2511</td>\n",
       "      <td>Blé</td>\n",
       "      <td>2013</td>\n",
       "      <td>Milliers de tonnes</td>\n",
       "      <td>5,992.00</td>\n",
       "    </tr>\n",
       "    <tr>\n",
       "      <th>4</th>\n",
       "      <td>2</td>\n",
       "      <td>Afghanistan</td>\n",
       "      <td>5527</td>\n",
       "      <td>Semences</td>\n",
       "      <td>2511</td>\n",
       "      <td>Blé</td>\n",
       "      <td>2013</td>\n",
       "      <td>Milliers de tonnes</td>\n",
       "      <td>322.00</td>\n",
       "    </tr>\n",
       "  </tbody>\n",
       "</table>\n",
       "</div>"
      ],
      "text/plain": [
       "   CPAYS         PAYS  CELEM                   ELEMENT  CPROD PROD  ANNEE  \\\n",
       "0      2  Afghanistan   5511                Production   2511  Blé   2013   \n",
       "1      2  Afghanistan   5611   Importations - Quantité   2511  Blé   2013   \n",
       "2      2  Afghanistan   5072        Variation de stock   2511  Blé   2013   \n",
       "3      2  Afghanistan   5301  Disponibilité intérieure   2511  Blé   2013   \n",
       "4      2  Afghanistan   5527                  Semences   2511  Blé   2013   \n",
       "\n",
       "                 UNIT      VAL  \n",
       "0  Milliers de tonnes 5,169.00  \n",
       "1  Milliers de tonnes 1,173.00  \n",
       "2  Milliers de tonnes  -350.00  \n",
       "3  Milliers de tonnes 5,992.00  \n",
       "4  Milliers de tonnes   322.00  "
      ]
     },
     "execution_count": 62,
     "metadata": {},
     "output_type": "execute_result"
    }
   ],
   "source": [
    "cer.head()"
   ]
  },
  {
   "cell_type": "markdown",
   "metadata": {},
   "source": [
    "#####   <font color='#61210B'>Recherche sur sur dataframe \"cer\"\n",
    "- Liste des codes produits de type Céréales"
   ]
  },
  {
   "cell_type": "code",
   "execution_count": 63,
   "metadata": {
    "scrolled": true
   },
   "outputs": [
    {
     "data": {
      "text/plain": [
       "array([2511, 2805, 2513, 2514, 2517, 2520, 2515, 2516, 2518], dtype=int64)"
      ]
     },
     "execution_count": 63,
     "metadata": {},
     "output_type": "execute_result"
    }
   ],
   "source": [
    "q11sel = cer['CPROD'].unique()\n",
    "q11sel"
   ]
  },
  {
   "cell_type": "markdown",
   "metadata": {},
   "source": [
    "#####   <font color='#61210B'>Preparation des données à partir du dataframe principal \"gen\" \n",
    "    \n",
    "- Selection des zones utiles : QT_NOURRIT (homme) & QT_ALIMANI (animal)\n",
    "- On remplace les valeurs NAN par 0 pour ne pas fausser les calculs  \n",
    "- On fait une somme Totale des céréales destinées à l'alimentation  (QT_CER_ALIM)"
   ]
  },
  {
   "cell_type": "code",
   "execution_count": 64,
   "metadata": {},
   "outputs": [
    {
     "data": {
      "text/html": [
       "<div>\n",
       "<style scoped>\n",
       "    .dataframe tbody tr th:only-of-type {\n",
       "        vertical-align: middle;\n",
       "    }\n",
       "\n",
       "    .dataframe tbody tr th {\n",
       "        vertical-align: top;\n",
       "    }\n",
       "\n",
       "    .dataframe thead th {\n",
       "        text-align: right;\n",
       "    }\n",
       "</style>\n",
       "<table border=\"1\" class=\"dataframe\">\n",
       "  <thead>\n",
       "    <tr style=\"text-align: right;\">\n",
       "      <th></th>\n",
       "      <th>PAYS</th>\n",
       "      <th>VALP</th>\n",
       "      <th>CPROD</th>\n",
       "      <th>PROD</th>\n",
       "      <th>ORIG</th>\n",
       "      <th>QT_NOURRIT</th>\n",
       "      <th>QT_ALIMANI</th>\n",
       "      <th>QT_CER_ALIM</th>\n",
       "    </tr>\n",
       "  </thead>\n",
       "  <tbody>\n",
       "    <tr>\n",
       "      <th>0</th>\n",
       "      <td>Afghanistan</td>\n",
       "      <td>30552000</td>\n",
       "      <td>2511</td>\n",
       "      <td>Blé</td>\n",
       "      <td>vegetal</td>\n",
       "      <td>4,895.00</td>\n",
       "      <td>0.00</td>\n",
       "      <td>4,895.00</td>\n",
       "    </tr>\n",
       "    <tr>\n",
       "      <th>1</th>\n",
       "      <td>Afghanistan</td>\n",
       "      <td>30552000</td>\n",
       "      <td>2513</td>\n",
       "      <td>Orge</td>\n",
       "      <td>vegetal</td>\n",
       "      <td>89.00</td>\n",
       "      <td>360.00</td>\n",
       "      <td>449.00</td>\n",
       "    </tr>\n",
       "    <tr>\n",
       "      <th>2</th>\n",
       "      <td>Afghanistan</td>\n",
       "      <td>30552000</td>\n",
       "      <td>2514</td>\n",
       "      <td>Maïs</td>\n",
       "      <td>vegetal</td>\n",
       "      <td>76.00</td>\n",
       "      <td>200.00</td>\n",
       "      <td>276.00</td>\n",
       "    </tr>\n",
       "    <tr>\n",
       "      <th>3</th>\n",
       "      <td>Afghanistan</td>\n",
       "      <td>30552000</td>\n",
       "      <td>2517</td>\n",
       "      <td>Millet</td>\n",
       "      <td>vegetal</td>\n",
       "      <td>12.00</td>\n",
       "      <td>0.00</td>\n",
       "      <td>12.00</td>\n",
       "    </tr>\n",
       "    <tr>\n",
       "      <th>4</th>\n",
       "      <td>Afghanistan</td>\n",
       "      <td>30552000</td>\n",
       "      <td>2520</td>\n",
       "      <td>Céréales, Autres</td>\n",
       "      <td>vegetal</td>\n",
       "      <td>0.00</td>\n",
       "      <td>0.00</td>\n",
       "      <td>0.00</td>\n",
       "    </tr>\n",
       "  </tbody>\n",
       "</table>\n",
       "</div>"
      ],
      "text/plain": [
       "          PAYS      VALP  CPROD              PROD     ORIG  QT_NOURRIT  \\\n",
       "0  Afghanistan  30552000   2511               Blé  vegetal    4,895.00   \n",
       "1  Afghanistan  30552000   2513              Orge  vegetal       89.00   \n",
       "2  Afghanistan  30552000   2514              Maïs  vegetal       76.00   \n",
       "3  Afghanistan  30552000   2517            Millet  vegetal       12.00   \n",
       "4  Afghanistan  30552000   2520  Céréales, Autres  vegetal        0.00   \n",
       "\n",
       "   QT_ALIMANI  QT_CER_ALIM  \n",
       "0        0.00     4,895.00  \n",
       "1      360.00       449.00  \n",
       "2      200.00       276.00  \n",
       "3        0.00        12.00  \n",
       "4        0.00         0.00  "
      ]
     },
     "execution_count": 64,
     "metadata": {},
     "output_type": "execute_result"
    }
   ],
   "source": [
    "tp11 = gen[['PAYS', 'VALP', 'CPROD', 'PROD', 'ORIG', 'QT_NOURRIT', 'QT_ALIMANI']].copy()\n",
    "tp11.QT_NOURRIT = tp11.QT_NOURRIT.fillna(0)\n",
    "tp11.QT_ALIMANI = tp11.QT_ALIMANI.fillna(0)\n",
    "tp11['QT_CER_ALIM'] = tp11['QT_NOURRIT'] + tp11['QT_ALIMANI']\n",
    "tp11.head()"
   ]
  },
  {
   "cell_type": "markdown",
   "metadata": {},
   "source": [
    "#####   <font color='#61210B'>Application du filtre des produits céréaliers sur ce dataframe temp</font>  --- Actions :\n",
    "\n",
    "- 1°) Somme \"mondiale\" des colonnes numeriques : \n",
    "    - TOT_NOURRIT = ∑ QT_NOURRIT\n",
    "    - TOT_ALIMANI = ∑ QT_ALIMANI\n",
    "    - TOT_CER_ALIM = ∑ QT_CER_ALIM\n",
    "- 2°) Calcul Proportion avec (TOT_ALIMANI) / (TOT_CER_ALIM)\n"
   ]
  },
  {
   "cell_type": "code",
   "execution_count": 65,
   "metadata": {
    "scrolled": false
   },
   "outputs": [
    {
     "data": {
      "text/html": [
       "<div>\n",
       "<style scoped>\n",
       "    .dataframe tbody tr th:only-of-type {\n",
       "        vertical-align: middle;\n",
       "    }\n",
       "\n",
       "    .dataframe tbody tr th {\n",
       "        vertical-align: top;\n",
       "    }\n",
       "\n",
       "    .dataframe thead th {\n",
       "        text-align: right;\n",
       "    }\n",
       "</style>\n",
       "<table border=\"1\" class=\"dataframe\">\n",
       "  <thead>\n",
       "    <tr style=\"text-align: right;\">\n",
       "      <th></th>\n",
       "      <th>PAYS</th>\n",
       "      <th>VALP</th>\n",
       "      <th>CPROD</th>\n",
       "      <th>PROD</th>\n",
       "      <th>ORIG</th>\n",
       "      <th>QT_NOURRIT</th>\n",
       "      <th>QT_ALIMANI</th>\n",
       "      <th>QT_CER_ALIM</th>\n",
       "    </tr>\n",
       "  </thead>\n",
       "  <tbody>\n",
       "    <tr>\n",
       "      <th>0</th>\n",
       "      <td>Afghanistan</td>\n",
       "      <td>30552000</td>\n",
       "      <td>2511</td>\n",
       "      <td>Blé</td>\n",
       "      <td>vegetal</td>\n",
       "      <td>4,895.00</td>\n",
       "      <td>0.00</td>\n",
       "      <td>4,895.00</td>\n",
       "    </tr>\n",
       "    <tr>\n",
       "      <th>1</th>\n",
       "      <td>Afghanistan</td>\n",
       "      <td>30552000</td>\n",
       "      <td>2513</td>\n",
       "      <td>Orge</td>\n",
       "      <td>vegetal</td>\n",
       "      <td>89.00</td>\n",
       "      <td>360.00</td>\n",
       "      <td>449.00</td>\n",
       "    </tr>\n",
       "    <tr>\n",
       "      <th>2</th>\n",
       "      <td>Afghanistan</td>\n",
       "      <td>30552000</td>\n",
       "      <td>2514</td>\n",
       "      <td>Maïs</td>\n",
       "      <td>vegetal</td>\n",
       "      <td>76.00</td>\n",
       "      <td>200.00</td>\n",
       "      <td>276.00</td>\n",
       "    </tr>\n",
       "    <tr>\n",
       "      <th>3</th>\n",
       "      <td>Afghanistan</td>\n",
       "      <td>30552000</td>\n",
       "      <td>2517</td>\n",
       "      <td>Millet</td>\n",
       "      <td>vegetal</td>\n",
       "      <td>12.00</td>\n",
       "      <td>0.00</td>\n",
       "      <td>12.00</td>\n",
       "    </tr>\n",
       "    <tr>\n",
       "      <th>4</th>\n",
       "      <td>Afghanistan</td>\n",
       "      <td>30552000</td>\n",
       "      <td>2520</td>\n",
       "      <td>Céréales, Autres</td>\n",
       "      <td>vegetal</td>\n",
       "      <td>0.00</td>\n",
       "      <td>0.00</td>\n",
       "      <td>0.00</td>\n",
       "    </tr>\n",
       "  </tbody>\n",
       "</table>\n",
       "</div>"
      ],
      "text/plain": [
       "          PAYS      VALP  CPROD              PROD     ORIG  QT_NOURRIT  \\\n",
       "0  Afghanistan  30552000   2511               Blé  vegetal    4,895.00   \n",
       "1  Afghanistan  30552000   2513              Orge  vegetal       89.00   \n",
       "2  Afghanistan  30552000   2514              Maïs  vegetal       76.00   \n",
       "3  Afghanistan  30552000   2517            Millet  vegetal       12.00   \n",
       "4  Afghanistan  30552000   2520  Céréales, Autres  vegetal        0.00   \n",
       "\n",
       "   QT_ALIMANI  QT_CER_ALIM  \n",
       "0        0.00     4,895.00  \n",
       "1      360.00       449.00  \n",
       "2      200.00       276.00  \n",
       "3        0.00        12.00  \n",
       "4        0.00         0.00  "
      ]
     },
     "execution_count": 65,
     "metadata": {},
     "output_type": "execute_result"
    }
   ],
   "source": [
    "q11 = tp11[tp11['CPROD'].isin(q11sel)]\n",
    "q11.head()"
   ]
  },
  {
   "cell_type": "markdown",
   "metadata": {},
   "source": [
    "#####   <font color='#61210B'>Calcul de la proportion (%)"
   ]
  },
  {
   "cell_type": "code",
   "execution_count": 66,
   "metadata": {},
   "outputs": [],
   "source": [
    "TOT_NOURRIT = q11['QT_NOURRIT'].sum()\n",
    "TOT_ALIMANI = q11['QT_ALIMANI'].sum()\n",
    "TOT_CER_ALIM = q11['QT_CER_ALIM'].sum()\n",
    "PROP = TOT_ALIMANI * 100 / TOT_CER_ALIM"
   ]
  },
  {
   "cell_type": "code",
   "execution_count": 67,
   "metadata": {
    "scrolled": true
   },
   "outputs": [
    {
     "data": {
      "text/html": [
       "<h3>La proportion de céréales destinées à l'alimentation animale en 2013 est :</h3>"
      ],
      "text/plain": [
       "<IPython.core.display.HTML object>"
      ]
     },
     "metadata": {},
     "output_type": "display_data"
    },
    {
     "data": {
      "text/markdown": [
       "<strong>45.91</strong>(%) de la production mondiale. Soit <strong>874.0</strong> Millions de tonnes"
      ],
      "text/plain": [
       "<IPython.core.display.Markdown object>"
      ]
     },
     "execution_count": 67,
     "metadata": {},
     "output_type": "execute_result"
    }
   ],
   "source": [
    "display(HTML(\"<h3>La proportion de céréales destinées à l'alimentation animale en 2013 est :</h3>\"))\n",
    "parm1 = str(round(PROP,2))\n",
    "parm2 = \"(%) de la production mondiale. Soit \"\n",
    "parm3 = \" Millions de tonnes\"\n",
    "Markdown('<strong>{}</strong>{}<strong>{}</strong>{}'.format(parm1, parm2, round(TOT_ALIMANI/1000), parm3))"
   ]
  },
  {
   "cell_type": "markdown",
   "metadata": {},
   "source": [
    "<hr style=\"height: 3px; color: #839D2D; width: 100%; \">\n",
    "\n",
    "###  <font color='#61210B'><u>Préparation des questions 12/13/14</u></font>\n",
    "\n",
    "Sélection, parmi les données des bilans alimentaires, des informations relatives aux pays dans lesquels la FAO recense des personnes en sous-nutrition, pour une année choisie.\n",
    "\n",
    "Repérage des 15 produits les plus exportés par ce groupe de pays sur l'année choisie.\n",
    "\n",
    "Parmi les données des bilans alimentaires au niveau mondial, sélection des 200 plus grandes importations de ces produits (1 importation = une quantité d'un produit donné importée par un pays donné sur l'année choisie)\n",
    "\n",
    "Regroupement des importations par produit, afin d'avoir une table contenant 1 ligne pour chacun des 15 produits.  \n",
    "Enfin, calcul pour chaque produit des 2 quantités suivantes :\n",
    "\n",
    "- le ratio entre la quantité destinés aux \"Autres utilisations\" (Other uses) et la disponibilité intérieure.\n",
    "- le ratio entre la quantité destinée à la nourriture animale et la quantité destinée à la nourriture (animale + humaine)"
   ]
  },
  {
   "cell_type": "markdown",
   "metadata": {},
   "source": [
    "#####   <font color='#61210B'>Jointure Gauche entre :\n",
    "- Gauche >> Liste des pays en sous-nutrition - Dataframe **ssn1**\n",
    "- Droite >> Données Bilans Alimentaires      - Dataframe **gen**    \n",
    "    "
   ]
  },
  {
   "cell_type": "code",
   "execution_count": 68,
   "metadata": {},
   "outputs": [],
   "source": [
    "# Renommer les colonnes pour avoir les mêmes clefs avant jointure\n",
    "ssn1.columns = [\"ANNEE\", \"CPAYS\", \"PAYS\", \"NBPERS\"]\n",
    "# Changer le type de la colonne en float64 avant merge\n",
    "ssn1[['ANNEE']] = ssn1[['ANNEE']].astype(int)"
   ]
  },
  {
   "cell_type": "code",
   "execution_count": 69,
   "metadata": {
    "scrolled": false
   },
   "outputs": [
    {
     "data": {
      "text/html": [
       "<div>\n",
       "<style scoped>\n",
       "    .dataframe tbody tr th:only-of-type {\n",
       "        vertical-align: middle;\n",
       "    }\n",
       "\n",
       "    .dataframe tbody tr th {\n",
       "        vertical-align: top;\n",
       "    }\n",
       "\n",
       "    .dataframe thead th {\n",
       "        text-align: right;\n",
       "    }\n",
       "</style>\n",
       "<table border=\"1\" class=\"dataframe\">\n",
       "  <thead>\n",
       "    <tr style=\"text-align: right;\">\n",
       "      <th></th>\n",
       "      <th>ANNEE</th>\n",
       "      <th>CPAYS</th>\n",
       "      <th>PAYS</th>\n",
       "      <th>NBPERS</th>\n",
       "      <th>CPROD</th>\n",
       "      <th>PROD</th>\n",
       "      <th>QT_IMPORT</th>\n",
       "      <th>QT_EXPORT</th>\n",
       "      <th>QT_DISPINT</th>\n",
       "      <th>QT_AUTRES</th>\n",
       "      <th>QT_ALIMANI</th>\n",
       "      <th>QT_NOURRIT</th>\n",
       "    </tr>\n",
       "  </thead>\n",
       "  <tbody>\n",
       "    <tr>\n",
       "      <th>0</th>\n",
       "      <td>2013</td>\n",
       "      <td>2</td>\n",
       "      <td>Afghanistan</td>\n",
       "      <td>8,100,000.00</td>\n",
       "      <td>2511</td>\n",
       "      <td>Blé</td>\n",
       "      <td>1,173.00</td>\n",
       "      <td>0.00</td>\n",
       "      <td>5,992.00</td>\n",
       "      <td>0.00</td>\n",
       "      <td>0.00</td>\n",
       "      <td>4,895.00</td>\n",
       "    </tr>\n",
       "    <tr>\n",
       "      <th>1</th>\n",
       "      <td>2013</td>\n",
       "      <td>2</td>\n",
       "      <td>Afghanistan</td>\n",
       "      <td>8,100,000.00</td>\n",
       "      <td>2513</td>\n",
       "      <td>Orge</td>\n",
       "      <td>10.00</td>\n",
       "      <td>0.00</td>\n",
       "      <td>524.00</td>\n",
       "      <td>0.00</td>\n",
       "      <td>360.00</td>\n",
       "      <td>89.00</td>\n",
       "    </tr>\n",
       "    <tr>\n",
       "      <th>2</th>\n",
       "      <td>2013</td>\n",
       "      <td>2</td>\n",
       "      <td>Afghanistan</td>\n",
       "      <td>8,100,000.00</td>\n",
       "      <td>2514</td>\n",
       "      <td>Maïs</td>\n",
       "      <td>1.00</td>\n",
       "      <td>0.00</td>\n",
       "      <td>313.00</td>\n",
       "      <td>0.00</td>\n",
       "      <td>200.00</td>\n",
       "      <td>76.00</td>\n",
       "    </tr>\n",
       "    <tr>\n",
       "      <th>3</th>\n",
       "      <td>2013</td>\n",
       "      <td>2</td>\n",
       "      <td>Afghanistan</td>\n",
       "      <td>8,100,000.00</td>\n",
       "      <td>2517</td>\n",
       "      <td>Millet</td>\n",
       "      <td>0.00</td>\n",
       "      <td>0.00</td>\n",
       "      <td>13.00</td>\n",
       "      <td>0.00</td>\n",
       "      <td>0.00</td>\n",
       "      <td>12.00</td>\n",
       "    </tr>\n",
       "    <tr>\n",
       "      <th>4</th>\n",
       "      <td>2013</td>\n",
       "      <td>2</td>\n",
       "      <td>Afghanistan</td>\n",
       "      <td>8,100,000.00</td>\n",
       "      <td>2520</td>\n",
       "      <td>Céréales, Autres</td>\n",
       "      <td>0.00</td>\n",
       "      <td>0.00</td>\n",
       "      <td>0.00</td>\n",
       "      <td>0.00</td>\n",
       "      <td>0.00</td>\n",
       "      <td>0.00</td>\n",
       "    </tr>\n",
       "  </tbody>\n",
       "</table>\n",
       "</div>"
      ],
      "text/plain": [
       "   ANNEE  CPAYS         PAYS       NBPERS  CPROD              PROD  QT_IMPORT  \\\n",
       "0   2013      2  Afghanistan 8,100,000.00   2511               Blé   1,173.00   \n",
       "1   2013      2  Afghanistan 8,100,000.00   2513              Orge      10.00   \n",
       "2   2013      2  Afghanistan 8,100,000.00   2514              Maïs       1.00   \n",
       "3   2013      2  Afghanistan 8,100,000.00   2517            Millet       0.00   \n",
       "4   2013      2  Afghanistan 8,100,000.00   2520  Céréales, Autres       0.00   \n",
       "\n",
       "   QT_EXPORT  QT_DISPINT  QT_AUTRES  QT_ALIMANI  QT_NOURRIT  \n",
       "0       0.00    5,992.00       0.00        0.00    4,895.00  \n",
       "1       0.00      524.00       0.00      360.00       89.00  \n",
       "2       0.00      313.00       0.00      200.00       76.00  \n",
       "3       0.00       13.00       0.00        0.00       12.00  \n",
       "4       0.00        0.00       0.00        0.00        0.00  "
      ]
     },
     "execution_count": 69,
     "metadata": {},
     "output_type": "execute_result"
    }
   ],
   "source": [
    "tp12 = gen[['CPAYS', 'PAYS', 'CPROD', 'PROD', 'QT_IMPORT', 'QT_EXPORT', \n",
    "            'QT_DISPINT', 'QT_AUTRES', 'QT_ALIMANI', 'QT_NOURRIT']].copy()\n",
    "tp = pd.merge(ssn1, tp12, how=\"left\")\n",
    "tp['QT_IMPORT'] = tp['QT_IMPORT'].fillna(0)\n",
    "tp['QT_EXPORT'] = tp['QT_EXPORT'].fillna(0)\n",
    "tp['QT_DISPINT'] = tp['QT_DISPINT'].fillna(0)\n",
    "tp['QT_ALIMANI'] = tp['QT_ALIMANI'].fillna(0)\n",
    "tp['QT_AUTRES'] = tp['QT_AUTRES'].fillna(0)\n",
    "tp['QT_NOURRIT'] = tp['QT_NOURRIT'].fillna(0)\n",
    "tp.head()"
   ]
  },
  {
   "cell_type": "markdown",
   "metadata": {},
   "source": [
    "#####   <font color='#61210B'>Détermination des 15 produits les plus exportés sur cette selection de pays\n",
    "- Regroupement par Produit des QT exportées\n",
    "- Tri décroissant des 15 premières lignes\n",
    "    "
   ]
  },
  {
   "cell_type": "code",
   "execution_count": 70,
   "metadata": {
    "scrolled": true
   },
   "outputs": [
    {
     "data": {
      "text/html": [
       "<div>\n",
       "<style scoped>\n",
       "    .dataframe tbody tr th:only-of-type {\n",
       "        vertical-align: middle;\n",
       "    }\n",
       "\n",
       "    .dataframe tbody tr th {\n",
       "        vertical-align: top;\n",
       "    }\n",
       "\n",
       "    .dataframe thead th {\n",
       "        text-align: right;\n",
       "    }\n",
       "</style>\n",
       "<table border=\"1\" class=\"dataframe\">\n",
       "  <thead>\n",
       "    <tr style=\"text-align: right;\">\n",
       "      <th></th>\n",
       "      <th>CPROD</th>\n",
       "      <th>PROD</th>\n",
       "      <th>TOT_EXPORT</th>\n",
       "    </tr>\n",
       "  </thead>\n",
       "  <tbody>\n",
       "    <tr>\n",
       "      <th>38</th>\n",
       "      <td>2577</td>\n",
       "      <td>Huile de Palme</td>\n",
       "      <td>46,285.00</td>\n",
       "    </tr>\n",
       "    <tr>\n",
       "      <th>2</th>\n",
       "      <td>2514</td>\n",
       "      <td>Maïs</td>\n",
       "      <td>37,888.00</td>\n",
       "    </tr>\n",
       "    <tr>\n",
       "      <th>9</th>\n",
       "      <td>2532</td>\n",
       "      <td>Manioc</td>\n",
       "      <td>35,843.00</td>\n",
       "    </tr>\n",
       "    <tr>\n",
       "      <th>95</th>\n",
       "      <td>2805</td>\n",
       "      <td>Riz (Eq Blanchi)</td>\n",
       "      <td>32,787.00</td>\n",
       "    </tr>\n",
       "    <tr>\n",
       "      <th>16</th>\n",
       "      <td>2542</td>\n",
       "      <td>Sucre Eq Brut</td>\n",
       "      <td>25,237.00</td>\n",
       "    </tr>\n",
       "    <tr>\n",
       "      <th>0</th>\n",
       "      <td>2511</td>\n",
       "      <td>Blé</td>\n",
       "      <td>24,841.00</td>\n",
       "    </tr>\n",
       "    <tr>\n",
       "      <th>47</th>\n",
       "      <td>2605</td>\n",
       "      <td>Légumes, Autres</td>\n",
       "      <td>19,948.00</td>\n",
       "    </tr>\n",
       "    <tr>\n",
       "      <th>52</th>\n",
       "      <td>2615</td>\n",
       "      <td>Bananes</td>\n",
       "      <td>17,805.00</td>\n",
       "    </tr>\n",
       "    <tr>\n",
       "      <th>58</th>\n",
       "      <td>2625</td>\n",
       "      <td>Fruits, Autres</td>\n",
       "      <td>14,590.00</td>\n",
       "    </tr>\n",
       "    <tr>\n",
       "      <th>96</th>\n",
       "      <td>2848</td>\n",
       "      <td>Lait - Excl Beurre</td>\n",
       "      <td>14,486.00</td>\n",
       "    </tr>\n",
       "    <tr>\n",
       "      <th>22</th>\n",
       "      <td>2555</td>\n",
       "      <td>Soja</td>\n",
       "      <td>14,389.00</td>\n",
       "    </tr>\n",
       "    <tr>\n",
       "      <th>85</th>\n",
       "      <td>2763</td>\n",
       "      <td>Poissons Pelagiques</td>\n",
       "      <td>13,680.00</td>\n",
       "    </tr>\n",
       "    <tr>\n",
       "      <th>45</th>\n",
       "      <td>2601</td>\n",
       "      <td>Tomates</td>\n",
       "      <td>8,901.00</td>\n",
       "    </tr>\n",
       "    <tr>\n",
       "      <th>54</th>\n",
       "      <td>2617</td>\n",
       "      <td>Pommes</td>\n",
       "      <td>7,786.00</td>\n",
       "    </tr>\n",
       "    <tr>\n",
       "      <th>48</th>\n",
       "      <td>2611</td>\n",
       "      <td>Oranges, Mandarines</td>\n",
       "      <td>6,838.00</td>\n",
       "    </tr>\n",
       "  </tbody>\n",
       "</table>\n",
       "</div>"
      ],
      "text/plain": [
       "    CPROD                 PROD  TOT_EXPORT\n",
       "38   2577       Huile de Palme   46,285.00\n",
       "2    2514                 Maïs   37,888.00\n",
       "9    2532               Manioc   35,843.00\n",
       "95   2805     Riz (Eq Blanchi)   32,787.00\n",
       "16   2542        Sucre Eq Brut   25,237.00\n",
       "0    2511                  Blé   24,841.00\n",
       "47   2605      Légumes, Autres   19,948.00\n",
       "52   2615              Bananes   17,805.00\n",
       "58   2625       Fruits, Autres   14,590.00\n",
       "96   2848   Lait - Excl Beurre   14,486.00\n",
       "22   2555                 Soja   14,389.00\n",
       "85   2763  Poissons Pelagiques   13,680.00\n",
       "45   2601              Tomates    8,901.00\n",
       "54   2617               Pommes    7,786.00\n",
       "48   2611  Oranges, Mandarines    6,838.00"
      ]
     },
     "execution_count": 70,
     "metadata": {},
     "output_type": "execute_result"
    }
   ],
   "source": [
    "s15 = tp.groupby(['CPROD', 'PROD'])['QT_EXPORT'].sum().reset_index()\n",
    "s15 = s15.sort_values(['QT_EXPORT'], ascending=[False]).head(15)\n",
    "s15.columns = [\"CPROD\", \"PROD\", \"TOT_EXPORT\"]\n",
    "s15"
   ]
  },
  {
   "cell_type": "markdown",
   "metadata": {},
   "source": [
    "#####   <font color='#61210B'>Pour ces 15 produits sélectionnés, choisir les 200 plus grandes importations\n",
    "- 1 importation = une quantité d'un produit donné importée par un pays donné"
   ]
  },
  {
   "cell_type": "code",
   "execution_count": 71,
   "metadata": {
    "scrolled": true
   },
   "outputs": [
    {
     "data": {
      "text/html": [
       "<div>\n",
       "<style scoped>\n",
       "    .dataframe tbody tr th:only-of-type {\n",
       "        vertical-align: middle;\n",
       "    }\n",
       "\n",
       "    .dataframe tbody tr th {\n",
       "        vertical-align: top;\n",
       "    }\n",
       "\n",
       "    .dataframe thead th {\n",
       "        text-align: right;\n",
       "    }\n",
       "</style>\n",
       "<table border=\"1\" class=\"dataframe\">\n",
       "  <thead>\n",
       "    <tr style=\"text-align: right;\">\n",
       "      <th></th>\n",
       "      <th>CPROD</th>\n",
       "      <th>PROD</th>\n",
       "      <th>TOT_EXPORT</th>\n",
       "      <th>ANNEE</th>\n",
       "      <th>CPAYS</th>\n",
       "      <th>PAYS</th>\n",
       "      <th>NBPERS</th>\n",
       "      <th>QT_IMPORT</th>\n",
       "      <th>QT_EXPORT</th>\n",
       "      <th>QT_DISPINT</th>\n",
       "      <th>QT_AUTRES</th>\n",
       "      <th>QT_ALIMANI</th>\n",
       "      <th>QT_NOURRIT</th>\n",
       "    </tr>\n",
       "  </thead>\n",
       "  <tbody>\n",
       "    <tr>\n",
       "      <th>1136</th>\n",
       "      <td>2601</td>\n",
       "      <td>Tomates</td>\n",
       "      <td>8,901.00</td>\n",
       "      <td>2013</td>\n",
       "      <td>194</td>\n",
       "      <td>Arabie saoudite</td>\n",
       "      <td>1,600,000.00</td>\n",
       "      <td>394.00</td>\n",
       "      <td>23.00</td>\n",
       "      <td>916.00</td>\n",
       "      <td>0.00</td>\n",
       "      <td>0.00</td>\n",
       "      <td>848.00</td>\n",
       "    </tr>\n",
       "    <tr>\n",
       "      <th>670</th>\n",
       "      <td>2615</td>\n",
       "      <td>Bananes</td>\n",
       "      <td>17,805.00</td>\n",
       "      <td>2013</td>\n",
       "      <td>9</td>\n",
       "      <td>Argentine</td>\n",
       "      <td>1,500,000.00</td>\n",
       "      <td>392.00</td>\n",
       "      <td>0.00</td>\n",
       "      <td>572.00</td>\n",
       "      <td>0.00</td>\n",
       "      <td>0.00</td>\n",
       "      <td>532.00</td>\n",
       "    </tr>\n",
       "    <tr>\n",
       "      <th>465</th>\n",
       "      <td>2542</td>\n",
       "      <td>Sucre Eq Brut</td>\n",
       "      <td>25,237.00</td>\n",
       "      <td>2013</td>\n",
       "      <td>222</td>\n",
       "      <td>Tunisie</td>\n",
       "      <td>500,000.00</td>\n",
       "      <td>385.00</td>\n",
       "      <td>8.00</td>\n",
       "      <td>373.00</td>\n",
       "      <td>0.00</td>\n",
       "      <td>0.00</td>\n",
       "      <td>373.00</td>\n",
       "    </tr>\n",
       "    <tr>\n",
       "      <th>1231</th>\n",
       "      <td>2617</td>\n",
       "      <td>Pommes</td>\n",
       "      <td>7,786.00</td>\n",
       "      <td>2013</td>\n",
       "      <td>194</td>\n",
       "      <td>Arabie saoudite</td>\n",
       "      <td>1,600,000.00</td>\n",
       "      <td>380.00</td>\n",
       "      <td>59.00</td>\n",
       "      <td>320.00</td>\n",
       "      <td>0.00</td>\n",
       "      <td>0.00</td>\n",
       "      <td>302.00</td>\n",
       "    </tr>\n",
       "    <tr>\n",
       "      <th>654</th>\n",
       "      <td>2605</td>\n",
       "      <td>Légumes, Autres</td>\n",
       "      <td>19,948.00</td>\n",
       "      <td>2013</td>\n",
       "      <td>216</td>\n",
       "      <td>Thaïlande</td>\n",
       "      <td>6,100,000.00</td>\n",
       "      <td>378.00</td>\n",
       "      <td>464.00</td>\n",
       "      <td>3,557.00</td>\n",
       "      <td>0.00</td>\n",
       "      <td>0.00</td>\n",
       "      <td>3,207.00</td>\n",
       "    </tr>\n",
       "  </tbody>\n",
       "</table>\n",
       "</div>"
      ],
      "text/plain": [
       "      CPROD             PROD  TOT_EXPORT  ANNEE  CPAYS             PAYS  \\\n",
       "1136   2601          Tomates    8,901.00   2013    194  Arabie saoudite   \n",
       "670    2615          Bananes   17,805.00   2013      9        Argentine   \n",
       "465    2542    Sucre Eq Brut   25,237.00   2013    222          Tunisie   \n",
       "1231   2617           Pommes    7,786.00   2013    194  Arabie saoudite   \n",
       "654    2605  Légumes, Autres   19,948.00   2013    216        Thaïlande   \n",
       "\n",
       "           NBPERS  QT_IMPORT  QT_EXPORT  QT_DISPINT  QT_AUTRES  QT_ALIMANI  \\\n",
       "1136 1,600,000.00     394.00      23.00      916.00       0.00        0.00   \n",
       "670  1,500,000.00     392.00       0.00      572.00       0.00        0.00   \n",
       "465    500,000.00     385.00       8.00      373.00       0.00        0.00   \n",
       "1231 1,600,000.00     380.00      59.00      320.00       0.00        0.00   \n",
       "654  6,100,000.00     378.00     464.00    3,557.00       0.00        0.00   \n",
       "\n",
       "      QT_NOURRIT  \n",
       "1136      848.00  \n",
       "670       532.00  \n",
       "465       373.00  \n",
       "1231      302.00  \n",
       "654     3,207.00  "
      ]
     },
     "execution_count": 71,
     "metadata": {},
     "output_type": "execute_result"
    }
   ],
   "source": [
    "s200 = pd.merge(s15, tp, how=\"left\")\n",
    "s200 = s200.sort_values(['QT_IMPORT'], ascending=[False]).head(200)\n",
    "s200.tail()"
   ]
  },
  {
   "cell_type": "markdown",
   "metadata": {},
   "source": [
    "#####   <font color='#61210B'>On regroupe ces 200 lignes à nouveau par produit pour faire des calculs de ratio suivants :\n",
    "\n",
    "-   le ratio entre la quantité destinés aux \"Autres utilisations\" (Other uses) et la disponibilité intérieure.\n",
    "-   le ratio entre la quantité destinée à la nourriture animale et la quantité destinée à la nourriture (animale + humaine)\n"
   ]
  },
  {
   "cell_type": "code",
   "execution_count": 72,
   "metadata": {},
   "outputs": [
    {
     "data": {
      "text/html": [
       "<div>\n",
       "<style scoped>\n",
       "    .dataframe tbody tr th:only-of-type {\n",
       "        vertical-align: middle;\n",
       "    }\n",
       "\n",
       "    .dataframe tbody tr th {\n",
       "        vertical-align: top;\n",
       "    }\n",
       "\n",
       "    .dataframe thead th {\n",
       "        text-align: right;\n",
       "    }\n",
       "</style>\n",
       "<table border=\"1\" class=\"dataframe\">\n",
       "  <thead>\n",
       "    <tr style=\"text-align: right;\">\n",
       "      <th></th>\n",
       "      <th>CPROD</th>\n",
       "      <th>PROD</th>\n",
       "      <th>TOT_IMPORT</th>\n",
       "      <th>TOT_EXPORT</th>\n",
       "      <th>TOT_DISPINT</th>\n",
       "      <th>TOT_AUTRES</th>\n",
       "      <th>TOT_ALIMANI</th>\n",
       "      <th>TOT_NOURRIT</th>\n",
       "    </tr>\n",
       "  </thead>\n",
       "  <tbody>\n",
       "    <tr>\n",
       "      <th>0</th>\n",
       "      <td>2511</td>\n",
       "      <td>Blé</td>\n",
       "      <td>96,333.00</td>\n",
       "      <td>7,769.00</td>\n",
       "      <td>294,641.00</td>\n",
       "      <td>9,892.00</td>\n",
       "      <td>44,858.00</td>\n",
       "      <td>218,474.00</td>\n",
       "    </tr>\n",
       "    <tr>\n",
       "      <th>1</th>\n",
       "      <td>2514</td>\n",
       "      <td>Maïs</td>\n",
       "      <td>56,510.00</td>\n",
       "      <td>1,333.00</td>\n",
       "      <td>334,220.00</td>\n",
       "      <td>40,411.00</td>\n",
       "      <td>215,133.00</td>\n",
       "      <td>49,207.00</td>\n",
       "    </tr>\n",
       "    <tr>\n",
       "      <th>2</th>\n",
       "      <td>2532</td>\n",
       "      <td>Manioc</td>\n",
       "      <td>33,566.00</td>\n",
       "      <td>26,161.00</td>\n",
       "      <td>66,296.00</td>\n",
       "      <td>21,068.00</td>\n",
       "      <td>25,152.00</td>\n",
       "      <td>15,313.00</td>\n",
       "    </tr>\n",
       "    <tr>\n",
       "      <th>3</th>\n",
       "      <td>2542</td>\n",
       "      <td>Sucre Eq Brut</td>\n",
       "      <td>31,462.00</td>\n",
       "      <td>6,554.00</td>\n",
       "      <td>73,611.00</td>\n",
       "      <td>3,509.00</td>\n",
       "      <td>0.00</td>\n",
       "      <td>58,931.00</td>\n",
       "    </tr>\n",
       "    <tr>\n",
       "      <th>4</th>\n",
       "      <td>2555</td>\n",
       "      <td>Soja</td>\n",
       "      <td>76,334.00</td>\n",
       "      <td>308.00</td>\n",
       "      <td>89,821.00</td>\n",
       "      <td>524.00</td>\n",
       "      <td>10,668.00</td>\n",
       "      <td>6,493.00</td>\n",
       "    </tr>\n",
       "  </tbody>\n",
       "</table>\n",
       "</div>"
      ],
      "text/plain": [
       "   CPROD           PROD  TOT_IMPORT  TOT_EXPORT  TOT_DISPINT  TOT_AUTRES  \\\n",
       "0   2511            Blé   96,333.00    7,769.00   294,641.00    9,892.00   \n",
       "1   2514           Maïs   56,510.00    1,333.00   334,220.00   40,411.00   \n",
       "2   2532         Manioc   33,566.00   26,161.00    66,296.00   21,068.00   \n",
       "3   2542  Sucre Eq Brut   31,462.00    6,554.00    73,611.00    3,509.00   \n",
       "4   2555           Soja   76,334.00      308.00    89,821.00      524.00   \n",
       "\n",
       "   TOT_ALIMANI  TOT_NOURRIT  \n",
       "0    44,858.00   218,474.00  \n",
       "1   215,133.00    49,207.00  \n",
       "2    25,152.00    15,313.00  \n",
       "3         0.00    58,931.00  \n",
       "4    10,668.00     6,493.00  "
      ]
     },
     "execution_count": 72,
     "metadata": {},
     "output_type": "execute_result"
    }
   ],
   "source": [
    "q12 = s200.groupby(['CPROD', 'PROD'])['QT_IMPORT', 'QT_EXPORT', 'QT_DISPINT', 'QT_AUTRES', \n",
    "                                      'QT_ALIMANI', 'QT_NOURRIT'].sum().reset_index()\n",
    "q12.columns = ['CPROD', 'PROD', 'TOT_IMPORT', 'TOT_EXPORT', 'TOT_DISPINT', 'TOT_AUTRES', \n",
    "                                      'TOT_ALIMANI', 'TOT_NOURRIT']\n",
    "q12.head()"
   ]
  },
  {
   "cell_type": "markdown",
   "metadata": {},
   "source": [
    "<hr style=\"height: 3px; color: #839D2D; width: 100%; \">\n",
    "\n",
    "###  <font color='#61210B'><u>QUESTION 12</u></font> : 3 Produits ayant les plus forts ratios \n",
    "- #### Ratio 1 = entre la quantité destinés aux \"Autres utilisations\" (Other uses) et la disponibilité intérieure.   \n",
    "- #### Ratio 2 = entre la quantité destinée à la nourriture animale et la quantité destinée à la nourriture (animale + humaine)."
   ]
  },
  {
   "cell_type": "code",
   "execution_count": 73,
   "metadata": {
    "scrolled": false
   },
   "outputs": [
    {
     "data": {
      "text/html": [
       "<div>\n",
       "<style scoped>\n",
       "    .dataframe tbody tr th:only-of-type {\n",
       "        vertical-align: middle;\n",
       "    }\n",
       "\n",
       "    .dataframe tbody tr th {\n",
       "        vertical-align: top;\n",
       "    }\n",
       "\n",
       "    .dataframe thead th {\n",
       "        text-align: right;\n",
       "    }\n",
       "</style>\n",
       "<table border=\"1\" class=\"dataframe\">\n",
       "  <thead>\n",
       "    <tr style=\"text-align: right;\">\n",
       "      <th></th>\n",
       "      <th>CPROD</th>\n",
       "      <th>PROD</th>\n",
       "      <th>TOT_IMPORT</th>\n",
       "      <th>TOT_EXPORT</th>\n",
       "      <th>TOT_DISPINT</th>\n",
       "      <th>TOT_AUTRES</th>\n",
       "      <th>TOT_ALIMANI</th>\n",
       "      <th>TOT_NOURRIT</th>\n",
       "      <th>Ratio1(%)</th>\n",
       "      <th>Ratio2(%)</th>\n",
       "    </tr>\n",
       "  </thead>\n",
       "  <tbody>\n",
       "    <tr>\n",
       "      <th>0</th>\n",
       "      <td>2511</td>\n",
       "      <td>Blé</td>\n",
       "      <td>96,333.00</td>\n",
       "      <td>7,769.00</td>\n",
       "      <td>294,641.00</td>\n",
       "      <td>9,892.00</td>\n",
       "      <td>44,858.00</td>\n",
       "      <td>218,474.00</td>\n",
       "      <td>3.36</td>\n",
       "      <td>17.03</td>\n",
       "    </tr>\n",
       "    <tr>\n",
       "      <th>1</th>\n",
       "      <td>2514</td>\n",
       "      <td>Maïs</td>\n",
       "      <td>56,510.00</td>\n",
       "      <td>1,333.00</td>\n",
       "      <td>334,220.00</td>\n",
       "      <td>40,411.00</td>\n",
       "      <td>215,133.00</td>\n",
       "      <td>49,207.00</td>\n",
       "      <td>12.09</td>\n",
       "      <td>81.38</td>\n",
       "    </tr>\n",
       "    <tr>\n",
       "      <th>2</th>\n",
       "      <td>2532</td>\n",
       "      <td>Manioc</td>\n",
       "      <td>33,566.00</td>\n",
       "      <td>26,161.00</td>\n",
       "      <td>66,296.00</td>\n",
       "      <td>21,068.00</td>\n",
       "      <td>25,152.00</td>\n",
       "      <td>15,313.00</td>\n",
       "      <td>31.78</td>\n",
       "      <td>62.16</td>\n",
       "    </tr>\n",
       "    <tr>\n",
       "      <th>3</th>\n",
       "      <td>2542</td>\n",
       "      <td>Sucre Eq Brut</td>\n",
       "      <td>31,462.00</td>\n",
       "      <td>6,554.00</td>\n",
       "      <td>73,611.00</td>\n",
       "      <td>3,509.00</td>\n",
       "      <td>0.00</td>\n",
       "      <td>58,931.00</td>\n",
       "      <td>4.77</td>\n",
       "      <td>0.00</td>\n",
       "    </tr>\n",
       "    <tr>\n",
       "      <th>4</th>\n",
       "      <td>2555</td>\n",
       "      <td>Soja</td>\n",
       "      <td>76,334.00</td>\n",
       "      <td>308.00</td>\n",
       "      <td>89,821.00</td>\n",
       "      <td>524.00</td>\n",
       "      <td>10,668.00</td>\n",
       "      <td>6,493.00</td>\n",
       "      <td>0.58</td>\n",
       "      <td>62.16</td>\n",
       "    </tr>\n",
       "    <tr>\n",
       "      <th>5</th>\n",
       "      <td>2577</td>\n",
       "      <td>Huile de Palme</td>\n",
       "      <td>26,634.00</td>\n",
       "      <td>20,231.00</td>\n",
       "      <td>26,450.00</td>\n",
       "      <td>17,886.00</td>\n",
       "      <td>0.00</td>\n",
       "      <td>8,283.00</td>\n",
       "      <td>67.62</td>\n",
       "      <td>0.00</td>\n",
       "    </tr>\n",
       "    <tr>\n",
       "      <th>6</th>\n",
       "      <td>2601</td>\n",
       "      <td>Tomates</td>\n",
       "      <td>802.00</td>\n",
       "      <td>23.00</td>\n",
       "      <td>2,889.00</td>\n",
       "      <td>0.00</td>\n",
       "      <td>0.00</td>\n",
       "      <td>2,586.00</td>\n",
       "      <td>0.00</td>\n",
       "      <td>0.00</td>\n",
       "    </tr>\n",
       "    <tr>\n",
       "      <th>7</th>\n",
       "      <td>2605</td>\n",
       "      <td>Légumes, Autres</td>\n",
       "      <td>2,112.00</td>\n",
       "      <td>863.00</td>\n",
       "      <td>14,565.00</td>\n",
       "      <td>47.00</td>\n",
       "      <td>1.00</td>\n",
       "      <td>13,399.00</td>\n",
       "      <td>0.32</td>\n",
       "      <td>0.01</td>\n",
       "    </tr>\n",
       "    <tr>\n",
       "      <th>8</th>\n",
       "      <td>2611</td>\n",
       "      <td>Oranges, Mandarines</td>\n",
       "      <td>595.00</td>\n",
       "      <td>321.00</td>\n",
       "      <td>322.00</td>\n",
       "      <td>0.00</td>\n",
       "      <td>0.00</td>\n",
       "      <td>313.00</td>\n",
       "      <td>0.00</td>\n",
       "      <td>0.00</td>\n",
       "    </tr>\n",
       "    <tr>\n",
       "      <th>9</th>\n",
       "      <td>2615</td>\n",
       "      <td>Bananes</td>\n",
       "      <td>1,927.00</td>\n",
       "      <td>44.00</td>\n",
       "      <td>14,255.00</td>\n",
       "      <td>21.00</td>\n",
       "      <td>0.00</td>\n",
       "      <td>11,633.00</td>\n",
       "      <td>0.15</td>\n",
       "      <td>0.00</td>\n",
       "    </tr>\n",
       "    <tr>\n",
       "      <th>10</th>\n",
       "      <td>2617</td>\n",
       "      <td>Pommes</td>\n",
       "      <td>881.00</td>\n",
       "      <td>865.00</td>\n",
       "      <td>975.00</td>\n",
       "      <td>0.00</td>\n",
       "      <td>0.00</td>\n",
       "      <td>885.00</td>\n",
       "      <td>0.00</td>\n",
       "      <td>0.00</td>\n",
       "    </tr>\n",
       "    <tr>\n",
       "      <th>11</th>\n",
       "      <td>2625</td>\n",
       "      <td>Fruits, Autres</td>\n",
       "      <td>4,464.00</td>\n",
       "      <td>5,282.00</td>\n",
       "      <td>64,138.00</td>\n",
       "      <td>41.00</td>\n",
       "      <td>0.00</td>\n",
       "      <td>58,054.00</td>\n",
       "      <td>0.06</td>\n",
       "      <td>0.00</td>\n",
       "    </tr>\n",
       "    <tr>\n",
       "      <th>12</th>\n",
       "      <td>2763</td>\n",
       "      <td>Poissons Pelagiques</td>\n",
       "      <td>11,692.00</td>\n",
       "      <td>3,072.00</td>\n",
       "      <td>16,419.00</td>\n",
       "      <td>40.00</td>\n",
       "      <td>10,836.00</td>\n",
       "      <td>5,543.00</td>\n",
       "      <td>0.24</td>\n",
       "      <td>66.16</td>\n",
       "    </tr>\n",
       "    <tr>\n",
       "      <th>13</th>\n",
       "      <td>2805</td>\n",
       "      <td>Riz (Eq Blanchi)</td>\n",
       "      <td>22,301.00</td>\n",
       "      <td>1,331.00</td>\n",
       "      <td>224,578.00</td>\n",
       "      <td>10,403.00</td>\n",
       "      <td>15,907.00</td>\n",
       "      <td>179,816.00</td>\n",
       "      <td>4.63</td>\n",
       "      <td>8.13</td>\n",
       "    </tr>\n",
       "    <tr>\n",
       "      <th>14</th>\n",
       "      <td>2848</td>\n",
       "      <td>Lait - Excl Beurre</td>\n",
       "      <td>35,737.00</td>\n",
       "      <td>5,976.00</td>\n",
       "      <td>103,920.00</td>\n",
       "      <td>1,326.00</td>\n",
       "      <td>3,600.00</td>\n",
       "      <td>96,289.00</td>\n",
       "      <td>1.28</td>\n",
       "      <td>3.60</td>\n",
       "    </tr>\n",
       "  </tbody>\n",
       "</table>\n",
       "</div>"
      ],
      "text/plain": [
       "    CPROD                 PROD  TOT_IMPORT  TOT_EXPORT  TOT_DISPINT  \\\n",
       "0    2511                  Blé   96,333.00    7,769.00   294,641.00   \n",
       "1    2514                 Maïs   56,510.00    1,333.00   334,220.00   \n",
       "2    2532               Manioc   33,566.00   26,161.00    66,296.00   \n",
       "3    2542        Sucre Eq Brut   31,462.00    6,554.00    73,611.00   \n",
       "4    2555                 Soja   76,334.00      308.00    89,821.00   \n",
       "5    2577       Huile de Palme   26,634.00   20,231.00    26,450.00   \n",
       "6    2601              Tomates      802.00       23.00     2,889.00   \n",
       "7    2605      Légumes, Autres    2,112.00      863.00    14,565.00   \n",
       "8    2611  Oranges, Mandarines      595.00      321.00       322.00   \n",
       "9    2615              Bananes    1,927.00       44.00    14,255.00   \n",
       "10   2617               Pommes      881.00      865.00       975.00   \n",
       "11   2625       Fruits, Autres    4,464.00    5,282.00    64,138.00   \n",
       "12   2763  Poissons Pelagiques   11,692.00    3,072.00    16,419.00   \n",
       "13   2805     Riz (Eq Blanchi)   22,301.00    1,331.00   224,578.00   \n",
       "14   2848   Lait - Excl Beurre   35,737.00    5,976.00   103,920.00   \n",
       "\n",
       "    TOT_AUTRES  TOT_ALIMANI  TOT_NOURRIT  Ratio1(%)  Ratio2(%)  \n",
       "0     9,892.00    44,858.00   218,474.00       3.36      17.03  \n",
       "1    40,411.00   215,133.00    49,207.00      12.09      81.38  \n",
       "2    21,068.00    25,152.00    15,313.00      31.78      62.16  \n",
       "3     3,509.00         0.00    58,931.00       4.77       0.00  \n",
       "4       524.00    10,668.00     6,493.00       0.58      62.16  \n",
       "5    17,886.00         0.00     8,283.00      67.62       0.00  \n",
       "6         0.00         0.00     2,586.00       0.00       0.00  \n",
       "7        47.00         1.00    13,399.00       0.32       0.01  \n",
       "8         0.00         0.00       313.00       0.00       0.00  \n",
       "9        21.00         0.00    11,633.00       0.15       0.00  \n",
       "10        0.00         0.00       885.00       0.00       0.00  \n",
       "11       41.00         0.00    58,054.00       0.06       0.00  \n",
       "12       40.00    10,836.00     5,543.00       0.24      66.16  \n",
       "13   10,403.00    15,907.00   179,816.00       4.63       8.13  \n",
       "14    1,326.00     3,600.00    96,289.00       1.28       3.60  "
      ]
     },
     "execution_count": 73,
     "metadata": {},
     "output_type": "execute_result"
    }
   ],
   "source": [
    "q12['Ratio1(%)'] = q12['TOT_AUTRES'] *100 / q12['TOT_DISPINT']\n",
    "q12['Ratio2(%)'] = q12['TOT_ALIMANI'] *100 / (q12['TOT_ALIMANI']+q12['TOT_NOURRIT'])\n",
    "q12\n",
    "#q12[(q12['CPROD'] == 2577)].head()"
   ]
  },
  {
   "cell_type": "code",
   "execution_count": 74,
   "metadata": {},
   "outputs": [
    {
     "data": {
      "text/html": [
       "<h3>Les 3 Produits ayant le Ratio1(%) le plus élevé sont :</h3>"
      ],
      "text/plain": [
       "<IPython.core.display.HTML object>"
      ]
     },
     "metadata": {},
     "output_type": "display_data"
    },
    {
     "data": {
      "text/html": [
       "Ratio 1 = QT 'Autres utilisations'(Other uses) / QT Disponibilité Intérieure"
      ],
      "text/plain": [
       "<IPython.core.display.HTML object>"
      ]
     },
     "metadata": {},
     "output_type": "display_data"
    },
    {
     "data": {
      "text/html": [
       "<div>\n",
       "<style scoped>\n",
       "    .dataframe tbody tr th:only-of-type {\n",
       "        vertical-align: middle;\n",
       "    }\n",
       "\n",
       "    .dataframe tbody tr th {\n",
       "        vertical-align: top;\n",
       "    }\n",
       "\n",
       "    .dataframe thead th {\n",
       "        text-align: right;\n",
       "    }\n",
       "</style>\n",
       "<table border=\"1\" class=\"dataframe\">\n",
       "  <thead>\n",
       "    <tr style=\"text-align: right;\">\n",
       "      <th></th>\n",
       "      <th>PROD</th>\n",
       "      <th>Ratio1(%)</th>\n",
       "    </tr>\n",
       "  </thead>\n",
       "  <tbody>\n",
       "    <tr>\n",
       "      <th>5</th>\n",
       "      <td>Huile de Palme</td>\n",
       "      <td>67.62</td>\n",
       "    </tr>\n",
       "    <tr>\n",
       "      <th>2</th>\n",
       "      <td>Manioc</td>\n",
       "      <td>31.78</td>\n",
       "    </tr>\n",
       "    <tr>\n",
       "      <th>1</th>\n",
       "      <td>Maïs</td>\n",
       "      <td>12.09</td>\n",
       "    </tr>\n",
       "  </tbody>\n",
       "</table>\n",
       "</div>"
      ],
      "text/plain": [
       "             PROD  Ratio1(%)\n",
       "5  Huile de Palme      67.62\n",
       "2          Manioc      31.78\n",
       "1            Maïs      12.09"
      ]
     },
     "execution_count": 74,
     "metadata": {},
     "output_type": "execute_result"
    }
   ],
   "source": [
    "display(HTML(\"<h3>Les 3 Produits ayant le Ratio1(%) le plus élevé sont :</h3>\"))\n",
    "display(HTML(\"Ratio 1 = QT 'Autres utilisations'(Other uses) / QT Disponibilité Intérieure\"))\n",
    "q12.sort_values(['Ratio1(%)'], ascending=[False])[['PROD', 'Ratio1(%)']].head(3)"
   ]
  },
  {
   "cell_type": "markdown",
   "metadata": {},
   "source": [
    "#####   <font color='#61210B'>Les 3 Produits ayant le Ratio2(%) le plus élevé sont :"
   ]
  },
  {
   "cell_type": "code",
   "execution_count": 75,
   "metadata": {},
   "outputs": [
    {
     "data": {
      "text/html": [
       "<h3>Les 3 Produits ayant le Ratio2(%) le plus élevé sont :</h3>"
      ],
      "text/plain": [
       "<IPython.core.display.HTML object>"
      ]
     },
     "metadata": {},
     "output_type": "display_data"
    },
    {
     "data": {
      "text/html": [
       "Ratio 1 = QT Nourriture animale / (QT Nourriture animale + QT Nourriture humaine)"
      ],
      "text/plain": [
       "<IPython.core.display.HTML object>"
      ]
     },
     "metadata": {},
     "output_type": "display_data"
    },
    {
     "data": {
      "text/html": [
       "<div>\n",
       "<style scoped>\n",
       "    .dataframe tbody tr th:only-of-type {\n",
       "        vertical-align: middle;\n",
       "    }\n",
       "\n",
       "    .dataframe tbody tr th {\n",
       "        vertical-align: top;\n",
       "    }\n",
       "\n",
       "    .dataframe thead th {\n",
       "        text-align: right;\n",
       "    }\n",
       "</style>\n",
       "<table border=\"1\" class=\"dataframe\">\n",
       "  <thead>\n",
       "    <tr style=\"text-align: right;\">\n",
       "      <th></th>\n",
       "      <th>PROD</th>\n",
       "      <th>Ratio2(%)</th>\n",
       "    </tr>\n",
       "  </thead>\n",
       "  <tbody>\n",
       "    <tr>\n",
       "      <th>1</th>\n",
       "      <td>Maïs</td>\n",
       "      <td>81.38</td>\n",
       "    </tr>\n",
       "    <tr>\n",
       "      <th>12</th>\n",
       "      <td>Poissons Pelagiques</td>\n",
       "      <td>66.16</td>\n",
       "    </tr>\n",
       "    <tr>\n",
       "      <th>4</th>\n",
       "      <td>Soja</td>\n",
       "      <td>62.16</td>\n",
       "    </tr>\n",
       "  </tbody>\n",
       "</table>\n",
       "</div>"
      ],
      "text/plain": [
       "                   PROD  Ratio2(%)\n",
       "1                  Maïs      81.38\n",
       "12  Poissons Pelagiques      66.16\n",
       "4                  Soja      62.16"
      ]
     },
     "execution_count": 75,
     "metadata": {},
     "output_type": "execute_result"
    }
   ],
   "source": [
    "display(HTML(\"<h3>Les 3 Produits ayant le Ratio2(%) le plus élevé sont :</h3>\"))\n",
    "display(HTML(\"Ratio 1 = QT Nourriture animale / (QT Nourriture animale + QT Nourriture humaine)\"))\n",
    "q12.sort_values(['Ratio2(%)'], ascending=[False])[['PROD', 'Ratio2(%)']].head(3)"
   ]
  },
  {
   "cell_type": "markdown",
   "metadata": {},
   "source": [
    "<hr style=\"height: 3px; color: #839D2D; width: 100%; \">\n",
    "\n",
    "###  <font color='#61210B'><u>QUESTION 13</u></font> : Tonnes de Céréales libérées, si les USA baissent de 10% la production de produits animaliers"
   ]
  },
  {
   "cell_type": "markdown",
   "metadata": {},
   "source": [
    "- Selection à partir du DataFrame général des lignes pour le Code Pays \"Etats-Unis\" (231)  "
   ]
  },
  {
   "cell_type": "code",
   "execution_count": 76,
   "metadata": {
    "scrolled": true
   },
   "outputs": [
    {
     "data": {
      "text/html": [
       "<div>\n",
       "<style scoped>\n",
       "    .dataframe tbody tr th:only-of-type {\n",
       "        vertical-align: middle;\n",
       "    }\n",
       "\n",
       "    .dataframe tbody tr th {\n",
       "        vertical-align: top;\n",
       "    }\n",
       "\n",
       "    .dataframe thead th {\n",
       "        text-align: right;\n",
       "    }\n",
       "</style>\n",
       "<table border=\"1\" class=\"dataframe\">\n",
       "  <thead>\n",
       "    <tr style=\"text-align: right;\">\n",
       "      <th></th>\n",
       "      <th>CPAYS</th>\n",
       "      <th>PAYS</th>\n",
       "      <th>CPROD</th>\n",
       "      <th>PROD</th>\n",
       "      <th>QT_ALIMANI</th>\n",
       "    </tr>\n",
       "  </thead>\n",
       "  <tbody>\n",
       "    <tr>\n",
       "      <th>4842</th>\n",
       "      <td>231</td>\n",
       "      <td>États-Unis d'Amérique</td>\n",
       "      <td>2511</td>\n",
       "      <td>Blé</td>\n",
       "      <td>6,196.00</td>\n",
       "    </tr>\n",
       "    <tr>\n",
       "      <th>4843</th>\n",
       "      <td>231</td>\n",
       "      <td>États-Unis d'Amérique</td>\n",
       "      <td>2513</td>\n",
       "      <td>Orge</td>\n",
       "      <td>1,440.00</td>\n",
       "    </tr>\n",
       "    <tr>\n",
       "      <th>4844</th>\n",
       "      <td>231</td>\n",
       "      <td>États-Unis d'Amérique</td>\n",
       "      <td>2514</td>\n",
       "      <td>Maïs</td>\n",
       "      <td>128,024.00</td>\n",
       "    </tr>\n",
       "    <tr>\n",
       "      <th>4845</th>\n",
       "      <td>231</td>\n",
       "      <td>États-Unis d'Amérique</td>\n",
       "      <td>2515</td>\n",
       "      <td>Seigle</td>\n",
       "      <td>184.00</td>\n",
       "    </tr>\n",
       "    <tr>\n",
       "      <th>4846</th>\n",
       "      <td>231</td>\n",
       "      <td>États-Unis d'Amérique</td>\n",
       "      <td>2516</td>\n",
       "      <td>Avoine</td>\n",
       "      <td>1,430.00</td>\n",
       "    </tr>\n",
       "  </tbody>\n",
       "</table>\n",
       "</div>"
      ],
      "text/plain": [
       "      CPAYS                   PAYS  CPROD    PROD  QT_ALIMANI\n",
       "4842    231  États-Unis d'Amérique   2511     Blé    6,196.00\n",
       "4843    231  États-Unis d'Amérique   2513    Orge    1,440.00\n",
       "4844    231  États-Unis d'Amérique   2514    Maïs  128,024.00\n",
       "4845    231  États-Unis d'Amérique   2515  Seigle      184.00\n",
       "4846    231  États-Unis d'Amérique   2516  Avoine    1,430.00"
      ]
     },
     "execution_count": 76,
     "metadata": {},
     "output_type": "execute_result"
    }
   ],
   "source": [
    "tp13 = gen[(gen['CPAYS'] == 231)][['CPAYS', 'PAYS', 'CPROD', 'PROD', 'QT_ALIMANI']].copy()\n",
    "tp13.head()"
   ]
  },
  {
   "cell_type": "markdown",
   "metadata": {},
   "source": [
    "- Jointure ou  Filtre sur la liste de produits de type \"céréales\" q11sel  (voir Question 11)"
   ]
  },
  {
   "cell_type": "code",
   "execution_count": 77,
   "metadata": {},
   "outputs": [],
   "source": [
    "tp13['QT_ALIMANI'] = tp13['QT_ALIMANI'].fillna(0)\n",
    "q13 = tp13[tp13['CPROD'].isin(q11sel)]\n",
    "tot_prod_animali_usa = q13['QT_ALIMANI'].sum()\n",
    "eco = 0.1 * (tot_prod_animali_usa * 1000)"
   ]
  },
  {
   "cell_type": "code",
   "execution_count": 78,
   "metadata": {
    "scrolled": true
   },
   "outputs": [
    {
     "data": {
      "text/html": [
       "<h3>En 2013, si les Etats-Unis avaient baissé leur production de produits animaliers de 10%,</h3>"
      ],
      "text/plain": [
       "<IPython.core.display.HTML object>"
      ]
     },
     "metadata": {},
     "output_type": "display_data"
    },
    {
     "data": {
      "text/markdown": [
       "<strong>     14,009,600</strong> tonnes de céréales auraient été libérées"
      ],
      "text/plain": [
       "<IPython.core.display.Markdown object>"
      ]
     },
     "execution_count": 78,
     "metadata": {},
     "output_type": "execute_result"
    }
   ],
   "source": [
    "display(HTML(\"<h3>En 2013, si les Etats-Unis avaient baissé leur production de produits animaliers de 10%,</h3>\"))\n",
    "parm1 = str('{:15,.0f}'.format(eco))\n",
    "parm2 = \" tonnes de céréales auraient été libérées\"\n",
    "Markdown('<strong>{}</strong>{}'.format(parm1,parm2))"
   ]
  },
  {
   "cell_type": "markdown",
   "metadata": {},
   "source": [
    "<hr style=\"height: 3px; color: #839D2D; width: 100%; \">\n",
    "\n",
    "###  <font color='#61210B'><u>QUESTION 14</u></font> : Thaïlande  -  Calculs de proportions  :\n",
    "\n",
    "- Proportion de manioc exportée\n",
    "- Proportion de personnes en sous-nutrition"
   ]
  },
  {
   "cell_type": "markdown",
   "metadata": {},
   "source": [
    "- Selection à partir du DataFrame général des lignes pour le Code Pays \"Thailande\" (216)  "
   ]
  },
  {
   "cell_type": "code",
   "execution_count": 79,
   "metadata": {
    "scrolled": true
   },
   "outputs": [
    {
     "data": {
      "text/html": [
       "<div>\n",
       "<style scoped>\n",
       "    .dataframe tbody tr th:only-of-type {\n",
       "        vertical-align: middle;\n",
       "    }\n",
       "\n",
       "    .dataframe tbody tr th {\n",
       "        vertical-align: top;\n",
       "    }\n",
       "\n",
       "    .dataframe thead th {\n",
       "        text-align: right;\n",
       "    }\n",
       "</style>\n",
       "<table border=\"1\" class=\"dataframe\">\n",
       "  <thead>\n",
       "    <tr style=\"text-align: right;\">\n",
       "      <th></th>\n",
       "      <th>CPAYS</th>\n",
       "      <th>PAYS</th>\n",
       "      <th>VALP</th>\n",
       "      <th>CPROD</th>\n",
       "      <th>PROD</th>\n",
       "      <th>QT_EXPORT</th>\n",
       "      <th>QT_PRODUCT</th>\n",
       "    </tr>\n",
       "  </thead>\n",
       "  <tbody>\n",
       "    <tr>\n",
       "      <th>14305</th>\n",
       "      <td>216</td>\n",
       "      <td>Thaïlande</td>\n",
       "      <td>67011000</td>\n",
       "      <td>2511</td>\n",
       "      <td>Blé</td>\n",
       "      <td>237.00</td>\n",
       "      <td>2.00</td>\n",
       "    </tr>\n",
       "    <tr>\n",
       "      <th>14306</th>\n",
       "      <td>216</td>\n",
       "      <td>Thaïlande</td>\n",
       "      <td>67011000</td>\n",
       "      <td>2513</td>\n",
       "      <td>Orge</td>\n",
       "      <td>0.00</td>\n",
       "      <td>95.00</td>\n",
       "    </tr>\n",
       "    <tr>\n",
       "      <th>14307</th>\n",
       "      <td>216</td>\n",
       "      <td>Thaïlande</td>\n",
       "      <td>67011000</td>\n",
       "      <td>2514</td>\n",
       "      <td>Maïs</td>\n",
       "      <td>591.00</td>\n",
       "      <td>5,063.00</td>\n",
       "    </tr>\n",
       "    <tr>\n",
       "      <th>14308</th>\n",
       "      <td>216</td>\n",
       "      <td>Thaïlande</td>\n",
       "      <td>67011000</td>\n",
       "      <td>2515</td>\n",
       "      <td>Seigle</td>\n",
       "      <td>0.00</td>\n",
       "      <td>nan</td>\n",
       "    </tr>\n",
       "    <tr>\n",
       "      <th>14309</th>\n",
       "      <td>216</td>\n",
       "      <td>Thaïlande</td>\n",
       "      <td>67011000</td>\n",
       "      <td>2516</td>\n",
       "      <td>Avoine</td>\n",
       "      <td>0.00</td>\n",
       "      <td>nan</td>\n",
       "    </tr>\n",
       "  </tbody>\n",
       "</table>\n",
       "</div>"
      ],
      "text/plain": [
       "       CPAYS       PAYS      VALP  CPROD    PROD  QT_EXPORT  QT_PRODUCT\n",
       "14305    216  Thaïlande  67011000   2511     Blé     237.00        2.00\n",
       "14306    216  Thaïlande  67011000   2513    Orge       0.00       95.00\n",
       "14307    216  Thaïlande  67011000   2514    Maïs     591.00    5,063.00\n",
       "14308    216  Thaïlande  67011000   2515  Seigle       0.00         nan\n",
       "14309    216  Thaïlande  67011000   2516  Avoine       0.00         nan"
      ]
     },
     "execution_count": 79,
     "metadata": {},
     "output_type": "execute_result"
    }
   ],
   "source": [
    "q14 = gen[(gen['CPAYS'] == 216)][['CPAYS', 'PAYS', 'VALP', 'CPROD', 'PROD', 'QT_EXPORT', 'QT_PRODUCT']].copy()\n",
    "q14['QT_EXPORT'] = q14['QT_EXPORT'].fillna(0)\n",
    "q14.head()"
   ]
  },
  {
   "cell_type": "markdown",
   "metadata": {},
   "source": [
    "- Calcul du Total des quantités exportées par la Thailande en tonnes (2013)"
   ]
  },
  {
   "cell_type": "code",
   "execution_count": 80,
   "metadata": {},
   "outputs": [
    {
     "data": {
      "text/markdown": [
       "<strong><u>Total des Exportations de la Thailande en 2013 : </u><br/>          50.43</strong> (Millions de Tonnes)"
      ],
      "text/plain": [
       "<IPython.core.display.Markdown object>"
      ]
     },
     "execution_count": 80,
     "metadata": {},
     "output_type": "execute_result"
    }
   ],
   "source": [
    "QT_TOT_EXP_THAI = q14['QT_EXPORT'].sum()\n",
    "parm1 = \"Total des Exportations de la Thailande en 2013 : \"\n",
    "parm2 = str('{:15,.2f}'.format(QT_TOT_EXP_THAI/1000))\n",
    "parm3 = \" (Millions de Tonnes)\"\n",
    "Markdown('<strong><u>{}</u><br/>{}</strong>{}'.format(parm1,parm2,parm3))\n"
   ]
  },
  {
   "cell_type": "markdown",
   "metadata": {},
   "source": [
    "- Recherche de la quantité de manioc exportée par la Thailande en tonnes (2013)  ---  Code Produit [2532]"
   ]
  },
  {
   "cell_type": "code",
   "execution_count": 81,
   "metadata": {},
   "outputs": [],
   "source": [
    "QT_MANIOC_EXP_THAI = q14[(q14['CPROD'] == 2532)]['QT_EXPORT'].mean()\n",
    "TX_MANIOC_EXP = QT_MANIOC_EXP_THAI *100 / QT_TOT_EXP_THAI"
   ]
  },
  {
   "cell_type": "code",
   "execution_count": 82,
   "metadata": {},
   "outputs": [],
   "source": [
    "TX_MANIOC_PRD = q14[(q14['CPROD'] == 2532)]['QT_EXPORT'].max() / q14[(q14['CPROD'] == 2532)]['QT_PRODUCT'].max()"
   ]
  },
  {
   "cell_type": "code",
   "execution_count": 83,
   "metadata": {
    "scrolled": true
   },
   "outputs": [
    {
     "data": {
      "text/html": [
       "<h3><u>En 2013, la Thaïlande a exporté</u></h3>"
      ],
      "text/plain": [
       "<IPython.core.display.HTML object>"
      ]
     },
     "metadata": {},
     "output_type": "display_data"
    },
    {
     "data": {
      "text/markdown": [
       "<strong>           25.2</strong> Millions de tonnes de manioc. Cela représente <strong>           50.0</strong> (%) des Exports du pays.<br/> Cela représente aussi <strong>          83.41</strong> (%) de la production annuelle de manioc"
      ],
      "text/plain": [
       "<IPython.core.display.Markdown object>"
      ]
     },
     "execution_count": 83,
     "metadata": {},
     "output_type": "execute_result"
    }
   ],
   "source": [
    "display(HTML(\"<h3><u>En 2013, la Thaïlande a exporté</u></h3>\"))\n",
    "parm1 = str('{:15,.1f}'.format(round(QT_MANIOC_EXP_THAI/1000,1)))\n",
    "parm2 = \" Millions de tonnes de manioc.\"\n",
    "parm3 = \" Cela représente \"\n",
    "parm4 = str('{:15,.1f}'.format(round(TX_MANIOC_EXP,3)))\n",
    "parm5 = \" (%) des Exports du pays.\"\n",
    "parm6 = \" Cela représente aussi \"\n",
    "parm7 = str('{:15,.2f}'.format(TX_MANIOC_PRD * 100))\n",
    "parm8 = \" (%) de la production annuelle de manioc\"\n",
    "Markdown('<strong>{}</strong>{}{}<strong>{}</strong>{}<br/>{}<strong>{}</strong>{}'.\n",
    "         format(parm1,parm2,parm3,parm4,parm5,parm6,parm7,parm8))"
   ]
  },
  {
   "cell_type": "markdown",
   "metadata": {},
   "source": [
    "- Recherche de la population de la Thailande dans le dataframe pop (2013)  ---  Code Pays [216]"
   ]
  },
  {
   "cell_type": "code",
   "execution_count": 84,
   "metadata": {
    "scrolled": false
   },
   "outputs": [],
   "source": [
    "POP_THAI = pop[(pop['CPAYS'] == 216)]['VALP'].max()"
   ]
  },
  {
   "cell_type": "markdown",
   "metadata": {},
   "source": [
    "- Recherche du nombre de personne sous-alimentée en Thailande dans le dataframe des pays en sous-nutrition \"ssn1\" (exporté à la question 10)"
   ]
  },
  {
   "cell_type": "code",
   "execution_count": 85,
   "metadata": {},
   "outputs": [],
   "source": [
    "NBP_SSN_THAI = ssn1[(ssn1['CPAYS'] == 216)]['NBPERS'].max()\n",
    "TXP_SSN_THAI = NBP_SSN_THAI * 100 / POP_THAI"
   ]
  },
  {
   "cell_type": "markdown",
   "metadata": {},
   "source": [
    "#####   <font color='#61210B'>Calcul de la proportion de personnes en sous-nutrition en thailande représente 9.1(%) de la population du pays (2013)"
   ]
  },
  {
   "cell_type": "code",
   "execution_count": 86,
   "metadata": {
    "scrolled": false
   },
   "outputs": [
    {
     "name": "stdout",
     "output_type": "stream",
     "text": [
      "9.103 (%), soit environ  6,100,000  thaïlandais\n"
     ]
    },
    {
     "data": {
      "text/html": [
       "<h3><u>En 2013, la proportion de personnes en sous-nutrition en thailande représente</u></h3>"
      ],
      "text/plain": [
       "<IPython.core.display.HTML object>"
      ]
     },
     "metadata": {},
     "output_type": "display_data"
    },
    {
     "data": {
      "text/markdown": [
       "<strong>            9.1(%)</strong> de la population du pays. Soit <strong>6,100,000</strong> thaïlandais"
      ],
      "text/plain": [
       "<IPython.core.display.Markdown object>"
      ]
     },
     "execution_count": 86,
     "metadata": {},
     "output_type": "execute_result"
    }
   ],
   "source": [
    "print(round(TXP_SSN_THAI,3), \"(%), soit environ \", '{:8,.0f}'.format(NBP_SSN_THAI), \" thaïlandais\")\n",
    "\n",
    "display(HTML(\"<h3><u>En 2013, la proportion de personnes en sous-nutrition en thailande représente</u></h3>\"))\n",
    "parm1 = str('{:15,.1f}'.format(TXP_SSN_THAI)) + \"(%)\"\n",
    "parm2 = \" de la population du pays. Soit \"\n",
    "parm3 = str('{:8,.0f}'.format(NBP_SSN_THAI))\n",
    "Markdown('<strong>{}</strong>{}<strong>{}</strong>{}'.format(parm1,parm2,parm3,\" thaïlandais\"))"
   ]
  },
  {
   "cell_type": "markdown",
   "metadata": {},
   "source": [
    "<hr style=\"height: 3px; color: #839D2D; width: 100%; \">\n",
    "\n",
    "###  <font color='#61210B'><u>QUESTION 15 - 20</u></font> : EXPORT DES DATAFRAMES en CSV\n",
    "\n",
    "- Pour utilisation avec SGBD SQL  :   MySQL ou SQLite3  \n",
    "Ici nous rechargeons des données de la FAOSTAT pour prendre en compte plusieurs années (2012 et la dernière disponible)"
   ]
  },
  {
   "cell_type": "code",
   "execution_count": 87,
   "metadata": {},
   "outputs": [
    {
     "name": "stdout",
     "output_type": "stream",
     "text": [
      "D:\\DATA_ANALYST\\WORK\\#GITHUB\\PJ3\\SQL\n"
     ]
    }
   ],
   "source": [
    "%cd SQL"
   ]
  },
  {
   "cell_type": "markdown",
   "metadata": {},
   "source": [
    "#####   <font color='#61210B'>Table \"population\"\n",
    "- Clé primaire proposée :  ANNEE / CPAYS"
   ]
  },
  {
   "cell_type": "code",
   "execution_count": 88,
   "metadata": {},
   "outputs": [
    {
     "data": {
      "text/html": [
       "<div>\n",
       "<style scoped>\n",
       "    .dataframe tbody tr th:only-of-type {\n",
       "        vertical-align: middle;\n",
       "    }\n",
       "\n",
       "    .dataframe tbody tr th {\n",
       "        vertical-align: top;\n",
       "    }\n",
       "\n",
       "    .dataframe thead th {\n",
       "        text-align: right;\n",
       "    }\n",
       "</style>\n",
       "<table border=\"1\" class=\"dataframe\">\n",
       "  <thead>\n",
       "    <tr style=\"text-align: right;\">\n",
       "      <th></th>\n",
       "      <th>ANNEE</th>\n",
       "      <th>CPAYS</th>\n",
       "      <th>PAYS</th>\n",
       "      <th>VALP</th>\n",
       "    </tr>\n",
       "  </thead>\n",
       "  <tbody>\n",
       "    <tr>\n",
       "      <th>0</th>\n",
       "      <td>2012</td>\n",
       "      <td>2</td>\n",
       "      <td>Afghanistan</td>\n",
       "      <td>30,696,958.00</td>\n",
       "    </tr>\n",
       "    <tr>\n",
       "      <th>1</th>\n",
       "      <td>2013</td>\n",
       "      <td>2</td>\n",
       "      <td>Afghanistan</td>\n",
       "      <td>31,731,688.00</td>\n",
       "    </tr>\n",
       "    <tr>\n",
       "      <th>2</th>\n",
       "      <td>2017</td>\n",
       "      <td>2</td>\n",
       "      <td>Afghanistan</td>\n",
       "      <td>35,530,081.00</td>\n",
       "    </tr>\n",
       "    <tr>\n",
       "      <th>3</th>\n",
       "      <td>2012</td>\n",
       "      <td>202</td>\n",
       "      <td>Afrique du Sud</td>\n",
       "      <td>52,998,213.00</td>\n",
       "    </tr>\n",
       "    <tr>\n",
       "      <th>4</th>\n",
       "      <td>2013</td>\n",
       "      <td>202</td>\n",
       "      <td>Afrique du Sud</td>\n",
       "      <td>53,767,396.00</td>\n",
       "    </tr>\n",
       "  </tbody>\n",
       "</table>\n",
       "</div>"
      ],
      "text/plain": [
       "   ANNEE  CPAYS            PAYS          VALP\n",
       "0   2012      2     Afghanistan 30,696,958.00\n",
       "1   2013      2     Afghanistan 31,731,688.00\n",
       "2   2017      2     Afghanistan 35,530,081.00\n",
       "3   2012    202  Afrique du Sud 52,998,213.00\n",
       "4   2013    202  Afrique du Sud 53,767,396.00"
      ]
     },
     "execution_count": 88,
     "metadata": {},
     "output_type": "execute_result"
    }
   ],
   "source": [
    "popsql = pd.read_csv(\"FAOSTAT_pop_2012-2017.csv\")\n",
    "popsql.columns = [\"xx\", \"xx\", \"CPAYS\", \"PAYS\", \"xx\", \"xx\", \"xx\", \"xx\", \"xx\", \n",
    "               \"ANNEE\", \"UNIT\", \"VALP\", \"xx\", \"xx\", \"xx\"]\n",
    "popsql.drop(columns=['xx'], inplace=True)\n",
    "popsql.drop(columns=['UNIT'], inplace=True)\n",
    "popsql.drop(popsql[popsql.CPAYS == varcp_chine].index, inplace=True)\n",
    "popsql['VALP'] = round(popsql['VALP'] * 1000)\n",
    "cols =  ['ANNEE', 'CPAYS', 'PAYS', 'VALP']\n",
    "popsql = popsql[cols]\n",
    "popsql.to_csv('sql_population.csv', sep=',', encoding='utf-8', index=False)\n",
    "popsql.head()"
   ]
  },
  {
   "cell_type": "markdown",
   "metadata": {},
   "source": [
    "#####   <font color='#61210B'>Table \"dispo_alim\"\n",
    "Selection avant export des colonnes requises :  \n",
    "(pays, code_pays, année, produit, code_produit, origin, dispo_alim_tonnes, dispo_alim_kcal_p_j, dispo_prot, dispo_mat_gr)\n",
    "- Clé Primaire proposée : ANNEE / CPAYS / CPROD"
   ]
  },
  {
   "cell_type": "code",
   "execution_count": 89,
   "metadata": {},
   "outputs": [],
   "source": [
    "anisql = pd.read_csv(\"FAOSTAT_ani_2012-2013.zip\")\n",
    "anisql.columns = [\"xx\", \"xx\", \"CPAYS\", \"PAYS\", \"CELEM\", \"ELEMENT\", \"CPROD\", \"PROD\", \"xx\", \n",
    "               \"ANNEE\", \"UNIT\", \"VAL\", \"xx\", \"xx\"]\n",
    "anisql.drop(columns=['xx'], inplace=True)\n",
    "anisql[\"ORIG\"] = \"animal\""
   ]
  },
  {
   "cell_type": "code",
   "execution_count": 90,
   "metadata": {},
   "outputs": [],
   "source": [
    "vegsql = pd.read_csv(\"FAOSTAT_veg_2012-2013.zip\")\n",
    "vegsql.columns = [\"xx\", \"xx\", \"CPAYS\", \"PAYS\", \"CELEM\", \"ELEMENT\", \"CPROD\", \"PROD\", \"xx\", \n",
    "               \"ANNEE\", \"UNIT\", \"VAL\", \"xx\", \"xx\"]\n",
    "vegsql.drop(columns=['xx'], inplace=True)\n",
    "vegsql[\"ORIG\"] = \"vegetal\""
   ]
  },
  {
   "cell_type": "code",
   "execution_count": 91,
   "metadata": {
    "scrolled": false
   },
   "outputs": [],
   "source": [
    "tempsql = anisql.append(vegsql)"
   ]
  },
  {
   "cell_type": "code",
   "execution_count": 92,
   "metadata": {},
   "outputs": [],
   "source": [
    "gensql = tempsql.pivot_table(\n",
    "    index=[\"CPAYS\",\"PAYS\",\"ANNEE\", \"CPROD\",\"PROD\",\"ORIG\"],\n",
    "    columns = [\"CELEM\", \"ELEMENT\", \"UNIT\"], values=[\"VAL\"], aggfunc=sum)\n",
    "gensql.columns = ['QT_DISPALI_KG', 'QT_DISPALI_KCAL', 'QT_DISPROT', 'QT_DISPMG', 'QT_VARSTOCK', 'QT_PERTES',\n",
    "                'QT_TRANSF', 'QT_NOURRIT', 'QT_AUTRES', 'QT_DISPINT', 'QT_PRODUCT', 'QT_ALIMANI', \n",
    "                'QT_SEMENCES', 'QT_IMPORT', 'QT_EXPORT']\n",
    "gensql = gensql.reset_index()\n",
    "gensql.drop(gensql[gensql.CPAYS == varcp_chine].index, inplace=True)"
   ]
  },
  {
   "cell_type": "code",
   "execution_count": 93,
   "metadata": {},
   "outputs": [
    {
     "data": {
      "text/html": [
       "<div>\n",
       "<style scoped>\n",
       "    .dataframe tbody tr th:only-of-type {\n",
       "        vertical-align: middle;\n",
       "    }\n",
       "\n",
       "    .dataframe tbody tr th {\n",
       "        vertical-align: top;\n",
       "    }\n",
       "\n",
       "    .dataframe thead th {\n",
       "        text-align: right;\n",
       "    }\n",
       "</style>\n",
       "<table border=\"1\" class=\"dataframe\">\n",
       "  <thead>\n",
       "    <tr style=\"text-align: right;\">\n",
       "      <th></th>\n",
       "      <th>ANNEE</th>\n",
       "      <th>CPAYS</th>\n",
       "      <th>PAYS</th>\n",
       "      <th>CPROD</th>\n",
       "      <th>PROD</th>\n",
       "      <th>ORIG</th>\n",
       "      <th>QT_DISPALI_T</th>\n",
       "      <th>QT_DISPALI_KCAL</th>\n",
       "      <th>QT_DISPROT</th>\n",
       "      <th>QT_DISPMG</th>\n",
       "    </tr>\n",
       "  </thead>\n",
       "  <tbody>\n",
       "    <tr>\n",
       "      <th>0</th>\n",
       "      <td>2012</td>\n",
       "      <td>1</td>\n",
       "      <td>Arménie</td>\n",
       "      <td>2511</td>\n",
       "      <td>Blé</td>\n",
       "      <td>vegetal</td>\n",
       "      <td>126,940.00</td>\n",
       "      <td>995.00</td>\n",
       "      <td>29.69</td>\n",
       "      <td>3.53</td>\n",
       "    </tr>\n",
       "    <tr>\n",
       "      <th>1</th>\n",
       "      <td>2012</td>\n",
       "      <td>1</td>\n",
       "      <td>Arménie</td>\n",
       "      <td>2513</td>\n",
       "      <td>Orge</td>\n",
       "      <td>vegetal</td>\n",
       "      <td>170.00</td>\n",
       "      <td>1.00</td>\n",
       "      <td>0.03</td>\n",
       "      <td>0.01</td>\n",
       "    </tr>\n",
       "    <tr>\n",
       "      <th>2</th>\n",
       "      <td>2012</td>\n",
       "      <td>1</td>\n",
       "      <td>Arménie</td>\n",
       "      <td>2514</td>\n",
       "      <td>Maïs</td>\n",
       "      <td>vegetal</td>\n",
       "      <td>30.00</td>\n",
       "      <td>0.00</td>\n",
       "      <td>0.01</td>\n",
       "      <td>0.00</td>\n",
       "    </tr>\n",
       "    <tr>\n",
       "      <th>3</th>\n",
       "      <td>2012</td>\n",
       "      <td>1</td>\n",
       "      <td>Arménie</td>\n",
       "      <td>2515</td>\n",
       "      <td>Seigle</td>\n",
       "      <td>vegetal</td>\n",
       "      <td>150.00</td>\n",
       "      <td>1.00</td>\n",
       "      <td>0.03</td>\n",
       "      <td>0.01</td>\n",
       "    </tr>\n",
       "    <tr>\n",
       "      <th>4</th>\n",
       "      <td>2012</td>\n",
       "      <td>1</td>\n",
       "      <td>Arménie</td>\n",
       "      <td>2516</td>\n",
       "      <td>Avoine</td>\n",
       "      <td>vegetal</td>\n",
       "      <td>320.00</td>\n",
       "      <td>2.00</td>\n",
       "      <td>0.08</td>\n",
       "      <td>0.03</td>\n",
       "    </tr>\n",
       "  </tbody>\n",
       "</table>\n",
       "</div>"
      ],
      "text/plain": [
       "   ANNEE  CPAYS     PAYS  CPROD    PROD     ORIG  QT_DISPALI_T  \\\n",
       "0   2012      1  Arménie   2511     Blé  vegetal    126,940.00   \n",
       "1   2012      1  Arménie   2513    Orge  vegetal        170.00   \n",
       "2   2012      1  Arménie   2514    Maïs  vegetal         30.00   \n",
       "3   2012      1  Arménie   2515  Seigle  vegetal        150.00   \n",
       "4   2012      1  Arménie   2516  Avoine  vegetal        320.00   \n",
       "\n",
       "   QT_DISPALI_KCAL  QT_DISPROT  QT_DISPMG  \n",
       "0           995.00       29.69       3.53  \n",
       "1             1.00        0.03       0.01  \n",
       "2             0.00        0.01       0.00  \n",
       "3             1.00        0.03       0.01  \n",
       "4             2.00        0.08       0.03  "
      ]
     },
     "execution_count": 93,
     "metadata": {},
     "output_type": "execute_result"
    }
   ],
   "source": [
    "cols =  ['ANNEE', 'CPAYS', 'PAYS', 'CPROD', 'PROD', 'ORIG',\n",
    "            'QT_DISPALI_KG', 'QT_DISPALI_KCAL', 'QT_DISPROT', 'QT_DISPMG']\n",
    "q16 = gensql.copy()\n",
    "q16 = q16[cols]\n",
    "q16['QT_DISPALI_KG'] = q16['QT_DISPALI_KG'] * 1000\n",
    "q16.rename(columns={'QT_DISPALI_KG': 'QT_DISPALI_T'}, inplace=True)\n",
    "\n",
    "q16.QT_DISPALI_T    = q16.QT_DISPALI_T.fillna(0)\n",
    "q16.QT_DISPALI_KCAL = q16.QT_DISPALI_KCAL.fillna(0)\n",
    "q16.QT_DISPROT      = q16.QT_DISPROT.fillna(0)\n",
    "q16.QT_DISPMG       = q16.QT_DISPMG.fillna(0)\n",
    "\n",
    "q16.to_csv('sql_dispo_alim.csv', sep=',', encoding='utf-8', index=False)\n",
    "q16.head()"
   ]
  },
  {
   "cell_type": "markdown",
   "metadata": {},
   "source": [
    "#####   <font color='#61210B'>Table \"equilibre_prod\"\n",
    "Selection avant export des colonnes requises :  \n",
    "(pays, code_pays, année, produit, code_produit, dispo_int, alim_ani, semences, pertes, transfo, nourriture, autres_utilisations)\n",
    "- Clé Primaire proposée : ANNEE / CPAYS / CPROD"
   ]
  },
  {
   "cell_type": "code",
   "execution_count": 94,
   "metadata": {},
   "outputs": [
    {
     "data": {
      "text/html": [
       "<div>\n",
       "<style scoped>\n",
       "    .dataframe tbody tr th:only-of-type {\n",
       "        vertical-align: middle;\n",
       "    }\n",
       "\n",
       "    .dataframe tbody tr th {\n",
       "        vertical-align: top;\n",
       "    }\n",
       "\n",
       "    .dataframe thead th {\n",
       "        text-align: right;\n",
       "    }\n",
       "</style>\n",
       "<table border=\"1\" class=\"dataframe\">\n",
       "  <thead>\n",
       "    <tr style=\"text-align: right;\">\n",
       "      <th></th>\n",
       "      <th>ANNEE</th>\n",
       "      <th>CPAYS</th>\n",
       "      <th>PAYS</th>\n",
       "      <th>CPROD</th>\n",
       "      <th>PROD</th>\n",
       "      <th>ORIG</th>\n",
       "      <th>QT_DISPINT</th>\n",
       "      <th>QT_ALIMANI</th>\n",
       "      <th>QT_SEMENCES</th>\n",
       "      <th>QT_PERTES</th>\n",
       "      <th>QT_TRANSF</th>\n",
       "      <th>QT_NOURRIT</th>\n",
       "      <th>QT_AUTRES</th>\n",
       "    </tr>\n",
       "  </thead>\n",
       "  <tbody>\n",
       "    <tr>\n",
       "      <th>0</th>\n",
       "      <td>2012</td>\n",
       "      <td>1</td>\n",
       "      <td>Arménie</td>\n",
       "      <td>2511</td>\n",
       "      <td>Blé</td>\n",
       "      <td>vegetal</td>\n",
       "      <td>532.00</td>\n",
       "      <td>92.00</td>\n",
       "      <td>23.00</td>\n",
       "      <td>29.00</td>\n",
       "      <td>10.00</td>\n",
       "      <td>377.00</td>\n",
       "      <td>0.00</td>\n",
       "    </tr>\n",
       "    <tr>\n",
       "      <th>1</th>\n",
       "      <td>2012</td>\n",
       "      <td>1</td>\n",
       "      <td>Arménie</td>\n",
       "      <td>2513</td>\n",
       "      <td>Orge</td>\n",
       "      <td>vegetal</td>\n",
       "      <td>172.00</td>\n",
       "      <td>121.00</td>\n",
       "      <td>14.00</td>\n",
       "      <td>14.00</td>\n",
       "      <td>7.00</td>\n",
       "      <td>1.00</td>\n",
       "      <td>16.00</td>\n",
       "    </tr>\n",
       "    <tr>\n",
       "      <th>2</th>\n",
       "      <td>2012</td>\n",
       "      <td>1</td>\n",
       "      <td>Arménie</td>\n",
       "      <td>2514</td>\n",
       "      <td>Maïs</td>\n",
       "      <td>vegetal</td>\n",
       "      <td>58.00</td>\n",
       "      <td>53.00</td>\n",
       "      <td>0.00</td>\n",
       "      <td>5.00</td>\n",
       "      <td>0.00</td>\n",
       "      <td>0.00</td>\n",
       "      <td>0.00</td>\n",
       "    </tr>\n",
       "    <tr>\n",
       "      <th>3</th>\n",
       "      <td>2012</td>\n",
       "      <td>1</td>\n",
       "      <td>Arménie</td>\n",
       "      <td>2515</td>\n",
       "      <td>Seigle</td>\n",
       "      <td>vegetal</td>\n",
       "      <td>1.00</td>\n",
       "      <td>1.00</td>\n",
       "      <td>0.00</td>\n",
       "      <td>0.00</td>\n",
       "      <td>0.00</td>\n",
       "      <td>0.00</td>\n",
       "      <td>0.00</td>\n",
       "    </tr>\n",
       "    <tr>\n",
       "      <th>4</th>\n",
       "      <td>2012</td>\n",
       "      <td>1</td>\n",
       "      <td>Arménie</td>\n",
       "      <td>2516</td>\n",
       "      <td>Avoine</td>\n",
       "      <td>vegetal</td>\n",
       "      <td>4.00</td>\n",
       "      <td>3.00</td>\n",
       "      <td>0.00</td>\n",
       "      <td>0.00</td>\n",
       "      <td>0.00</td>\n",
       "      <td>1.00</td>\n",
       "      <td>0.00</td>\n",
       "    </tr>\n",
       "  </tbody>\n",
       "</table>\n",
       "</div>"
      ],
      "text/plain": [
       "   ANNEE  CPAYS     PAYS  CPROD    PROD     ORIG  QT_DISPINT  QT_ALIMANI  \\\n",
       "0   2012      1  Arménie   2511     Blé  vegetal      532.00       92.00   \n",
       "1   2012      1  Arménie   2513    Orge  vegetal      172.00      121.00   \n",
       "2   2012      1  Arménie   2514    Maïs  vegetal       58.00       53.00   \n",
       "3   2012      1  Arménie   2515  Seigle  vegetal        1.00        1.00   \n",
       "4   2012      1  Arménie   2516  Avoine  vegetal        4.00        3.00   \n",
       "\n",
       "   QT_SEMENCES  QT_PERTES  QT_TRANSF  QT_NOURRIT  QT_AUTRES  \n",
       "0        23.00      29.00      10.00      377.00       0.00  \n",
       "1        14.00      14.00       7.00        1.00      16.00  \n",
       "2         0.00       5.00       0.00        0.00       0.00  \n",
       "3         0.00       0.00       0.00        0.00       0.00  \n",
       "4         0.00       0.00       0.00        1.00       0.00  "
      ]
     },
     "execution_count": 94,
     "metadata": {},
     "output_type": "execute_result"
    }
   ],
   "source": [
    "q17 = gensql[['ANNEE', 'CPAYS', 'PAYS', 'CPROD', 'PROD', 'ORIG', 'QT_DISPINT', 'QT_ALIMANI',\n",
    "           'QT_SEMENCES', 'QT_PERTES', 'QT_TRANSF', 'QT_NOURRIT', 'QT_AUTRES']].copy()\n",
    "\n",
    "q17.QT_DISPINT  = q17.QT_DISPINT.fillna(0)\n",
    "q17.QT_ALIMANI  = q17.QT_ALIMANI.fillna(0)\n",
    "q17.QT_SEMENCES = q17.QT_SEMENCES.fillna(0)\n",
    "q17.QT_PERTES   = q17.QT_PERTES.fillna(0)\n",
    "q17.QT_TRANSF   = q17.QT_TRANSF.fillna(0)\n",
    "q17.QT_NOURRIT  = q17.QT_NOURRIT.fillna(0)\n",
    "q17.QT_AUTRES   = q17.QT_AUTRES.fillna(0)\n",
    "\n",
    "q17.to_csv('sql_equilibre_prod.csv', sep=',', encoding='utf-8', index=False)\n",
    "q17.head()"
   ]
  },
  {
   "cell_type": "markdown",
   "metadata": {},
   "source": [
    "#####   <font color='#61210B'>Table \"sous-nutrition\"\n",
    "Le même principe de la question Q10 peut être utilisé ici.\n",
    "\n",
    "- Clé Primaire proposée : ANNEE / CPAYS"
   ]
  },
  {
   "cell_type": "code",
   "execution_count": 95,
   "metadata": {},
   "outputs": [
    {
     "data": {
      "text/html": [
       "<div>\n",
       "<style scoped>\n",
       "    .dataframe tbody tr th:only-of-type {\n",
       "        vertical-align: middle;\n",
       "    }\n",
       "\n",
       "    .dataframe tbody tr th {\n",
       "        vertical-align: top;\n",
       "    }\n",
       "\n",
       "    .dataframe thead th {\n",
       "        text-align: right;\n",
       "    }\n",
       "</style>\n",
       "<table border=\"1\" class=\"dataframe\">\n",
       "  <thead>\n",
       "    <tr style=\"text-align: right;\">\n",
       "      <th></th>\n",
       "      <th>ANNEE</th>\n",
       "      <th>CPAYS</th>\n",
       "      <th>PAYS</th>\n",
       "      <th>NB_PERS_SSN</th>\n",
       "    </tr>\n",
       "  </thead>\n",
       "  <tbody>\n",
       "    <tr>\n",
       "      <th>0</th>\n",
       "      <td>2013</td>\n",
       "      <td>2</td>\n",
       "      <td>Afghanistan</td>\n",
       "      <td>8,100,000.00</td>\n",
       "    </tr>\n",
       "    <tr>\n",
       "      <th>1</th>\n",
       "      <td>2016</td>\n",
       "      <td>2</td>\n",
       "      <td>Afghanistan</td>\n",
       "      <td>10,500,000.00</td>\n",
       "    </tr>\n",
       "    <tr>\n",
       "      <th>2</th>\n",
       "      <td>2013</td>\n",
       "      <td>202</td>\n",
       "      <td>Afrique du Sud</td>\n",
       "      <td>2,600,000.00</td>\n",
       "    </tr>\n",
       "    <tr>\n",
       "      <th>3</th>\n",
       "      <td>2016</td>\n",
       "      <td>202</td>\n",
       "      <td>Afrique du Sud</td>\n",
       "      <td>3,400,000.00</td>\n",
       "    </tr>\n",
       "    <tr>\n",
       "      <th>4</th>\n",
       "      <td>2013</td>\n",
       "      <td>3</td>\n",
       "      <td>Albanie</td>\n",
       "      <td>200,000.00</td>\n",
       "    </tr>\n",
       "  </tbody>\n",
       "</table>\n",
       "</div>"
      ],
      "text/plain": [
       "  ANNEE  CPAYS            PAYS   NB_PERS_SSN\n",
       "0  2013      2     Afghanistan  8,100,000.00\n",
       "1  2016      2     Afghanistan 10,500,000.00\n",
       "2  2013    202  Afrique du Sud  2,600,000.00\n",
       "3  2016    202  Afrique du Sud  3,400,000.00\n",
       "4  2013      3         Albanie    200,000.00"
      ]
     },
     "execution_count": 95,
     "metadata": {},
     "output_type": "execute_result"
    }
   ],
   "source": [
    "q18 = ssn[['ANNEE', 'CZONE', 'ZONE', 'VAL', 'UNIT']].copy()\n",
    "q18['NB_PERS_SSN'] = q18['VAL'] * 1000000\n",
    "q18.drop(columns=['VAL', 'UNIT'], inplace=True)\n",
    "q18.drop(q18[q18.CZONE == varcp_chine].index, inplace=True)\n",
    "q18['ANNEE'] = np.where(q18['ANNEE']=='2012-2014', 2013, q18['ANNEE'])\n",
    "q18['ANNEE'] = np.where(q18['ANNEE']=='2015-2017', 2016, q18['ANNEE'])\n",
    "q18.NB_PERS_SSN = q18.NB_PERS_SSN.fillna(0)\n",
    "q18.rename(columns={'CZONE': 'CPAYS'}, inplace=True)\n",
    "q18.rename(columns={'ZONE': 'PAYS'}, inplace=True)\n",
    "q18.to_csv('sql_sous-nutrition.csv', sep=',', encoding='utf-8', index=False)\n",
    "q18.head()"
   ]
  },
  {
   "cell_type": "code",
   "execution_count": 96,
   "metadata": {},
   "outputs": [
    {
     "name": "stdout",
     "output_type": "stream",
     "text": [
      "--- Durée TOTALE du Notebook PJ3 ---  18.74163 seconds\n"
     ]
    }
   ],
   "source": [
    "dureetotale = round(time.time() - trt_start_time, 5)\n",
    "print(\"--- Durée TOTALE du Notebook PJ3 --- \", \"%s seconds\" % dureetotale)"
   ]
  }
 ],
 "metadata": {
  "kernelspec": {
   "display_name": "Python 3",
   "language": "python",
   "name": "python3"
  },
  "language_info": {
   "codemirror_mode": {
    "name": "ipython",
    "version": 3
   },
   "file_extension": ".py",
   "mimetype": "text/x-python",
   "name": "python",
   "nbconvert_exporter": "python",
   "pygments_lexer": "ipython3",
   "version": "3.7.6"
  },
  "varInspector": {
   "cols": {
    "lenName": 16,
    "lenType": 16,
    "lenVar": 40
   },
   "kernels_config": {
    "python": {
     "delete_cmd_postfix": "",
     "delete_cmd_prefix": "del ",
     "library": "var_list.py",
     "varRefreshCmd": "print(var_dic_list())"
    },
    "r": {
     "delete_cmd_postfix": ") ",
     "delete_cmd_prefix": "rm(",
     "library": "var_list.r",
     "varRefreshCmd": "cat(var_dic_list()) "
    }
   },
   "types_to_exclude": [
    "module",
    "function",
    "builtin_function_or_method",
    "instance",
    "_Feature"
   ],
   "window_display": false
  }
 },
 "nbformat": 4,
 "nbformat_minor": 2
}
